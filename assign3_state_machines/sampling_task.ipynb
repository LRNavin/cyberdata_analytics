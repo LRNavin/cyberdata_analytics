{
 "cells": [
  {
   "cell_type": "markdown",
   "metadata": {},
   "source": [
    "# Data Stream - Pilot"
   ]
  },
  {
   "cell_type": "code",
   "execution_count": 1,
   "metadata": {},
   "outputs": [],
   "source": [
    "import pandas as pd\n",
    "import numpy as np"
   ]
  },
  {
   "cell_type": "code",
   "execution_count": 3,
   "metadata": {},
   "outputs": [
    {
     "name": "stderr",
     "output_type": "stream",
     "text": [
      "/Users/navinLR/anaconda2/lib/python2.7/site-packages/IPython/core/interactiveshell.py:2714: DtypeWarning: Columns (13) have mixed types. Specify dtype option on import or set low_memory=False.\n",
      "  interactivity=interactivity, compiler=compiler, result=result)\n"
     ]
    },
    {
     "name": "stdout",
     "output_type": "stream",
     "text": [
      "<class 'pandas.core.frame.DataFrame'>\n",
      "408835\n",
      "         Date          Time  Durat Prot    Src IP Addr:Port Dir  \\\n",
      "0  2011-08-18  10:39:35.289    0.0  TCP  85.3.219.122:55347  ->   \n",
      "1  2011-08-18  10:39:36.067    0.0  TCP  85.3.219.122:55347  ->   \n",
      "2  2011-08-18  10:39:36.754    0.0  TCP  85.3.219.122:55347  ->   \n",
      "3  2011-08-18  10:39:37.079    0.0  TCP   84.13.8.236:61289  ->   \n",
      "4  2011-08-18  10:39:37.186    0.0  TCP    147.32.3.51:4397  ->   \n",
      "\n",
      "     Dst IP Addr:Port Flags  Tos  Packets  Bytes  Flows       Label  \n",
      "0  147.32.84.118:6881  S_RA    0        2    120      1  Background  \n",
      "1  147.32.84.118:6881  S_RA    0        2    120      1  Background  \n",
      "2  147.32.84.118:6881  S_RA    0        2    116      1  Background  \n",
      "3  147.32.84.118:6881  S_RA    0        2    120      1  Background  \n",
      "4  147.32.87.22:10010  S_RA    0        2    116      1  Background  \n"
     ]
    }
   ],
   "source": [
    "df = pd.read_table('dataset/capture20110818-2.pcap.netflow.labeled',delim_whitespace=True) \n",
    "print(type(df))\n",
    "\n",
    "df = df.iloc[:,:-5]\n",
    "df.columns = ['Date','Time','Durat','Prot','Src IP Addr:Port','Dir','Dst IP Addr:Port','Flags','Tos','Packets','Bytes','Flows','Label']\n",
    "LEN_DF = len(df)\n",
    "print(LEN_DF)\n",
    "print(df.head())"
   ]
  },
  {
   "cell_type": "code",
   "execution_count": 4,
   "metadata": {},
   "outputs": [
    {
     "name": "stdout",
     "output_type": "stream",
     "text": [
      "         Date          Time  Durat Prot    Src IP Addr:Port Dir  \\\n",
      "0  2011-08-18  10:39:35.289    0.0  TCP  85.3.219.122:55347  ->   \n",
      "1  2011-08-18  10:39:36.067    0.0  TCP  85.3.219.122:55347  ->   \n",
      "2  2011-08-18  10:39:36.754    0.0  TCP  85.3.219.122:55347  ->   \n",
      "3  2011-08-18  10:39:37.079    0.0  TCP   84.13.8.236:61289  ->   \n",
      "4  2011-08-18  10:39:37.186    0.0  TCP    147.32.3.51:4397  ->   \n",
      "\n",
      "     Dst IP Addr:Port Flags  Tos  Packets  Bytes  Flows       Label  \\\n",
      "0  147.32.84.118:6881  S_RA    0        2    120      1  Background   \n",
      "1  147.32.84.118:6881  S_RA    0        2    120      1  Background   \n",
      "2  147.32.84.118:6881  S_RA    0        2    116      1  Background   \n",
      "3  147.32.84.118:6881  S_RA    0        2    120      1  Background   \n",
      "4  147.32.87.22:10010  S_RA    0        2    116      1  Background   \n",
      "\n",
      "     Des_address   Port  \n",
      "0  147.32.84.118   6881  \n",
      "1  147.32.84.118   6881  \n",
      "2  147.32.84.118   6881  \n",
      "3  147.32.84.118   6881  \n",
      "4   147.32.87.22  10010  \n",
      "Label:\n",
      "3\n",
      "['Background' 'Botnet' 'LEGITIMATE']\n",
      "Protocol:\n",
      "10\n",
      "['ARP' 'ICMP' 'IGMP' 'IPV6' 'IPX/SPX' 'PIM' 'RARP' 'RTCP' 'TCP' 'UDP']\n",
      "(1, 6.0, 78781)\n"
     ]
    }
   ],
   "source": [
    "#Seperate address and port\n",
    "addr = []\n",
    "port = []\n",
    "for i in df['Dst IP Addr:Port']:\n",
    "    try:\n",
    "        s = i.split(':', 1)\n",
    "        addr.append(s[0])\n",
    "        port.append(s[1])\n",
    "    except:\n",
    "        port.append('Null')\n",
    "\n",
    "df['Des_address'] = addr\n",
    "df['Port'] = port\n",
    "print(df.head())\n",
    "# Check Dataset Ip, protocol, port and label\n",
    "label = np.unique(df['Label'].values)\n",
    "print('Label:')\n",
    "print(len(label))\n",
    "print(label)\n",
    "\n",
    "print('Protocol:')\n",
    "protocol = np.unique(df['Prot'].values)\n",
    "print(len(protocol))\n",
    "print(protocol)\n",
    "\n",
    "min_pac = min(df['Packets'])\n",
    "max_pac = max(df['Packets'])\n",
    "med_pac = np.median(df['Packets'].values)\n",
    "print(min_pac,med_pac,max_pac)\n",
    "s = df['Packets'].sort_values()"
   ]
  },
  {
   "cell_type": "markdown",
   "metadata": {},
   "source": [
    "### Top 10 most frequent address before sampling"
   ]
  },
  {
   "cell_type": "code",
   "execution_count": 5,
   "metadata": {},
   "outputs": [
    {
     "name": "stdout",
     "output_type": "stream",
     "text": [
      "15258\n",
      "147.32.96.69      279763\n",
      "147.32.80.9        29441\n",
      "147.32.84.229      28445\n",
      "147.32.86.116      11692\n",
      "147.32.84.59        3324\n",
      "147.32.80.13         901\n",
      "147.32.84.118        625\n",
      "147.32.84.2          619\n",
      "76.13.114.90         571\n",
      "209.85.149.132       571\n",
      "Name: Des_address, dtype: int64\n"
     ]
    }
   ],
   "source": [
    "des_ip = np.unique(df['Des_address'])\n",
    "des_ip_sort = df['Des_address'].value_counts()\n",
    "print(len(des_ip))\n",
    "print(des_ip_sort[:10])\n",
    "ori_ip = des_ip_sort[:10].index.values"
   ]
  },
  {
   "cell_type": "markdown",
   "metadata": {},
   "source": [
    "## Sampling Task"
   ]
  },
  {
   "cell_type": "code",
   "execution_count": null,
   "metadata": {},
   "outputs": [],
   "source": []
  }
 ],
 "metadata": {
  "kernelspec": {
   "display_name": "Python 2",
   "language": "python",
   "name": "python2"
  },
  "language_info": {
   "codemirror_mode": {
    "name": "ipython",
    "version": 2
   },
   "file_extension": ".py",
   "mimetype": "text/x-python",
   "name": "python",
   "nbconvert_exporter": "python",
   "pygments_lexer": "ipython2",
   "version": "2.7.15"
  }
 },
 "nbformat": 4,
 "nbformat_minor": 2
}
