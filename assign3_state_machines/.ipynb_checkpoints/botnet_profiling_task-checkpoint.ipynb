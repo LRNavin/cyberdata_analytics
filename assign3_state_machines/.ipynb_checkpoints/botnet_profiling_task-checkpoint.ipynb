{
 "cells": [
  {
   "cell_type": "markdown",
   "metadata": {},
   "source": [
    "# Profiling Task in Botnet Sequential Data"
   ]
  },
  {
   "cell_type": "code",
   "execution_count": 1,
   "metadata": {},
   "outputs": [],
   "source": [
    "import os\n",
    "import pandas as pd\n",
    "import numpy as np\n",
    "\n",
    "import matplotlib.pyplot as plt\n",
    "\n",
    "from sklearn.cluster import KMeans\n",
    "from sklearn.metrics import confusion_matrix\n",
    "from collections import Counter"
   ]
  },
  {
   "cell_type": "markdown",
   "metadata": {},
   "source": [
    "### Pre-process & Clean Data"
   ]
  },
  {
   "cell_type": "code",
   "execution_count": 2,
   "metadata": {},
   "outputs": [
    {
     "name": "stdout",
     "output_type": "stream",
     "text": [
      "Length of Dataframe - 5180851\n",
      "Number of LEGITIMATE - 321917\n",
      "Number of INFECTED - 323441\n"
     ]
    }
   ],
   "source": [
    "# Function performing preprocessing\n",
    "#54\n",
    "# df = pd.read_table('dataset/capture20110815-3.pcap.netflow.labeled',delim_whitespace=True) \n",
    "#52\n",
    "# df = pd.read_table('dataset/capture20110818-2.pcap.netflow.labeled',delim_whitespace=True) \n",
    "#51\n",
    "df = pd.read_table('dataset/capture20110818.pcap.netflow.labeled',delim_whitespace=True) \n",
    "#47\n",
    "# df = pd.read_table('dataset/capture20110816.pcap.netflow.labeled',delim_whitespace=True) \n",
    "#48\n",
    "# df = pd.read_table('dataset/capture20110816-2.pcap.netflow.labeled',delim_whitespace=True) \n",
    "df = df.iloc[:,:-5]\n",
    "df.columns = ['Date','Time','Durat','Prot','Src IP Addr:Port','Dir','Dst IP Addr:Port','Flags','Tos','Packets','Bytes','Flows','Label']\n",
    "LEN_DF = len(df)\n",
    "print(\"Length of Dataframe - \" + str(LEN_DF))\n",
    "#Seperate address and port\n",
    "addr = []\n",
    "port = []\n",
    "for i in df['Src IP Addr:Port']:\n",
    "    try:\n",
    "        s = i.split(':', 1)\n",
    "        addr.append(s[0])\n",
    "        port.append(s[1])\n",
    "    except:\n",
    "        port.append('Null')\n",
    "\n",
    "df['Src_address'] = addr\n",
    "df['Port'] = port\n",
    "\n",
    "## Factorize Protocol\n",
    "pro_fac,uniques  = pd.factorize(df['Prot'])\n",
    "df['Prot_fac'] = pro_fac\n",
    "\n",
    "flag_fac,u = pd.factorize(df['Flags'])\n",
    "df['Flags_fac'] = flag_fac\n",
    "      \n",
    "# Extract records labeled as LEGITIMATE\n",
    "legit_df = df.loc[df['Label']=='LEGITIMATE',:]\n",
    "legit_df.index = range(len(legit_df))\n",
    "print(\"Number of LEGITIMATE - \" + str(len(legit_df)))\n",
    "\n",
    "# Extract records labeled as Infected/Botnet\n",
    "infected_df = df.loc[df['Label']=='Botnet',:]\n",
    "print(\"Number of INFECTED - \" + str(len(infected_df)))\n",
    "infected_df.index = range(len(infected_df))\n"
   ]
  },
  {
   "cell_type": "code",
   "execution_count": 8,
   "metadata": {},
   "outputs": [
    {
     "data": {
      "text/plain": [
       "471"
      ]
     },
     "execution_count": 8,
     "metadata": {},
     "output_type": "execute_result"
    }
   ],
   "source": [
    "len(df[df['Label'] == \"LEGITIMATE\"][\"Src_address\"].unique())"
   ]
  },
  {
   "cell_type": "code",
   "execution_count": 3,
   "metadata": {},
   "outputs": [
    {
     "name": "stdout",
     "output_type": "stream",
     "text": [
      "['ICMP' 'TCP' 'UDP']\n",
      "['ICMP' 'TCP' 'UDP']\n",
      "[0]\n"
     ]
    }
   ],
   "source": [
    "# Unique infected protocol\n",
    "print(np.unique(infected_df['Prot']))\n",
    "# Unique legitimate protocol\n",
    "print(np.unique(legit_df['Prot']))\n",
    "print(np.unique(infected_df['Tos']))"
   ]
  },
  {
   "cell_type": "markdown",
   "metadata": {},
   "source": [
    "### One infected Host for analysis"
   ]
  },
  {
   "cell_type": "code",
   "execution_count": 4,
   "metadata": {},
   "outputs": [
    {
     "name": "stdout",
     "output_type": "stream",
     "text": [
      "19889\n"
     ]
    }
   ],
   "source": [
    "select = infected_df['Src_address'][1]\n",
    "\n",
    "host = infected_df.loc[infected_df['Src_address'] == select,:]\n",
    "print(len(host))"
   ]
  },
  {
   "cell_type": "markdown",
   "metadata": {},
   "source": [
    "### Normalize and Discretize Features"
   ]
  },
  {
   "cell_type": "code",
   "execution_count": 80,
   "metadata": {},
   "outputs": [],
   "source": [
    "from sklearn.preprocessing import normalize\n",
    "\n",
    "def norm(x):\n",
    "    normalized = (x-min(x))/(max(x)-min(x))\n",
    "    return normalized\n",
    "\n",
    "package = norm(np.asarray(host['Packets']))\n",
    "print (\"Pacakges Type - \" + )\n",
    "byte = norm(np.asarray(host['Bytes']))\n",
    "flag = norm(np.asarray(host['Flags_fac']))\n",
    "protocol = norm(np.asarray(host['Prot_fac']))\n",
    "\n",
    "def discretize(data,LEN_PRO,LEN_FLAG):\n",
    "\n",
    "    space_size = LEN_PRO*LEN_FLAG\n",
    "    length = [LEN_PRO,LEN_FLAG]\n",
    "    code = 0\n",
    "    for i in range(2):\n",
    "        fac = space_size/length[i]\n",
    "        code = code + data.ix[:,i]*fac\n",
    "        space_size = fac\n",
    "    return code"
   ]
  },
  {
   "cell_type": "code",
   "execution_count": 81,
   "metadata": {},
   "outputs": [
    {
     "name": "stdout",
     "output_type": "stream",
     "text": [
      "Protocol:\n",
      "14\n",
      "['ARP' 'ESP' 'ICMP' 'IGMP' 'IPV6' 'IPV6-ICMP' 'IPX/SPX' 'LLC' 'PIM' 'RTCP'\n",
      " 'RTP' 'TCP' 'UDP' 'UDT']\n",
      "Flags:\n",
      "95\n",
      "['AC_' 'AHA' 'A_' 'CON' 'DCE' 'DNP' 'DNQ' 'ECO' 'ECR' 'FAU_' 'FA_' 'FPAC_'\n",
      " 'FPA_' 'FRAC_' 'FRA_' 'FRPAC_' 'FRPA_' 'FSAU_' 'FSA_' 'FSPAC_' 'FSPAEC_'\n",
      " 'FSPA_' 'FSRA_' 'FSRPAC_' 'FSRPA_' 'FSR_' 'FS_' 'F_' 'IAH' 'INT' 'IRQ'\n",
      " 'IRR' 'MAS' 'MHR' 'MRP' 'MRQ' 'MSR' 'NNA' 'NNS' 'NRA' 'NRS' 'PAC_' 'PAR'\n",
      " 'PA_' 'PHO' 'PTB' 'RA_' 'RC_' 'RED' 'ROB' 'RPA_' 'RPA_FRPA' 'RTA' 'RTS'\n",
      " 'R_' 'SA_' 'SEC' 'SEC_' 'SKP' 'SPAC_' 'SPA_' 'SRA_' 'SRC' 'SRC_' 'SRPA_'\n",
      " 'SR_' 'S_' 'TRC' 'TSR' 'TST' 'TXD' 'UNK' 'UR' 'URCUT' 'URF' 'URFIL' 'URH'\n",
      " 'URHPRO' 'URHTOS' 'URHU' 'URISO' 'URN' 'URNPRO' 'URNU' 'URO' 'URP'\n",
      " 'URPRE' 'URS' 'WAY' '_FSA' '_FSPA' '_FSPAC' '_FSRA' '_FSRPA' '___']\n",
      "5180851\n",
      "   code       label\n",
      "0     0  Background\n",
      "1    96  Background\n",
      "2    96  Background\n",
      "3     2  Background\n",
      "4     3  Background\n"
     ]
    },
    {
     "name": "stderr",
     "output_type": "stream",
     "text": [
      "/Users/navinLR/anaconda2/lib/python2.7/site-packages/ipykernel_launcher.py:19: DeprecationWarning: \n",
      ".ix is deprecated. Please use\n",
      ".loc for label based indexing or\n",
      ".iloc for positional indexing\n",
      "\n",
      "See the documentation here:\n",
      "http://pandas.pydata.org/pandas-docs/stable/indexing.html#ix-indexer-is-deprecated\n",
      "/Users/navinLR/anaconda2/lib/python2.7/site-packages/ipykernel_launcher.py:16: DeprecationWarning: \n",
      ".ix is deprecated. Please use\n",
      ".loc for label based indexing or\n",
      ".iloc for positional indexing\n",
      "\n",
      "See the documentation here:\n",
      "http://pandas.pydata.org/pandas-docs/stable/indexing.html#ix-indexer-is-deprecated\n",
      "  app.launch_new_instance()\n"
     ]
    }
   ],
   "source": [
    "## discretize the selected two features -- Flags factor & Protocol factor\n",
    "\n",
    "print('Protocol:')\n",
    "protocol = np.unique(df['Prot'].values)\n",
    "LEN_PRO = len(protocol) \n",
    "print(LEN_PRO)\n",
    "print(protocol)\n",
    "\n",
    "print('Flags:')\n",
    "flags = np.unique(df['Flags'].values)\n",
    "LEN_FLAG = len(flags)\n",
    "print(LEN_FLAG)\n",
    "print(flags)\n",
    "\n",
    "code = discretize(df[['Prot_fac','Flags_fac']],LEN_PRO,LEN_FLAG)\n",
    "discre_feature = pd.DataFrame({'code':code,'label':df.ix[:,'Label']})\n",
    "print(len(discre_feature))\n",
    "print(discre_feature.head())"
   ]
  },
  {
   "cell_type": "code",
   "execution_count": 82,
   "metadata": {},
   "outputs": [
    {
     "name": "stderr",
     "output_type": "stream",
     "text": [
      "/Users/navinLR/anaconda2/lib/python2.7/site-packages/ipykernel_launcher.py:2: DeprecationWarning: \n",
      ".ix is deprecated. Please use\n",
      ".loc for label based indexing or\n",
      ".iloc for positional indexing\n",
      "\n",
      "See the documentation here:\n",
      "http://pandas.pydata.org/pandas-docs/stable/indexing.html#ix-indexer-is-deprecated\n",
      "  \n",
      "/Users/navinLR/anaconda2/lib/python2.7/site-packages/ipykernel_launcher.py:3: DeprecationWarning: \n",
      ".ix is deprecated. Please use\n",
      ".loc for label based indexing or\n",
      ".iloc for positional indexing\n",
      "\n",
      "See the documentation here:\n",
      "http://pandas.pydata.org/pandas-docs/stable/indexing.html#ix-indexer-is-deprecated\n",
      "  This is separate from the ipykernel package so we can avoid doing imports until\n",
      "/Users/navinLR/anaconda2/lib/python2.7/site-packages/ipykernel_launcher.py:4: DeprecationWarning: \n",
      ".ix is deprecated. Please use\n",
      ".loc for label based indexing or\n",
      ".iloc for positional indexing\n",
      "\n",
      "See the documentation here:\n",
      "http://pandas.pydata.org/pandas-docs/stable/indexing.html#ix-indexer-is-deprecated\n",
      "  after removing the cwd from sys.path.\n"
     ]
    },
    {
     "name": "stdout",
     "output_type": "stream",
     "text": [
      "\n",
      "Number of Legitimates : 321917\n",
      " Number of Background : 4535493\n",
      " Number of Infected : 323441\n"
     ]
    }
   ],
   "source": [
    "# Class Details -\n",
    "legitimate = discre_feature.ix[discre_feature['label'] == 'LEGITIMATE',:]\n",
    "background = discre_feature.ix[discre_feature['label'] == 'Background',:]\n",
    "infected = discre_feature.ix[discre_feature['label'] == 'Botnet',:]\n",
    "print(\"\\nNumber of Legitimates : \" + str(len(legitimate)) + \"\\n Number of Background : \" + str(len(background)) + \"\\n Number of Infected : \" + str(len(infected)))\n"
   ]
  },
  {
   "cell_type": "code",
   "execution_count": 83,
   "metadata": {},
   "outputs": [
    {
     "name": "stdout",
     "output_type": "stream",
     "text": [
      "19889\n"
     ]
    },
    {
     "name": "stderr",
     "output_type": "stream",
     "text": [
      "/Users/navinLR/anaconda2/lib/python2.7/site-packages/ipykernel_launcher.py:25: SettingWithCopyWarning: \n",
      "A value is trying to be set on a copy of a slice from a DataFrame.\n",
      "Try using .loc[row_indexer,col_indexer] = value instead\n",
      "\n",
      "See the caveats in the documentation: http://pandas.pydata.org/pandas-docs/stable/indexing.html#indexing-view-versus-copy\n"
     ]
    }
   ],
   "source": [
    "# Train Set Split\n",
    "# select_for_train = infected_df['Src_address'][1]\n",
    "host_train = infected_df.loc[infected_df['Src_address'] == select,:]\n",
    "print(len(host))\n",
    "\n",
    "df['dis_feature']=discre_feature['code']\n",
    "df.head()\n",
    "no_bg_df = df.loc[df['Label'] != 'Background',:]\n",
    "# no_bg_df.head()\n",
    "\n",
    "level = np.array(no_bg_df['dis_feature'])\n",
    "dis_level=[]\n",
    "for i in range(len(level)):\n",
    "    item = level[i]\n",
    "    if item < 60:\n",
    "        code = 0\n",
    "    elif (item>=60 and item <120):\n",
    "        code =1\n",
    "    elif (item>=120 and item < 220 ):\n",
    "        code = 2\n",
    "    elif (item >=220):\n",
    "        code = 3\n",
    "    dis_level.append(code)\n",
    "    \n",
    "no_bg_df['level'] = dis_level\n",
    "\n",
    "print(dis_level)\n",
    "\n",
    "# Split df to class-wise for Profiling\n",
    "infected_df = no_bg_df.loc[df['Label']=='Botnet',:]\n",
    "legit_df    = no_bg_df.loc[df['Label'] == 'LEGITIMATE']\n",
    "\n"
   ]
  },
  {
   "cell_type": "markdown",
   "metadata": {},
   "source": [
    "### Plot Discretized Data - Legitimate VS Attacks"
   ]
  },
  {
   "cell_type": "code",
   "execution_count": 84,
   "metadata": {},
   "outputs": [
    {
     "data": {
      "text/plain": [
       "<matplotlib.legend.Legend at 0x1a18da5f90>"
      ]
     },
     "execution_count": 84,
     "metadata": {},
     "output_type": "execute_result"
    },
    {
     "data": {
      "image/png": "[encoded data removed]",
      "text/plain": [
       "<Figure size 2880x288 with 1 Axes>"
      ]
     },
     "metadata": {
      "needs_background": "light"
     },
     "output_type": "display_data"
    }
   ],
   "source": [
    "# plot the discritize data\n",
    "plt.figure(figsize=(40,4))\n",
    "\n",
    "plt.plot(legit_df['level'],'bp')\n",
    "plt.plot(infected_df['level'],'rp')\n",
    "plt.legend(['Legitimate','Infected'])"
   ]
  },
  {
   "cell_type": "code",
   "execution_count": 85,
   "metadata": {
    "scrolled": true
   },
   "outputs": [
    {
     "name": "stdout",
     "output_type": "stream",
     "text": [
      " Number of Infects : 31\n",
      " Number of Legits : 299\n"
     ]
    }
   ],
   "source": [
    "# Infected and Legit w.r.t SRC Adress\n",
    "\n",
    "legit_set=[]\n",
    "for i in set(legit_df['Src_address']):\n",
    "    legit_set.append(i)\n",
    "    \n",
    "infected_set=[]\n",
    "for i in set(infected_df['Src_address']):\n",
    "    infected_set.append(i)\n",
    "    \n",
    "v_infected_set=[]\n",
    "for ip in infected_set:\n",
    "    host_tst = infected_df.loc[infected_df['Src_address'] == ip,:]\n",
    "    if len(host_tst)>5:\n",
    "        v_infected_set.append(ip)\n",
    "        \n",
    "v_legit_set=[]\n",
    "for ip in legit_set:\n",
    "    host_tst = legit_df.loc[legit_df['Src_address'] == ip,:]\n",
    "    if len(host_tst)>5:\n",
    "        v_legit_set.append(ip)\n",
    "        \n",
    "print(\" Number of Infects : \" + str(len(v_infected_set)) + \"\\n Number of Legits : \" + str(len(v_legit_set)))\n",
    "\n"
   ]
  },
  {
   "cell_type": "code",
   "execution_count": 86,
   "metadata": {},
   "outputs": [],
   "source": [
    "# Get only infects function\n",
    "def get_infected_signal(ip,infected=True):\n",
    "#     print(legit_df.columns.values) \n",
    "#     print(infected_df.columns.values)    \n",
    "\n",
    "    if not infected:\n",
    "        host_tst = legit_df.loc[legit_df['Src_address'] == ip,:]\n",
    "    else:\n",
    "        host_tst = infected_df.loc[infected_df['Src_address'] == ip,:]\n",
    "\n",
    "#     print(host_tst.columns.values)    \n",
    "    signal_tst = np.array(host_tst['level'])\n",
    "    return signal_tst"
   ]
  },
  {
   "cell_type": "markdown",
   "metadata": {},
   "source": [
    "### Learn Sequential Model - HMM"
   ]
  },
  {
   "cell_type": "code",
   "execution_count": 87,
   "metadata": {},
   "outputs": [
    {
     "name": "stdout",
     "output_type": "stream",
     "text": [
      "25\n"
     ]
    }
   ],
   "source": [
    "print(randint(0,len(v_infected_set)))"
   ]
  },
  {
   "cell_type": "code",
   "execution_count": 88,
   "metadata": {},
   "outputs": [
    {
     "name": "stderr",
     "output_type": "stream",
     "text": [
      "/Users/navinLR/anaconda2/lib/python2.7/site-packages/sklearn/cluster/k_means_.py:971: ConvergenceWarning: Number of distinct clusters (1) found smaller than n_clusters (4). Possibly due to duplicate points in X.\n",
      "  return_n_iter=True)\n"
     ]
    }
   ],
   "source": [
    "from hmmlearn import hmm\n",
    "\n",
    "chosen = get_infected_signal(v_infected_set[randint(0,len(v_infected_set))])\n",
    "win = 5\n",
    "size = len(chosen) - win\n",
    "# create sliding window data\n",
    "data = np.zeros((size,win),dtype=np.int32)\n",
    "for i in range(size):\n",
    "    data[i] = np.array([flow for flow in chosen[i:i+win]])\n",
    "\n",
    "# learn a Gaussian Hidden Markov Model with 4 states from the infected host data\n",
    "hmm = hmm.GaussianHMM(n_components=4)\n",
    "hmm.fit(data)\n",
    "\n",
    "# Log - Likelihood\n",
    "logl = hmm.decode(data)[0]"
   ]
  },
  {
   "cell_type": "code",
   "execution_count": 89,
   "metadata": {},
   "outputs": [],
   "source": [
    "log_likelihood_legi = []\n",
    "log_likelihood = []\n",
    "\n",
    "# compute log-likelihood of legit host\n",
    "for ip in v_legit_set:\n",
    "\n",
    "    host = get_infected_signal(ip,False) # get legit host\n",
    "\n",
    "    size = len(host) - win\n",
    "    if size > 0: # discrade hosts that have small size\n",
    "        data = np.zeros((size,win),dtype=np.int32)\n",
    "        for i in range(size):\n",
    "            data[i] = np.array([flow for flow in host[i:i+win]])\n",
    "\n",
    "        log_likelihood_legi.append(hmm.decode(data)[0])\n",
    "    else:\n",
    "        log_likelihood_legi.append(0)\n",
    "#compute log-likelihood of infected host\n",
    "for ip in v_infected_set:\n",
    "    \n",
    "    host = get_infected_signal(ip)\n",
    "    size = len(host) - win\n",
    "    if size > 0:\n",
    "        data = np.zeros((size,win),dtype=np.int32)\n",
    "        \n",
    "        for i in range(size):\n",
    "            data[i] = np.array([flow for flow in host[i:i+win]])\n",
    "        log_likelihood.append(hmm.decode(data)[0])\n",
    "    else:\n",
    "        log_likelihood.append(0)"
   ]
  },
  {
   "cell_type": "markdown",
   "metadata": {},
   "source": [
    "### Classification - By HMM - Loglikelihood based"
   ]
  },
  {
   "cell_type": "code",
   "execution_count": 90,
   "metadata": {},
   "outputs": [
    {
     "name": "stdout",
     "output_type": "stream",
     "text": [
      " Total Infects : 31\n",
      " Total Legits : 299\n",
      " Detected Infects : 6\n",
      " Detected Legits : 273\n"
     ]
    }
   ],
   "source": [
    "dis_legi = abs(np.array(log_likelihood_legi)-logl)\n",
    "dis_infected = abs(np.array(log_likelihood)-logl)\n",
    "print (\" Total Infects : \" + str(dis_infected.shape[0]) + \"\\n Total Legits : \" + str(dis_legi.shape[0]))\n",
    "TN = sum(dis_legi>abs(logl/2))#/dis_legi.shape[0]\n",
    "TP = sum(dis_infected < abs(logl/2))#/dis_infected.shape[0]\n",
    "print (\" Detected Infects : \" + str(TP) + \"\\n Detected Legits : \" + str(TN))"
   ]
  },
  {
   "cell_type": "code",
   "execution_count": null,
   "metadata": {},
   "outputs": [],
   "source": []
  }
 ],
 "metadata": {
  "kernelspec": {
   "display_name": "Python 2",
   "language": "python",
   "name": "python2"
  },
  "language_info": {
   "codemirror_mode": {
    "name": "ipython",
    "version": 2
   },
   "file_extension": ".py",
   "mimetype": "text/x-python",
   "name": "python",
   "nbconvert_exporter": "python",
   "pygments_lexer": "ipython2",
   "version": "2.7.15"
  }
 },
 "nbformat": 4,
 "nbformat_minor": 2
}
