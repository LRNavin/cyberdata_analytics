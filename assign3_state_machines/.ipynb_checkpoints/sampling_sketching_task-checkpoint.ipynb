{
 "cells": [
  {
   "cell_type": "markdown",
   "metadata": {},
   "source": [
    "# Sampling Task & Sketching task"
   ]
  },
  {
   "cell_type": "code",
   "execution_count": 19,
   "metadata": {},
   "outputs": [],
   "source": [
    "import pandas as pd\n",
    "import numpy as np\n",
    "from time import time\n",
    "from random import randint"
   ]
  },
  {
   "cell_type": "markdown",
   "metadata": {},
   "source": [
    "### Cleaning & Processing dataset"
   ]
  },
  {
   "cell_type": "code",
   "execution_count": 22,
   "metadata": {},
   "outputs": [
    {
     "name": "stdout",
     "output_type": "stream",
     "text": [
      "<class 'pandas.core.frame.DataFrame'>\n",
      "408835\n",
      "         Date          Time  Durat Prot    Src IP Addr:Port Dir  \\\n",
      "0  2011-08-18  10:39:35.289    0.0  TCP  85.3.219.122:55347  ->   \n",
      "1  2011-08-18  10:39:36.067    0.0  TCP  85.3.219.122:55347  ->   \n",
      "2  2011-08-18  10:39:36.754    0.0  TCP  85.3.219.122:55347  ->   \n",
      "3  2011-08-18  10:39:37.079    0.0  TCP   84.13.8.236:61289  ->   \n",
      "4  2011-08-18  10:39:37.186    0.0  TCP    147.32.3.51:4397  ->   \n",
      "\n",
      "     Dst IP Addr:Port Flags  Tos  Packets  Bytes  Flows       Label  \n",
      "0  147.32.84.118:6881  S_RA    0        2    120      1  Background  \n",
      "1  147.32.84.118:6881  S_RA    0        2    120      1  Background  \n",
      "2  147.32.84.118:6881  S_RA    0        2    116      1  Background  \n",
      "3  147.32.84.118:6881  S_RA    0        2    120      1  Background  \n",
      "4  147.32.87.22:10010  S_RA    0        2    116      1  Background  \n"
     ]
    }
   ],
   "source": [
    "df = pd.read_table('dataset/capture20110818-2.pcap.netflow.labeled',delim_whitespace=True) \n",
    "print(type(df))\n",
    "df = df.iloc[:,:-5]\n",
    "df.columns = ['Date','Time','Durat','Prot','Src IP Addr:Port','Dir','Dst IP Addr:Port','Flags','Tos','Packets','Bytes','Flows','Label']\n",
    "LEN_DF = len(df)\n",
    "print(LEN_DF)\n",
    "print(df.head())"
   ]
  },
  {
   "cell_type": "code",
   "execution_count": 23,
   "metadata": {},
   "outputs": [
    {
     "name": "stdout",
     "output_type": "stream",
     "text": [
      "         Date          Time  Durat Prot    Src IP Addr:Port Dir  \\\n",
      "0  2011-08-18  10:39:35.289    0.0  TCP  85.3.219.122:55347  ->   \n",
      "1  2011-08-18  10:39:36.067    0.0  TCP  85.3.219.122:55347  ->   \n",
      "2  2011-08-18  10:39:36.754    0.0  TCP  85.3.219.122:55347  ->   \n",
      "3  2011-08-18  10:39:37.079    0.0  TCP   84.13.8.236:61289  ->   \n",
      "4  2011-08-18  10:39:37.186    0.0  TCP    147.32.3.51:4397  ->   \n",
      "\n",
      "     Dst IP Addr:Port Flags  Tos  Packets  Bytes  Flows       Label  \\\n",
      "0  147.32.84.118:6881  S_RA    0        2    120      1  Background   \n",
      "1  147.32.84.118:6881  S_RA    0        2    120      1  Background   \n",
      "2  147.32.84.118:6881  S_RA    0        2    116      1  Background   \n",
      "3  147.32.84.118:6881  S_RA    0        2    120      1  Background   \n",
      "4  147.32.87.22:10010  S_RA    0        2    116      1  Background   \n",
      "\n",
      "     Des_address   Port  \n",
      "0  147.32.84.118   6881  \n",
      "1  147.32.84.118   6881  \n",
      "2  147.32.84.118   6881  \n",
      "3  147.32.84.118   6881  \n",
      "4   147.32.87.22  10010  \n",
      "Label:\n",
      "3\n",
      "['Background' 'Botnet' 'LEGITIMATE']\n",
      "Protocol:\n",
      "10\n",
      "['ARP' 'ICMP' 'IGMP' 'IPV6' 'IPX/SPX' 'PIM' 'RARP' 'RTCP' 'TCP' 'UDP']\n",
      "(1, 6.0, 78781)\n"
     ]
    }
   ],
   "source": [
    "#Seperate address and port\n",
    "addr = []\n",
    "port = []\n",
    "for i in df['Dst IP Addr:Port']:\n",
    "    try:\n",
    "        s = i.split(':', 1)\n",
    "        addr.append(s[0])\n",
    "        port.append(s[1])\n",
    "    except:\n",
    "        port.append('Null')\n",
    "\n",
    "df['Des_address'] = addr\n",
    "df['Port'] = port\n",
    "print(df.head())\n",
    "df.to_csv('dataset/ctu_13_52_netflow.csv')\n",
    "# Check Dataset Ip, protocol, port and label\n",
    "label = np.unique(df['Label'].values)\n",
    "print('Label:')\n",
    "print(len(label))\n",
    "print(label)\n",
    "\n",
    "print('Protocol:')\n",
    "protocol = np.unique(df['Prot'].values)\n",
    "print(len(protocol))\n",
    "print(protocol)\n",
    "\n",
    "min_pac = min(df['Packets'])\n",
    "max_pac = max(df['Packets'])\n",
    "med_pac = np.median(df['Packets'].values)\n",
    "print(min_pac,med_pac,max_pac)\n",
    "s = df['Packets'].sort_values()"
   ]
  },
  {
   "cell_type": "markdown",
   "metadata": {},
   "source": [
    "### 10 most frequent IP - Before Sampling"
   ]
  },
  {
   "cell_type": "code",
   "execution_count": 24,
   "metadata": {},
   "outputs": [
    {
     "name": "stdout",
     "output_type": "stream",
     "text": [
      "15258\n",
      "147.32.96.69      279763\n",
      "147.32.80.9        29441\n",
      "147.32.84.229      28445\n",
      "147.32.86.116      11692\n",
      "147.32.84.59        3324\n",
      "147.32.80.13         901\n",
      "147.32.84.118        625\n",
      "147.32.84.2          619\n",
      "76.13.114.90         571\n",
      "209.85.149.132       571\n",
      "Name: Des_address, dtype: int64\n",
      "Length of Stream - 408835\n"
     ]
    }
   ],
   "source": [
    "des_ip = np.unique(df['Des_address'])\n",
    "des_ip_sort = df['Des_address'].value_counts()\n",
    "print(len(des_ip))\n",
    "print(des_ip_sort[:10])\n",
    "ori_ip = des_ip_sort[:10].index.values\n",
    "\n",
    "print(\"Length of Stream - \" + str(len(df)))"
   ]
  },
  {
   "cell_type": "markdown",
   "metadata": {},
   "source": [
    "## Sampling Task - Using Resovoir Sampling"
   ]
  },
  {
   "cell_type": "code",
   "execution_count": 29,
   "metadata": {},
   "outputs": [
    {
     "name": "stdout",
     "output_type": "stream",
     "text": [
      "340865\n",
      "Select Value - 100000\n"
     ]
    },
    {
     "name": "stderr",
     "output_type": "stream",
     "text": [
      "/Users/navinLR/anaconda2/lib/python2.7/site-packages/ipykernel_launcher.py:29: RuntimeWarning: divide by zero encountered in divide\n"
     ]
    },
    {
     "name": "stdout",
     "output_type": "stream",
     "text": [
      "Select Value - 10000\n",
      "Select Value - 1000\n",
      "Select Value - 500\n",
      "Select Value - 100\n",
      "Select Value - 60\n",
      "['147.32.96.69', '147.32.80.9', '147.32.84.229', '147.32.86.116', '147.32.84.59', '147.32.80.13', '147.32.84.118', '147.32.84.2', '76.13.114.90', '209.85.149.132', '147.32.96.69', '147.32.84.229', '147.32.80.9', '147.32.86.116', '147.32.84.59', '147.32.80.13', '76.13.114.90', '147.32.84.2', '209.85.149.132', '147.32.84.111', '147.32.96.69', '147.32.84.229', '147.32.80.9', '147.32.86.116', '147.32.84.59', '147.32.80.13', '209.85.149.132', '147.32.84.2', '76.13.114.90', '147.32.84.111', '147.32.96.69', '147.32.84.229', '147.32.80.9', '147.32.86.116', '147.32.84.59', '77.78.99.23', '147.32.84.111', '74.125.232.219', '209.85.149.132', '74.125.232.204', '147.32.96.69', '147.32.80.9', '147.32.84.229', '147.32.86.116', '147.32.84.191', '147.32.84.59', '46.4.78.181', '147.32.84.2', '74.125.232.215', '125.224.163.107', '147.32.96.69', '147.32.84.229', '147.32.80.9', '147.32.86.116', '2.40.126.117', '74.125.232.214', '187.106.60.42', '24.138.11.21', '205.188.10.202', '74.125.232.205', '147.32.96.69', '147.32.84.229', '147.32.80.9', '147.32.86.116', '114.47.228.92', '193.52.101.240', '147.32.4.113', '147.91.200.37', '147.32.192.34', '147.32.87.98']\n",
      "[[ 0  1  2  3  4  5  6  7  8  9]\n",
      " [ 0  2  1  3  4  5  8  7  9 10]\n",
      " [ 0  2  1  3  4  5  9  7  8 10]\n",
      " [ 0  2  1  3  4 11 10 12  9 13]\n",
      " [ 0  1  2  3 14  4 15  7 16 17]\n",
      " [ 0  2  1  3 18 19 20 21 22 23]\n",
      " [ 0  2  1  3 24 25 26 27 28 29]]\n",
      "<type 'numpy.ndarray'>\n"
     ]
    }
   ],
   "source": [
    "import random\n",
    "from random import randint\n",
    "from time import time\n",
    "\n",
    "# select k elements \n",
    "select = [100000,10000,1000,500,100,60]\n",
    "\n",
    "#remove duplicate\n",
    "sub_df = df.iloc[:,2:12]\n",
    "sub_df = sub_df.drop_duplicates()\n",
    "print(len(sub_df))\n",
    "inx_sub = sub_df.index.values\n",
    "df = df.loc[inx_sub,:]\n",
    "LEN_DF = len(df)\n",
    "\n",
    "rand = np.random.random((LEN_DF,1))\n",
    "\n",
    "df['random'] = rand\n",
    "\n",
    "ip_list = list(ori_ip)\n",
    "time_list = []\n",
    "for k in select:\n",
    "    print(\"Select Value - \" + str(k))\n",
    "    t = time()\n",
    "    # first k items\n",
    "    samp_df = df[:k]\n",
    "    # select random sample with a probability smaller than k/i\n",
    "    index = df.index.values # Just indexes\n",
    "    proba = k/index\n",
    "    df['proba'] = proba\n",
    "#     print(\"Random Indices --- \" + str(len(df['proba']!=0)))\n",
    "    samples = df.loc[df['proba']<=df['random'],:]\n",
    "\n",
    "    all_sample = pd.concat([samp_df,samples])\n",
    "#     print(\"Length of All Samples - \" + str(len(all_sample)))\n",
    "    \n",
    "    sample = all_sample.sample(n=k)\n",
    "    t = time()-t\n",
    "    time_list.append(t)\n",
    "    \n",
    "    samp_des_ip_sort = sample['Des_address'].value_counts()\n",
    "    top = samp_des_ip_sort[:10]\n",
    "    ip = top.index.values\n",
    "    ip_list.extend(ip)\n",
    "    \n",
    "factors, uniques = pd.factorize(ip_list)\n",
    "print(factors.reshape(7,10))\n",
    "print(ip_list.reshape(7,10))\n",
    "print(type(factors))"
   ]
  },
  {
   "cell_type": "code",
   "execution_count": 30,
   "metadata": {},
   "outputs": [
    {
     "name": "stdout",
     "output_type": "stream",
     "text": [
      "   Origin  100000  10000  1000  500  100  60\n",
      "0       0       0      0     0    0    0   0\n",
      "1       1       2      2     2    1    2   2\n",
      "2       2       1      1     1    2    1   1\n",
      "3       3       3      3     3    3    3   3\n",
      "4       4       4      4     4   14   18  24\n",
      "5       5       5      5    11    4   19  25\n",
      "6       6       8      9    10   15   20  26\n",
      "7       7       7      7    12    7   21  27\n",
      "8       8       9      8     9   16   22  28\n",
      "9       9      10     10    13   17   23  29\n",
      "Time consumed:\n",
      "[[0.77554417]\n",
      " [0.56497908]\n",
      " [0.40110898]\n",
      " [0.38509297]\n",
      " [0.38488722]\n",
      " [0.41068101]]\n",
      "0.4870489041010539\n",
      "Accuracy:\n",
      "[1.0, 0.5, 0.6, 0.3, 0.5, 0.2, 0.2]\n"
     ]
    }
   ],
   "source": [
    "# IP rank comparison\n",
    "samp_ip = samp_des_ip_sort[:10].index.values\n",
    "\n",
    "comp = pd.DataFrame({'Origin':factors[:10]})\n",
    "\n",
    "for i,k in enumerate(select):\n",
    "    comp[str(k)] = factors[(i+1)*10:(i+2)*10]\n",
    "print(comp)\n",
    "\n",
    "accuracy = [sum(comp.iloc[:,i]==comp.iloc[:,0])/10. for i,k in enumerate(comp.columns)]\n",
    "print(\"Time consumed:\")\n",
    "print(np.asarray(time_list).reshape(6,1))\n",
    "print(np.mean(time_list))\n",
    "print(\"Accuracy:\")\n",
    "print(accuracy)"
   ]
  },
  {
   "cell_type": "markdown",
   "metadata": {},
   "source": [
    "### Count Min Sketch"
   ]
  },
  {
   "cell_type": "code",
   "execution_count": 27,
   "metadata": {},
   "outputs": [],
   "source": [
    "from array import array\n",
    "from random import randint\n",
    "from math import log, e, ceil\n",
    "from itertools import izip\n",
    "from heapq import nlargest\n",
    "\n",
    "class CountMinSketch(object):\n",
    "    def __init__(self, w=None, d=None, delta=None, epsilon=None):\n",
    "\n",
    "        if w is not None and d is not None:\n",
    "            self.w = w\n",
    "            self.d = d\n",
    "        elif delta is not None and epsilon is not None:\n",
    "            self.w = int(ceil(e/epsilon))\n",
    "            self.d = int(ceil(log(1./delta)))\n",
    "            print self.w, self.d\n",
    "        else:\n",
    "            raise Exception(\"You must either supply both w and d or delta and epsilon.\")\n",
    "\n",
    "        self.counts = [array('L', (0 for _ in xrange(self.w))) for _ in xrange(self.d)]\n",
    "        upper_bound = 2147483647\n",
    "        step = upper_bound / (self.d-1)\n",
    "        ranges = [(i*step, step*(i+1)-1) for i in xrange(self.d-1)]\n",
    "        self.mask = array('L', (randint(low, high) for low, high in ranges))\n",
    "\n",
    "    def get_columns(self, a):\n",
    "        h = hash(a)\n",
    "        w = self.w\n",
    "\n",
    "        yield h % w\n",
    "        for m in self.mask:\n",
    "            yield (h ^ m) % w\n",
    "\n",
    "\n",
    "    def update(self, a, val=1):\n",
    "        for row, col in izip(self.counts, self.get_columns(a)):\n",
    "          row[col] += val\n",
    "\n",
    "    def query(self, a):\n",
    "        return min(row[col] for row, col in izip(self.counts, self.get_columns(a)))\n",
    "\n",
    "    def __getitem__(self, a):\n",
    "        return self.query(a)\n",
    "\n",
    "    def __setitem__(self, a, val):\n",
    "        for row, col in izip(self.counts, self.get_columns(a)):\n",
    "          row[col] = val\n",
    "        \n",
    "# Testing Count Min Sketch\n",
    "def test_cms(ip_list,freq_list,w,d):\n",
    "    mytime = 0\n",
    "    mine = CountMinSketch(w, d)\n",
    "    for ip,freq in zip(ip_list,freq_list):\n",
    "        t = time()\n",
    "        mine.update(ip, freq)\n",
    "        mytime += time() - t\n",
    "    loss= 0\n",
    "    pre_freq={}\n",
    "    for ip, freq in zip(ip_list,freq_list):\n",
    "        \n",
    "        loss += (mine.query(ip) - freq)**2\n",
    "        pre_freq[ip]=int(mine[ip])\n",
    "\n",
    "    print 'loss:', loss**0.5 / len(ip_list)\n",
    "    print 'time', mytime\n",
    "    ips=[]\n",
    "    topNum = 10\n",
    "    nlargestList = nlargest(topNum, pre_freq.values())        #get top 10  \n",
    "    for value in nlargestList:                                #print\n",
    "        for key in pre_freq:  \n",
    "            if pre_freq[key] == value:  \n",
    "                ips.append(key)\n",
    "                print key, pre_freq[key]\n",
    "    return np.array(ips)"
   ]
  },
  {
   "cell_type": "code",
   "execution_count": 28,
   "metadata": {},
   "outputs": [
    {
     "name": "stdout",
     "output_type": "stream",
     "text": [
      "loss: 0.045737948311\n",
      "time 13.7513535023\n",
      "147.32.96.69 279767\n",
      "147.32.80.9 29444\n",
      "147.32.84.229 28451\n",
      "147.32.86.116 11697\n",
      "147.32.84.59 3330\n",
      "147.32.80.13 907\n",
      "147.32.84.118 630\n",
      "147.32.84.2 625\n",
      "209.85.149.132 577\n",
      "76.13.114.90 576\n",
      "the top10 accuracy is 0.8\n"
     ]
    }
   ],
   "source": [
    "# get the value and freq as input\n",
    "ip_list = des_ip_sort.index.values\n",
    "freq_list = np.array(des_ip_sort).tolist()\n",
    "#get top 10 ips\n",
    "true_10 = np.array(des_ip_sort[:10].keys())\n",
    "\n",
    "# Get Accuracy - Count Min Sketch \n",
    "# Change w, d (hgt and width) for checking \n",
    "ips = test_cms(ip_list,freq_list,1000,1000)\n",
    "acc = sum(ips==true_10)/10.\n",
    "print 'the top10 accuracy is', acc"
   ]
  },
  {
   "cell_type": "code",
   "execution_count": null,
   "metadata": {},
   "outputs": [],
   "source": []
  }
 ],
 "metadata": {
  "kernelspec": {
   "display_name": "Python 2",
   "language": "python",
   "name": "python2"
  },
  "language_info": {
   "codemirror_mode": {
    "name": "ipython",
    "version": 2
   },
   "file_extension": ".py",
   "mimetype": "text/x-python",
   "name": "python",
   "nbconvert_exporter": "python",
   "pygments_lexer": "ipython2",
   "version": "2.7.15"
  }
 },
 "nbformat": 4,
 "nbformat_minor": 2
}
