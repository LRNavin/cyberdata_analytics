{
 "cells": [
  {
   "cell_type": "markdown",
   "metadata": {},
   "source": [
    "# Sampling Task & Sketching task"
   ]
  },
  {
   "cell_type": "code",
   "execution_count": 1,
   "metadata": {},
   "outputs": [],
   "source": [
    "import pandas as pd\n",
    "import numpy as np\n",
    "from time import time\n",
    "from random import randint"
   ]
  },
  {
   "cell_type": "markdown",
   "metadata": {},
   "source": [
    "### Cleaning & Processing dataset"
   ]
  },
  {
   "cell_type": "code",
   "execution_count": 2,
   "metadata": {},
   "outputs": [
    {
     "name": "stdout",
     "output_type": "stream",
     "text": [
      "<class 'pandas.core.frame.DataFrame'>\n",
      "5180851\n",
      "         Date          Time  Durat Prot      Src IP Addr:Port Dir  \\\n",
      "0  2011-08-18  10:19:13.328  0.002  TCP   147.32.86.166:33426  ->   \n",
      "1  2011-08-18  10:19:13.328  4.995  UDP     82.39.2.249:41915  ->   \n",
      "2  2011-08-18  10:19:13.329  4.996  UDP    147.32.84.59:43087  ->   \n",
      "3  2011-08-18  10:19:13.330  0.000  TCP   147.32.86.166:42020  ->   \n",
      "4  2011-08-18  10:19:13.330  0.000  TCP  212.24.150.110:25443  ->   \n",
      "\n",
      "       Dst IP Addr:Port  Flags  Tos  Packets    Bytes  Flows       Label  \n",
      "0  212.24.150.110:25443  FRPA_    0        4      321      1  Background  \n",
      "1    147.32.84.59:43087    INT    0      617    40095      1  Background  \n",
      "2     82.39.2.249:41915    INT    0     1290  1909200      1  Background  \n",
      "3     147.32.192.34:993     A_    0        1       66      1  Background  \n",
      "4   147.32.86.166:33426   FPA_    0        2      169      1  Background  \n"
     ]
    }
   ],
   "source": [
    "df = pd.read_table('dataset/capture20110818.pcap.netflow.labeled',delim_whitespace=True) \n",
    "print(type(df))\n",
    "df = df.iloc[:,:-5]\n",
    "df.columns = ['Date','Time','Durat','Prot','Src IP Addr:Port','Dir','Dst IP Addr:Port','Flags','Tos','Packets','Bytes','Flows','Label']\n",
    "LEN_DF = len(df)\n",
    "print(LEN_DF)\n",
    "print(df.head())"
   ]
  },
  {
   "cell_type": "code",
   "execution_count": 3,
   "metadata": {},
   "outputs": [
    {
     "name": "stdout",
     "output_type": "stream",
     "text": [
      "         Date          Time  Durat Prot      Src IP Addr:Port Dir  \\\n",
      "0  2011-08-18  10:19:13.328  0.002  TCP   147.32.86.166:33426  ->   \n",
      "1  2011-08-18  10:19:13.328  4.995  UDP     82.39.2.249:41915  ->   \n",
      "2  2011-08-18  10:19:13.329  4.996  UDP    147.32.84.59:43087  ->   \n",
      "3  2011-08-18  10:19:13.330  0.000  TCP   147.32.86.166:42020  ->   \n",
      "4  2011-08-18  10:19:13.330  0.000  TCP  212.24.150.110:25443  ->   \n",
      "\n",
      "       Dst IP Addr:Port  Flags  Tos  Packets    Bytes  Flows       Label  \\\n",
      "0  212.24.150.110:25443  FRPA_    0        4      321      1  Background   \n",
      "1    147.32.84.59:43087    INT    0      617    40095      1  Background   \n",
      "2     82.39.2.249:41915    INT    0     1290  1909200      1  Background   \n",
      "3     147.32.192.34:993     A_    0        1       66      1  Background   \n",
      "4   147.32.86.166:33426   FPA_    0        2      169      1  Background   \n",
      "\n",
      "      Des_address   Port  \n",
      "0  212.24.150.110  25443  \n",
      "1    147.32.84.59  43087  \n",
      "2     82.39.2.249  41915  \n",
      "3   147.32.192.34    993  \n",
      "4   147.32.86.166  33426  \n",
      "Label:\n",
      "3\n",
      "['Background' 'Botnet' 'LEGITIMATE']\n",
      "Protocol:\n",
      "14\n",
      "['ARP' 'ESP' 'ICMP' 'IGMP' 'IPV6' 'IPV6-ICMP' 'IPX/SPX' 'LLC' 'PIM' 'RTCP'\n",
      " 'RTP' 'TCP' 'UDP' 'UDT']\n",
      "(1, 1.0, 110189)\n"
     ]
    }
   ],
   "source": [
    "#Seperate address and port\n",
    "addr = []\n",
    "port = []\n",
    "for i in df['Dst IP Addr:Port']:\n",
    "    try:\n",
    "        s = i.split(':', 1)\n",
    "        addr.append(s[0])\n",
    "        port.append(s[1])\n",
    "    except:\n",
    "        port.append('Null')\n",
    "\n",
    "df['Des_address'] = addr\n",
    "df['Port'] = port\n",
    "print(df.head())\n",
    "df.to_csv('dataset/ctu_13_52_netflow.csv')\n",
    "# Check Dataset Ip, protocol, port and label\n",
    "label = np.unique(df['Label'].values)\n",
    "print('Label:')\n",
    "print(len(label))\n",
    "print(label)\n",
    "\n",
    "print('Protocol:')\n",
    "protocol = np.unique(df['Prot'].values)\n",
    "print(len(protocol))\n",
    "print(protocol)\n",
    "\n",
    "min_pac = min(df['Packets'])\n",
    "max_pac = max(df['Packets'])\n",
    "med_pac = np.median(df['Packets'].values)\n",
    "print(min_pac,med_pac,max_pac)\n",
    "s = df['Packets'].sort_values()"
   ]
  },
  {
   "cell_type": "markdown",
   "metadata": {},
   "source": [
    "### 10 most frequent IP - Before Sampling"
   ]
  },
  {
   "cell_type": "code",
   "execution_count": 4,
   "metadata": {},
   "outputs": [
    {
     "name": "stdout",
     "output_type": "stream",
     "text": [
      "191244\n",
      "147.32.84.229    785569\n",
      "147.32.80.9      483657\n",
      "147.32.84.59     361143\n",
      "147.32.84.138    224358\n",
      "147.32.96.69     216892\n",
      "147.32.80.13      67986\n",
      "147.32.86.116     45606\n",
      "147.32.85.25      43424\n",
      "147.32.85.26      42873\n",
      "147.32.84.118     30570\n",
      "Name: Des_address, dtype: int64\n",
      "Length of Stream - 5180851\n"
     ]
    }
   ],
   "source": [
    "des_ip = np.unique(df['Des_address'])\n",
    "des_ip_sort = df['Des_address'].value_counts()\n",
    "print(len(des_ip))\n",
    "print(des_ip_sort[:10])\n",
    "ori_ip = des_ip_sort[:10].index.values\n",
    "\n",
    "print(\"Length of Stream - \" + str(len(df)))"
   ]
  },
  {
   "cell_type": "markdown",
   "metadata": {},
   "source": [
    "## Sampling Task - Using Resovoir Sampling"
   ]
  },
  {
   "cell_type": "code",
   "execution_count": 5,
   "metadata": {},
   "outputs": [
    {
     "name": "stdout",
     "output_type": "stream",
     "text": [
      "3097079\n",
      "Select Value - 100000\n"
     ]
    },
    {
     "name": "stderr",
     "output_type": "stream",
     "text": [
      "/Users/navinLR/anaconda2/lib/python2.7/site-packages/ipykernel_launcher.py:29: RuntimeWarning: divide by zero encountered in divide\n",
      "/Users/navinLR/anaconda2/lib/python2.7/site-packages/ipykernel_launcher.py:34: FutureWarning: Sorting because non-concatenation axis is not aligned. A future version\n",
      "of pandas will change to not sort by default.\n",
      "\n",
      "To accept the future behavior, pass 'sort=False'.\n",
      "\n",
      "To retain the current behavior and silence the warning, pass 'sort=True'.\n",
      "\n"
     ]
    },
    {
     "name": "stdout",
     "output_type": "stream",
     "text": [
      "Select Value - 10000\n",
      "Select Value - 1000\n",
      "Select Value - 500\n",
      "Select Value - 100\n",
      "Select Value - 60\n",
      "[[ 0  1  2  3  4  5  6  7  8  9]\n",
      " [ 0  1  2  5  3  6  8  7  4  9]\n",
      " [ 0  1  2  5  3  7  4  6  8 10]\n",
      " [ 0  1  2  5  3  6  9  4 11 12]\n",
      " [ 0  2  1  3  4  7 10  9  5 13]\n",
      " [ 0  2  1  5 11  7 14 15 16 17]\n",
      " [ 0 18  7  2 19 20 21 22  8 23]]\n",
      "<type 'numpy.ndarray'>\n"
     ]
    }
   ],
   "source": [
    "import random\n",
    "from random import randint\n",
    "from time import time\n",
    "\n",
    "# select k elements \n",
    "select = [100000,10000,1000,500,100,60]\n",
    "\n",
    "#remove duplicate\n",
    "sub_df = df.iloc[:,2:12]\n",
    "sub_df = sub_df.drop_duplicates()\n",
    "print(len(sub_df))\n",
    "inx_sub = sub_df.index.values\n",
    "df = df.loc[inx_sub,:]\n",
    "LEN_DF = len(df)\n",
    "\n",
    "rand = np.random.random((LEN_DF,1))\n",
    "\n",
    "df['random'] = rand\n",
    "\n",
    "ip_list = list(ori_ip)\n",
    "time_list = []\n",
    "for k in select:\n",
    "    print(\"Select Value - \" + str(k))\n",
    "    t = time()\n",
    "    # first k items\n",
    "    samp_df = df[:k]\n",
    "    # select random sample with a probability smaller than k/i\n",
    "    index = df.index.values # Just indexes\n",
    "    proba = k/index\n",
    "    df['proba'] = proba\n",
    "#     print(\"Random Indices --- \" + str(len(df['proba']!=0)))\n",
    "    samples = df.loc[df['proba']<=df['random'],:]\n",
    "\n",
    "    all_sample = pd.concat([samp_df,samples])\n",
    "#     print(\"Length of All Samples - \" + str(len(all_sample)))\n",
    "    \n",
    "    sample = all_sample.sample(n=k)\n",
    "    t = time()-t\n",
    "    time_list.append(t)\n",
    "    \n",
    "    samp_des_ip_sort = sample['Des_address'].value_counts()\n",
    "    top = samp_des_ip_sort[:10]\n",
    "    ip = top.index.values\n",
    "    ip_list.extend(ip)\n",
    "    \n",
    "factors, uniques = pd.factorize(ip_list)\n",
    "print(factors.reshape(7,10))\n",
    "print(type(factors))"
   ]
  },
  {
   "cell_type": "code",
   "execution_count": 6,
   "metadata": {},
   "outputs": [
    {
     "name": "stdout",
     "output_type": "stream",
     "text": [
      "   Origin  100000  10000  1000  500  100  60\n",
      "0       0       0      0     0    0    0   0\n",
      "1       1       1      1     1    2    2  18\n",
      "2       2       2      2     2    1    1   7\n",
      "3       3       5      5     5    3    5   2\n",
      "4       4       3      3     3    4   11  19\n",
      "5       5       6      7     6    7    7  20\n",
      "6       6       8      4     9   10   14  21\n",
      "7       7       7      6     4    9   15  22\n",
      "8       8       4      8    11    5   16   8\n",
      "9       9       9     10    12   13   17  23\n",
      "Time consumed:\n",
      "[[5.54867291]\n",
      " [5.29997706]\n",
      " [4.51962399]\n",
      " [4.3726871 ]\n",
      " [4.54535604]\n",
      " [4.27662802]]\n",
      "4.760490854581197\n",
      "Accuracy:\n",
      "[1.0, 0.5, 0.4, 0.3, 0.3, 0.1, 0.2]\n"
     ]
    }
   ],
   "source": [
    "# IP rank comparison\n",
    "samp_ip = samp_des_ip_sort[:10].index.values\n",
    "\n",
    "comp = pd.DataFrame({'Origin':factors[:10]})\n",
    "\n",
    "for i,k in enumerate(select):\n",
    "    comp[str(k)] = factors[(i+1)*10:(i+2)*10]\n",
    "print(comp)\n",
    "\n",
    "accuracy = [sum(comp.iloc[:,i]==comp.iloc[:,0])/10. for i,k in enumerate(comp.columns)]\n",
    "print(\"Time consumed:\")\n",
    "print(np.asarray(time_list).reshape(6,1))\n",
    "print(np.mean(time_list))\n",
    "print(\"Accuracy:\")\n",
    "print(accuracy)"
   ]
  },
  {
   "cell_type": "markdown",
   "metadata": {},
   "source": [
    "### Count Min Sketch"
   ]
  },
  {
   "cell_type": "code",
   "execution_count": 23,
   "metadata": {},
   "outputs": [],
   "source": [
    "from array import array\n",
    "from random import randint\n",
    "from math import log, e, ceil\n",
    "from itertools import izip\n",
    "from heapq import nlargest\n",
    "\n",
    "class CountMinSketch(object):\n",
    "    def __init__(self, w=None, d=None, delta=None, epsilon=None):\n",
    "\n",
    "        if w is not None and d is not None:\n",
    "            self.w = w\n",
    "            self.d = d\n",
    "        elif delta is not None and epsilon is not None:\n",
    "            self.w = int(ceil(e/epsilon))\n",
    "            self.d = int(ceil(log(1./delta)))\n",
    "            print self.w, self.d\n",
    "        else:\n",
    "            raise Exception(\"You must either supply both w and d or delta and epsilon.\")\n",
    "\n",
    "        self.counts = [array('L', (0 for _ in xrange(self.w))) for _ in xrange(self.d)]\n",
    "        upper_bound = 2147483647\n",
    "        step = upper_bound / (self.d-1)\n",
    "        ranges = [(i*step, step*(i+1)-1) for i in xrange(self.d-1)]\n",
    "        self.mask = array('L', (randint(low, high) for low, high in ranges))\n",
    "\n",
    "    def get_columns(self, a):\n",
    "        h = hash(a)\n",
    "        w = self.w\n",
    "\n",
    "        yield h % w\n",
    "        for m in self.mask:\n",
    "            yield (h ^ m) % w\n",
    "\n",
    "\n",
    "    def update(self, a, val=1):\n",
    "        for row, col in izip(self.counts, self.get_columns(a)):\n",
    "          row[col] += val\n",
    "\n",
    "    def query(self, a):\n",
    "        return min(row[col] for row, col in izip(self.counts, self.get_columns(a)))\n",
    "\n",
    "    def __getitem__(self, a):\n",
    "        return self.query(a)\n",
    "\n",
    "    def __setitem__(self, a, val):\n",
    "        for row, col in izip(self.counts, self.get_columns(a)):\n",
    "          row[col] = val\n",
    "        \n",
    "# Testing Count Min Sketch\n",
    "def test_cms(ip_list,freq_list,w,d):\n",
    "    mytime = time()\n",
    "    \n",
    "    \n",
    "# To Check for e = [0.001,0.001,0.005,0.005,0.01,0.01]\n",
    "#              d = [0.01, 0.1, 0.01, 0.1, 0.2, 0.1]\n",
    "    e = [0.001,0.001,0.005,0.005,0.005,0.01]\n",
    "    d = [0.01, 0.1, 0.01, 0.1, 0.2, 0.1]\n",
    "    ind = 5\n",
    "    mine = CountMinSketch(delta=d[ind], epsilon=e[ind])\n",
    "    for ip,freq in zip(ip_list,freq_list):\n",
    "#         t = time()\n",
    "        mine.update(ip, freq)\n",
    "    \n",
    "    mytime = time() - mytime\n",
    "    loss= 0\n",
    "    pre_freq={}\n",
    "    for ip, freq in zip(ip_list,freq_list):\n",
    "        \n",
    "        loss += (mine.query(ip) - freq)**2\n",
    "        pre_freq[ip]=int(mine[ip])\n",
    "\n",
    "    print 'loss:', loss**0.5 / len(ip_list)\n",
    "    print 'time:', mytime\n",
    "    ips=[]\n",
    "    topNum = 10\n",
    "    nlargestList = nlargest(topNum, pre_freq.values())        #get top 10  \n",
    "    for value in nlargestList:                                #print\n",
    "        for key in pre_freq:  \n",
    "            if pre_freq[key] == value:  \n",
    "                ips.append(key)\n",
    "                print key, pre_freq[key]\n",
    "    return np.array(ips)"
   ]
  },
  {
   "cell_type": "code",
   "execution_count": 24,
   "metadata": {},
   "outputs": [
    {
     "name": "stdout",
     "output_type": "stream",
     "text": [
      "272 3\n",
      "loss: 18.0809215628\n",
      "time: 0.981522083282\n",
      "151.74.5.14 791267\n",
      "108.95.172.239 791267\n",
      "147.32.84.229 791267\n",
      "151.74.5.14 791267\n",
      "108.95.172.239 791267\n",
      "147.32.84.229 791267\n",
      "151.74.5.14 791267\n",
      "108.95.172.239 791267\n",
      "147.32.84.229 791267\n",
      "80.109.27.144 490528\n",
      "124.193.125.226 490528\n",
      "147.32.80.9 490528\n",
      "80.109.27.144 490528\n",
      "124.193.125.226 490528\n",
      "147.32.80.9 490528\n",
      "80.109.27.144 490528\n",
      "124.193.125.226 490528\n",
      "147.32.80.9 490528\n",
      "147.32.84.59 370099\n",
      "91.205.120.71 370099\n",
      "85.71.48.103 370099\n",
      "147.32.84.59 370099\n",
      "91.205.120.71 370099\n",
      "85.71.48.103 370099\n",
      "147.32.84.59 370099\n",
      "91.205.120.71 370099\n",
      "85.71.48.103 370099\n",
      "147.32.84.138 229151\n",
      "88.247.238.136 229151\n",
      "186.112.114.18 229151\n"
     ]
    },
    {
     "name": "stderr",
     "output_type": "stream",
     "text": [
      "/Users/navinLR/anaconda2/lib/python2.7/site-packages/ipykernel_launcher.py:11: FutureWarning: elementwise comparison failed; returning scalar instead, but in the future will perform elementwise comparison\n",
      "  # This is added back by InteractiveShellApp.init_path()\n"
     ]
    },
    {
     "ename": "TypeError",
     "evalue": "'bool' object is not iterable",
     "output_type": "error",
     "traceback": [
      "\u001b[0;31m---------------------------------------------------------------------------\u001b[0m",
      "\u001b[0;31mTypeError\u001b[0m                                 Traceback (most recent call last)",
      "\u001b[0;32m<ipython-input-24-24bd24440bed>\u001b[0m in \u001b[0;36m<module>\u001b[0;34m()\u001b[0m\n\u001b[1;32m      9\u001b[0m \u001b[0;31m# Change w, d (hgt and width) for checking\u001b[0m\u001b[0;34m\u001b[0m\u001b[0;34m\u001b[0m\u001b[0m\n\u001b[1;32m     10\u001b[0m \u001b[0mips\u001b[0m \u001b[0;34m=\u001b[0m \u001b[0mtest_cms\u001b[0m\u001b[0;34m(\u001b[0m\u001b[0mip_list\u001b[0m\u001b[0;34m,\u001b[0m\u001b[0mfreq_list\u001b[0m\u001b[0;34m,\u001b[0m\u001b[0;36m1000\u001b[0m\u001b[0;34m,\u001b[0m\u001b[0;36m1000\u001b[0m\u001b[0;34m)\u001b[0m\u001b[0;34m\u001b[0m\u001b[0m\n\u001b[0;32m---> 11\u001b[0;31m \u001b[0macc\u001b[0m \u001b[0;34m=\u001b[0m \u001b[0msum\u001b[0m\u001b[0;34m(\u001b[0m\u001b[0mips\u001b[0m\u001b[0;34m==\u001b[0m\u001b[0mtrue_10\u001b[0m\u001b[0;34m)\u001b[0m\u001b[0;34m/\u001b[0m\u001b[0;36m10.\u001b[0m\u001b[0;34m\u001b[0m\u001b[0m\n\u001b[0m\u001b[1;32m     12\u001b[0m \u001b[0;32mprint\u001b[0m \u001b[0;34m'the top10 accuracy is'\u001b[0m\u001b[0;34m,\u001b[0m \u001b[0macc\u001b[0m\u001b[0;34m\u001b[0m\u001b[0m\n",
      "\u001b[0;31mTypeError\u001b[0m: 'bool' object is not iterable"
     ]
    }
   ],
   "source": [
    "# get the value and freq as input\n",
    "ip_list = des_ip_sort.index.values\n",
    "freq_list = np.array(des_ip_sort).tolist()\n",
    "#get top 10 ips\n",
    "true_10 = np.array(des_ip_sort[:10].keys())\n",
    "\n",
    "\n",
    "# Get Accuracy - Count Min Sketch \n",
    "# Change w, d (hgt and width) for checking \n",
    "ips = test_cms(ip_list,freq_list,1000,1000)\n",
    "acc = sum(ips==true_10)/10.\n",
    "print 'the top10 accuracy is', acc"
   ]
  },
  {
   "cell_type": "code",
   "execution_count": null,
   "metadata": {},
   "outputs": [],
   "source": []
  }
 ],
 "metadata": {
  "kernelspec": {
   "display_name": "Python 2",
   "language": "python",
   "name": "python2"
  },
  "language_info": {
   "codemirror_mode": {
    "name": "ipython",
    "version": 2
   },
   "file_extension": ".py",
   "mimetype": "text/x-python",
   "name": "python",
   "nbconvert_exporter": "python",
   "pygments_lexer": "ipython2",
   "version": "2.7.15"
  }
 },
 "nbformat": 4,
 "nbformat_minor": 2
}
