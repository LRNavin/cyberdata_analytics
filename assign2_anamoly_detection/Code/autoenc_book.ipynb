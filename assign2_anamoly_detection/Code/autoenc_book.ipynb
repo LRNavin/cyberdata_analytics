{
 "cells": [
  {
   "cell_type": "markdown",
   "metadata": {},
   "source": [
    "# Autoencoders for Anomaly Detection\n",
    "\n",
    "Based on the article at https://bit.ly/2VgNyl7, made for the bonus task of the cyber data analytics class. Download the data and adjust the paths in the next cells.\n",
    "\n",
    "Requires \n",
    "* seaborn\n",
    "* tensorflow\n",
    "* keras\n",
    "* sklearn\n",
    "* pyplot, pylab\n",
    "\n",
    "and for visualizing the network also th4e graphviz package. Install directly from the notebook with **!pip install package**"
   ]
  },
  {
   "cell_type": "code",
   "execution_count": 1,
   "metadata": {
    "ExecuteTime": {
     "end_time": "2019-05-27T22:04:28.416941Z",
     "start_time": "2019-05-27T22:04:28.406050Z"
    }
   },
   "outputs": [
    {
     "name": "stderr",
     "output_type": "stream",
     "text": [
      "Using TensorFlow backend.\n"
     ]
    }
   ],
   "source": [
    "%matplotlib inline\n",
    "import matplotlib.pyplot as plt\n",
    "import seaborn as sns\n",
    "import pandas as pd\n",
    "import numpy as np\n",
    "\n",
    "import tensorflow as tf\n",
    "from keras.models import Model, load_model\n",
    "from keras.layers import Input, Dense\n",
    "from keras.callbacks import ModelCheckpoint, TensorBoard, EarlyStopping, ReduceLROnPlateau\n",
    "from keras import regularizers\n",
    "\n",
    "from sklearn.preprocessing import StandardScaler\n",
    "from sklearn.model_selection import train_test_split\n",
    "from sklearn.metrics import confusion_matrix, precision_recall_curve\n",
    "from sklearn.metrics import recall_score, classification_report, auc, roc_curve\n",
    "from sklearn.metrics import precision_recall_fscore_support, f1_score\n",
    "\n",
    "import numpy as np\n",
    "from numpy.random import seed\n",
    "seed(1)\n",
    "from tensorflow import set_random_seed\n",
    "set_random_seed(2)\n",
    "\n",
    "SEED = 123 \n",
    "DATA_SPLIT_PCT = 0.2\n",
    "\n",
    "LABELS = [\"Normal\",\"Attack\"]\n",
    "\n",
    "# please adjust the dataset paths\n",
    "NORMAL = 'data/BATADAL_dataset03.csv'\n",
    "MIXED = 'data/BATADAL_dataset04.csv'"
   ]
  },
  {
   "cell_type": "code",
   "execution_count": 2,
   "metadata": {
    "ExecuteTime": {
     "end_time": "2019-05-27T22:04:28.490859Z",
     "start_time": "2019-05-27T22:04:28.418839Z"
    }
   },
   "outputs": [],
   "source": [
    "df_normal =  pd.read_csv(NORMAL, encoding=\"utf-8-sig\", skipinitialspace=True)\n",
    "df_mixed = pd.read_csv(MIXED, encoding=\"utf-8-sig\", skipinitialspace=True)"
   ]
  },
  {
   "cell_type": "markdown",
   "metadata": {},
   "source": [
    "Harmonize the labels across the datasets to 0 / 1\n",
    "\n",
    "**WARNING**: THIS TREATS *unlabeled* DATA AS NORMAL, see https://batadal.net/images/rules.pdf for the documentation of the -999 value.\n"
   ]
  },
  {
   "cell_type": "code",
   "execution_count": 3,
   "metadata": {
    "ExecuteTime": {
     "end_time": "2019-05-27T22:04:28.495346Z",
     "start_time": "2019-05-27T22:04:28.492085Z"
    }
   },
   "outputs": [],
   "source": [
    "df_mixed.ATT_FLAG.replace([-999, 1], [0, 1], inplace=True)"
   ]
  },
  {
   "cell_type": "markdown",
   "metadata": {},
   "source": [
    "Drop non-numeric columns, concatenate the dataframes.\n",
    "We train the autoencoder on the normal data from BATADAL_dataset03 and test on BATADAL_dataset04"
   ]
  },
  {
   "cell_type": "code",
   "execution_count": 4,
   "metadata": {
    "ExecuteTime": {
     "end_time": "2019-05-27T22:04:28.511711Z",
     "start_time": "2019-05-27T22:04:28.496963Z"
    }
   },
   "outputs": [],
   "source": [
    "df_normal = df_normal.drop(['DATETIME'], axis=1)\n",
    "df_mixed = df_mixed.drop(['DATETIME'], axis=1)\n",
    "\n",
    "df = pd.concat([df_normal, df_mixed], ignore_index=True)"
   ]
  },
  {
   "cell_type": "markdown",
   "metadata": {},
   "source": [
    "Splitting into training, validation, testing, group into classes"
   ]
  },
  {
   "cell_type": "code",
   "execution_count": 5,
   "metadata": {
    "ExecuteTime": {
     "end_time": "2019-05-27T22:04:28.527210Z",
     "start_time": "2019-05-27T22:04:28.513596Z"
    }
   },
   "outputs": [],
   "source": [
    "df_train, df_test = train_test_split(df, test_size=DATA_SPLIT_PCT, random_state=SEED)\n",
    "df_train, df_valid = train_test_split(df_train, test_size=DATA_SPLIT_PCT, random_state=SEED)"
   ]
  },
  {
   "cell_type": "code",
   "execution_count": 6,
   "metadata": {
    "ExecuteTime": {
     "end_time": "2019-05-27T22:04:28.545427Z",
     "start_time": "2019-05-27T22:04:28.528427Z"
    }
   },
   "outputs": [],
   "source": [
    "df_train_0 = df_train.loc[df['ATT_FLAG'] == 0]\n",
    "df_train_1 = df_train.loc[df['ATT_FLAG'] == 1]\n",
    "\n",
    "df_train_0_x = df_train_0.drop(['ATT_FLAG'], axis=1)\n",
    "df_train_1_x = df_train_1.drop(['ATT_FLAG'], axis=1)\n",
    "\n",
    "\n",
    "df_valid_0 = df_valid.loc[df['ATT_FLAG'] == 0]\n",
    "df_valid_1 = df_valid.loc[df['ATT_FLAG'] == 1]\n",
    "\n",
    "df_valid_0_x = df_valid_0.drop(['ATT_FLAG'], axis=1)\n",
    "df_valid_1_x = df_valid_1.drop(['ATT_FLAG'], axis=1)\n",
    "\n",
    "\n",
    "df_test_0 = df_test.loc[df['ATT_FLAG'] == 0]\n",
    "df_test_1 = df_test.loc[df['ATT_FLAG'] == 1]\n",
    "\n",
    "df_test_0_x = df_test_0.drop(['ATT_FLAG'], axis=1)\n",
    "df_test_1_x = df_test_1.drop(['ATT_FLAG'], axis=1)"
   ]
  },
  {
   "cell_type": "markdown",
   "metadata": {},
   "source": [
    "Scale the data to 0-1 range"
   ]
  },
  {
   "cell_type": "code",
   "execution_count": 7,
   "metadata": {
    "ExecuteTime": {
     "end_time": "2019-05-27T22:04:28.564577Z",
     "start_time": "2019-05-27T22:04:28.547025Z"
    }
   },
   "outputs": [],
   "source": [
    "scaler = StandardScaler().fit(df_train_0_x)\n",
    "df_train_0_x_rescaled = scaler.transform(df_train_0_x)\n",
    "df_valid_0_x_rescaled = scaler.transform(df_valid_0_x)\n",
    "df_valid_x_rescaled = scaler.transform(df_valid.drop(['ATT_FLAG'], axis = 1))\n",
    "\n",
    "df_test_0_x_rescaled = scaler.transform(df_test_0_x)\n",
    "df_test_x_rescaled = scaler.transform(df_test.drop(['ATT_FLAG'], axis = 1))"
   ]
  },
  {
   "cell_type": "markdown",
   "metadata": {},
   "source": [
    "## Set up a neural network with relu-encoder"
   ]
  },
  {
   "cell_type": "code",
   "execution_count": 8,
   "metadata": {
    "ExecuteTime": {
     "end_time": "2019-05-27T22:04:28.613962Z",
     "start_time": "2019-05-27T22:04:28.565802Z"
    }
   },
   "outputs": [
    {
     "name": "stdout",
     "output_type": "stream",
     "text": [
      "WARNING:tensorflow:From /usr/local/lib/python3.7/site-packages/tensorflow/python/framework/op_def_library.py:263: colocate_with (from tensorflow.python.framework.ops) is deprecated and will be removed in a future version.\n",
      "Instructions for updating:\n",
      "Colocations handled automatically by placer.\n"
     ]
    }
   ],
   "source": [
    "'''\n",
    "By setting encoder from one of the elements in the encoders list you can choose which encoder to use\n",
    "'''\n",
    "\n",
    "encoders = ['relu', 'tanh', 'relu_ext', 'tanh_ext']\n",
    "encoder = encoders[3]\n",
    "\n",
    "'''\n",
    "By setting test_suit to one of the elements in the test_suites list you can choose which test suite to use\n",
    "'''\n",
    "\n",
    "test_suites = [0,1,2,3,4]\n",
    "test_suit = test_suites[3]\n",
    "if test_suit == 0:\n",
    "    nb_epoch = 500\n",
    "    batch_size = 32\n",
    "    input_dim = df_train_0_x_rescaled.shape[1] #num of predictor variables, \n",
    "    encoding_dim = 36\n",
    "    hidden_dim = int(encoding_dim / 2)\n",
    "    learning_rate = 1e-3\n",
    "    \n",
    "if test_suit == 1: #smaller encoding_dim\n",
    "    nb_epoch = 500\n",
    "    batch_size = 32\n",
    "    input_dim = df_train_0_x_rescaled.shape[1] #num of predictor variables, \n",
    "    encoding_dim = 14\n",
    "    hidden_dim = int(encoding_dim / 2)\n",
    "    learning_rate = 1e-3\n",
    "    \n",
    "if test_suit == 2: #larger batch size\n",
    "    nb_epoch = 500\n",
    "    batch_size = 128\n",
    "    input_dim = df_train_0_x_rescaled.shape[1] #num of predictor variables, \n",
    "    encoding_dim = 36\n",
    "    hidden_dim = int(encoding_dim / 2)\n",
    "    learning_rate = 1e-3\n",
    "    \n",
    "if test_suit == 3: #longer learning rate\n",
    "    nb_epoch = 500\n",
    "    batch_size = 32\n",
    "    input_dim = df_train_0_x_rescaled.shape[1] #num of predictor variables, \n",
    "    encoding_dim = 36\n",
    "    hidden_dim = int(encoding_dim / 2)\n",
    "    learning_rate = 5e-3\n",
    "    \n",
    "if test_suit == 4: #encodeing_dim > data dim\n",
    "    nb_epoch = 500\n",
    "    batch_size = 32\n",
    "    input_dim = df_train_0_x_rescaled.shape[1] #num of predictor variables, \n",
    "    encoding_dim = 60\n",
    "    hidden_dim = int(encoding_dim / 2)\n",
    "    learning_rate = 1e-3\n",
    "\n",
    "if encoder == 'relu':\n",
    "    input_layer = Input(shape=(input_dim, ))\n",
    "    encoder = Dense(encoding_dim, activation=\"tanh\", activity_regularizer=regularizers.l1(learning_rate))(input_layer)\n",
    "    encoder = Dense(hidden_dim, activation=\"relu\")(encoder)\n",
    "    decoder = Dense(hidden_dim, activation='tanh')(encoder)\n",
    "    decoder = Dense(input_dim, activation='relu')(decoder)\n",
    "    autoencoder = Model(inputs=input_layer, outputs=decoder)\n",
    "\n",
    "if encoder == 'relu_ext': #with extra layer both encoder and decoder\n",
    "    input_layer = Input(shape=(input_dim, ))\n",
    "    encoder = Dense(encoding_dim, activation=\"tanh\", activity_regularizer=regularizers.l1(learning_rate))(input_layer)\n",
    "    encoder = Dense(hidden_dim, activation=\"relu\")(encoder)\n",
    "    encoder = Dense(hidden_dim, activation=\"relu\")(encoder)\n",
    "    decoder = Dense(hidden_dim, activation='tanh')(encoder)\n",
    "    decoder = Dense(hidden_dim, activation='relu')(decoder)\n",
    "    decoder = Dense(input_dim, activation='relu')(decoder)\n",
    "    autoencoder = Model(inputs=input_layer, outputs=decoder)\n",
    "    \n",
    "if encoder == 'tanh':\n",
    "    input_layer = Input(shape=(input_dim, ))\n",
    "    encoder = Dense(encoding_dim, activation=\"tanh\", activity_regularizer=regularizers.l1(learning_rate))(input_layer)\n",
    "    encoder = Dense(hidden_dim, activation=\"tanh\")(encoder)\n",
    "    decoder = Dense(hidden_dim, activation='tanh')(encoder)\n",
    "    decoder = Dense(input_dim, activation='tanh')(decoder)\n",
    "    autoencoder = Model(inputs=input_layer, outputs=decoder)\n",
    "    \n",
    "if encoder == 'tanh_ext':\n",
    "    input_layer = Input(shape=(input_dim, ))\n",
    "    encoder = Dense(encoding_dim, activation=\"tanh\", activity_regularizer=regularizers.l1(learning_rate))(input_layer)\n",
    "    encoder = Dense(hidden_dim, activation=\"tanh\")(encoder)\n",
    "    encoder = Dense(hidden_dim, activation=\"tanh\")(encoder)\n",
    "    decoder = Dense(hidden_dim, activation='tanh')(encoder)\n",
    "    decoder = Dense(hidden_dim, activation='tanh')(decoder)\n",
    "    decoder = Dense(input_dim, activation='tanh')(decoder)\n",
    "    autoencoder = Model(inputs=input_layer, outputs=decoder)"
   ]
  },
  {
   "cell_type": "markdown",
   "metadata": {},
   "source": [
    "This requires pydot and graphviz installed"
   ]
  },
  {
   "cell_type": "code",
   "execution_count": 9,
   "metadata": {
    "ExecuteTime": {
     "end_time": "2019-05-27T22:04:28.674419Z",
     "start_time": "2019-05-27T22:04:28.615158Z"
    }
   },
   "outputs": [
    {
     "data": {
      "image/svg+xml": [
       "<svg height=\"539pt\" viewBox=\"0.00 0.00 268.68 539.00\" width=\"269pt\" xmlns=\"http://www.w3.org/2000/svg\" xmlns:xlink=\"http://www.w3.org/1999/xlink\">\n",
       "<g class=\"graph\" id=\"graph0\" transform=\"scale(1 1) rotate(0) translate(4 535)\">\n",
       "<title>G</title>\n",
       "<polygon fill=\"#ffffff\" points=\"-4,4 -4,-535 264.6797,-535 264.6797,4 -4,4\" stroke=\"transparent\"/>\n",
       "<!-- 4979122072 -->\n",
       "<g class=\"node\" id=\"node1\">\n",
       "<title>4979122072</title>\n",
       "<polygon fill=\"none\" points=\"0,-486.5 0,-530.5 260.6797,-530.5 260.6797,-486.5 0,-486.5\" stroke=\"#000000\"/>\n",
       "<text fill=\"#000000\" font-family=\"Times,serif\" font-size=\"14.00\" text-anchor=\"middle\" x=\"64.1812\" y=\"-504.3\">input_1: InputLayer</text>\n",
       "<polyline fill=\"none\" points=\"128.3623,-486.5 128.3623,-530.5 \" stroke=\"#000000\"/>\n",
       "<text fill=\"#000000\" font-family=\"Times,serif\" font-size=\"14.00\" text-anchor=\"middle\" x=\"156.1968\" y=\"-515.3\">input:</text>\n",
       "<polyline fill=\"none\" points=\"128.3623,-508.5 184.0313,-508.5 \" stroke=\"#000000\"/>\n",
       "<text fill=\"#000000\" font-family=\"Times,serif\" font-size=\"14.00\" text-anchor=\"middle\" x=\"156.1968\" y=\"-493.3\">output:</text>\n",
       "<polyline fill=\"none\" points=\"184.0313,-486.5 184.0313,-530.5 \" stroke=\"#000000\"/>\n",
       "<text fill=\"#000000\" font-family=\"Times,serif\" font-size=\"14.00\" text-anchor=\"middle\" x=\"222.3555\" y=\"-515.3\">(None, 43)</text>\n",
       "<polyline fill=\"none\" points=\"184.0313,-508.5 260.6797,-508.5 \" stroke=\"#000000\"/>\n",
       "<text fill=\"#000000\" font-family=\"Times,serif\" font-size=\"14.00\" text-anchor=\"middle\" x=\"222.3555\" y=\"-493.3\">(None, 43)</text>\n",
       "</g>\n",
       "<!-- 4979057496 -->\n",
       "<g class=\"node\" id=\"node2\">\n",
       "<title>4979057496</title>\n",
       "<polygon fill=\"none\" points=\"12.0552,-405.5 12.0552,-449.5 248.6245,-449.5 248.6245,-405.5 12.0552,-405.5\" stroke=\"#000000\"/>\n",
       "<text fill=\"#000000\" font-family=\"Times,serif\" font-size=\"14.00\" text-anchor=\"middle\" x=\"64.1812\" y=\"-423.3\">dense_1: Dense</text>\n",
       "<polyline fill=\"none\" points=\"116.3071,-405.5 116.3071,-449.5 \" stroke=\"#000000\"/>\n",
       "<text fill=\"#000000\" font-family=\"Times,serif\" font-size=\"14.00\" text-anchor=\"middle\" x=\"144.1416\" y=\"-434.3\">input:</text>\n",
       "<polyline fill=\"none\" points=\"116.3071,-427.5 171.9761,-427.5 \" stroke=\"#000000\"/>\n",
       "<text fill=\"#000000\" font-family=\"Times,serif\" font-size=\"14.00\" text-anchor=\"middle\" x=\"144.1416\" y=\"-412.3\">output:</text>\n",
       "<polyline fill=\"none\" points=\"171.9761,-405.5 171.9761,-449.5 \" stroke=\"#000000\"/>\n",
       "<text fill=\"#000000\" font-family=\"Times,serif\" font-size=\"14.00\" text-anchor=\"middle\" x=\"210.3003\" y=\"-434.3\">(None, 43)</text>\n",
       "<polyline fill=\"none\" points=\"171.9761,-427.5 248.6245,-427.5 \" stroke=\"#000000\"/>\n",
       "<text fill=\"#000000\" font-family=\"Times,serif\" font-size=\"14.00\" text-anchor=\"middle\" x=\"210.3003\" y=\"-412.3\">(None, 36)</text>\n",
       "</g>\n",
       "<!-- 4979122072&#45;&gt;4979057496 -->\n",
       "<g class=\"edge\" id=\"edge1\">\n",
       "<title>4979122072-&gt;4979057496</title>\n",
       "<path d=\"M130.3398,-486.3664C130.3398,-478.1516 130.3398,-468.6579 130.3398,-459.7252\" fill=\"none\" stroke=\"#000000\"/>\n",
       "<polygon fill=\"#000000\" points=\"133.8399,-459.6068 130.3398,-449.6068 126.8399,-459.6069 133.8399,-459.6068\" stroke=\"#000000\"/>\n",
       "</g>\n",
       "<!-- 4979057440 -->\n",
       "<g class=\"node\" id=\"node3\">\n",
       "<title>4979057440</title>\n",
       "<polygon fill=\"none\" points=\"12.0552,-324.5 12.0552,-368.5 248.6245,-368.5 248.6245,-324.5 12.0552,-324.5\" stroke=\"#000000\"/>\n",
       "<text fill=\"#000000\" font-family=\"Times,serif\" font-size=\"14.00\" text-anchor=\"middle\" x=\"64.1812\" y=\"-342.3\">dense_2: Dense</text>\n",
       "<polyline fill=\"none\" points=\"116.3071,-324.5 116.3071,-368.5 \" stroke=\"#000000\"/>\n",
       "<text fill=\"#000000\" font-family=\"Times,serif\" font-size=\"14.00\" text-anchor=\"middle\" x=\"144.1416\" y=\"-353.3\">input:</text>\n",
       "<polyline fill=\"none\" points=\"116.3071,-346.5 171.9761,-346.5 \" stroke=\"#000000\"/>\n",
       "<text fill=\"#000000\" font-family=\"Times,serif\" font-size=\"14.00\" text-anchor=\"middle\" x=\"144.1416\" y=\"-331.3\">output:</text>\n",
       "<polyline fill=\"none\" points=\"171.9761,-324.5 171.9761,-368.5 \" stroke=\"#000000\"/>\n",
       "<text fill=\"#000000\" font-family=\"Times,serif\" font-size=\"14.00\" text-anchor=\"middle\" x=\"210.3003\" y=\"-353.3\">(None, 36)</text>\n",
       "<polyline fill=\"none\" points=\"171.9761,-346.5 248.6245,-346.5 \" stroke=\"#000000\"/>\n",
       "<text fill=\"#000000\" font-family=\"Times,serif\" font-size=\"14.00\" text-anchor=\"middle\" x=\"210.3003\" y=\"-331.3\">(None, 18)</text>\n",
       "</g>\n",
       "<!-- 4979057496&#45;&gt;4979057440 -->\n",
       "<g class=\"edge\" id=\"edge2\">\n",
       "<title>4979057496-&gt;4979057440</title>\n",
       "<path d=\"M130.3398,-405.3664C130.3398,-397.1516 130.3398,-387.6579 130.3398,-378.7252\" fill=\"none\" stroke=\"#000000\"/>\n",
       "<polygon fill=\"#000000\" points=\"133.8399,-378.6068 130.3398,-368.6068 126.8399,-378.6069 133.8399,-378.6068\" stroke=\"#000000\"/>\n",
       "</g>\n",
       "<!-- 4994159616 -->\n",
       "<g class=\"node\" id=\"node4\">\n",
       "<title>4994159616</title>\n",
       "<polygon fill=\"none\" points=\"12.0552,-243.5 12.0552,-287.5 248.6245,-287.5 248.6245,-243.5 12.0552,-243.5\" stroke=\"#000000\"/>\n",
       "<text fill=\"#000000\" font-family=\"Times,serif\" font-size=\"14.00\" text-anchor=\"middle\" x=\"64.1812\" y=\"-261.3\">dense_3: Dense</text>\n",
       "<polyline fill=\"none\" points=\"116.3071,-243.5 116.3071,-287.5 \" stroke=\"#000000\"/>\n",
       "<text fill=\"#000000\" font-family=\"Times,serif\" font-size=\"14.00\" text-anchor=\"middle\" x=\"144.1416\" y=\"-272.3\">input:</text>\n",
       "<polyline fill=\"none\" points=\"116.3071,-265.5 171.9761,-265.5 \" stroke=\"#000000\"/>\n",
       "<text fill=\"#000000\" font-family=\"Times,serif\" font-size=\"14.00\" text-anchor=\"middle\" x=\"144.1416\" y=\"-250.3\">output:</text>\n",
       "<polyline fill=\"none\" points=\"171.9761,-243.5 171.9761,-287.5 \" stroke=\"#000000\"/>\n",
       "<text fill=\"#000000\" font-family=\"Times,serif\" font-size=\"14.00\" text-anchor=\"middle\" x=\"210.3003\" y=\"-272.3\">(None, 18)</text>\n",
       "<polyline fill=\"none\" points=\"171.9761,-265.5 248.6245,-265.5 \" stroke=\"#000000\"/>\n",
       "<text fill=\"#000000\" font-family=\"Times,serif\" font-size=\"14.00\" text-anchor=\"middle\" x=\"210.3003\" y=\"-250.3\">(None, 18)</text>\n",
       "</g>\n",
       "<!-- 4979057440&#45;&gt;4994159616 -->\n",
       "<g class=\"edge\" id=\"edge3\">\n",
       "<title>4979057440-&gt;4994159616</title>\n",
       "<path d=\"M130.3398,-324.3664C130.3398,-316.1516 130.3398,-306.6579 130.3398,-297.7252\" fill=\"none\" stroke=\"#000000\"/>\n",
       "<polygon fill=\"#000000\" points=\"133.8399,-297.6068 130.3398,-287.6068 126.8399,-297.6069 133.8399,-297.6068\" stroke=\"#000000\"/>\n",
       "</g>\n",
       "<!-- 4968638504 -->\n",
       "<g class=\"node\" id=\"node5\">\n",
       "<title>4968638504</title>\n",
       "<polygon fill=\"none\" points=\"12.0552,-162.5 12.0552,-206.5 248.6245,-206.5 248.6245,-162.5 12.0552,-162.5\" stroke=\"#000000\"/>\n",
       "<text fill=\"#000000\" font-family=\"Times,serif\" font-size=\"14.00\" text-anchor=\"middle\" x=\"64.1812\" y=\"-180.3\">dense_4: Dense</text>\n",
       "<polyline fill=\"none\" points=\"116.3071,-162.5 116.3071,-206.5 \" stroke=\"#000000\"/>\n",
       "<text fill=\"#000000\" font-family=\"Times,serif\" font-size=\"14.00\" text-anchor=\"middle\" x=\"144.1416\" y=\"-191.3\">input:</text>\n",
       "<polyline fill=\"none\" points=\"116.3071,-184.5 171.9761,-184.5 \" stroke=\"#000000\"/>\n",
       "<text fill=\"#000000\" font-family=\"Times,serif\" font-size=\"14.00\" text-anchor=\"middle\" x=\"144.1416\" y=\"-169.3\">output:</text>\n",
       "<polyline fill=\"none\" points=\"171.9761,-162.5 171.9761,-206.5 \" stroke=\"#000000\"/>\n",
       "<text fill=\"#000000\" font-family=\"Times,serif\" font-size=\"14.00\" text-anchor=\"middle\" x=\"210.3003\" y=\"-191.3\">(None, 18)</text>\n",
       "<polyline fill=\"none\" points=\"171.9761,-184.5 248.6245,-184.5 \" stroke=\"#000000\"/>\n",
       "<text fill=\"#000000\" font-family=\"Times,serif\" font-size=\"14.00\" text-anchor=\"middle\" x=\"210.3003\" y=\"-169.3\">(None, 18)</text>\n",
       "</g>\n",
       "<!-- 4994159616&#45;&gt;4968638504 -->\n",
       "<g class=\"edge\" id=\"edge4\">\n",
       "<title>4994159616-&gt;4968638504</title>\n",
       "<path d=\"M130.3398,-243.3664C130.3398,-235.1516 130.3398,-225.6579 130.3398,-216.7252\" fill=\"none\" stroke=\"#000000\"/>\n",
       "<polygon fill=\"#000000\" points=\"133.8399,-216.6068 130.3398,-206.6068 126.8399,-216.6069 133.8399,-216.6068\" stroke=\"#000000\"/>\n",
       "</g>\n",
       "<!-- 4978746368 -->\n",
       "<g class=\"node\" id=\"node6\">\n",
       "<title>4978746368</title>\n",
       "<polygon fill=\"none\" points=\"12.0552,-81.5 12.0552,-125.5 248.6245,-125.5 248.6245,-81.5 12.0552,-81.5\" stroke=\"#000000\"/>\n",
       "<text fill=\"#000000\" font-family=\"Times,serif\" font-size=\"14.00\" text-anchor=\"middle\" x=\"64.1812\" y=\"-99.3\">dense_5: Dense</text>\n",
       "<polyline fill=\"none\" points=\"116.3071,-81.5 116.3071,-125.5 \" stroke=\"#000000\"/>\n",
       "<text fill=\"#000000\" font-family=\"Times,serif\" font-size=\"14.00\" text-anchor=\"middle\" x=\"144.1416\" y=\"-110.3\">input:</text>\n",
       "<polyline fill=\"none\" points=\"116.3071,-103.5 171.9761,-103.5 \" stroke=\"#000000\"/>\n",
       "<text fill=\"#000000\" font-family=\"Times,serif\" font-size=\"14.00\" text-anchor=\"middle\" x=\"144.1416\" y=\"-88.3\">output:</text>\n",
       "<polyline fill=\"none\" points=\"171.9761,-81.5 171.9761,-125.5 \" stroke=\"#000000\"/>\n",
       "<text fill=\"#000000\" font-family=\"Times,serif\" font-size=\"14.00\" text-anchor=\"middle\" x=\"210.3003\" y=\"-110.3\">(None, 18)</text>\n",
       "<polyline fill=\"none\" points=\"171.9761,-103.5 248.6245,-103.5 \" stroke=\"#000000\"/>\n",
       "<text fill=\"#000000\" font-family=\"Times,serif\" font-size=\"14.00\" text-anchor=\"middle\" x=\"210.3003\" y=\"-88.3\">(None, 18)</text>\n",
       "</g>\n",
       "<!-- 4968638504&#45;&gt;4978746368 -->\n",
       "<g class=\"edge\" id=\"edge5\">\n",
       "<title>4968638504-&gt;4978746368</title>\n",
       "<path d=\"M130.3398,-162.3664C130.3398,-154.1516 130.3398,-144.6579 130.3398,-135.7252\" fill=\"none\" stroke=\"#000000\"/>\n",
       "<polygon fill=\"#000000\" points=\"133.8399,-135.6068 130.3398,-125.6068 126.8399,-135.6069 133.8399,-135.6068\" stroke=\"#000000\"/>\n",
       "</g>\n",
       "<!-- 4978864816 -->\n",
       "<g class=\"node\" id=\"node7\">\n",
       "<title>4978864816</title>\n",
       "<polygon fill=\"none\" points=\"12.0552,-.5 12.0552,-44.5 248.6245,-44.5 248.6245,-.5 12.0552,-.5\" stroke=\"#000000\"/>\n",
       "<text fill=\"#000000\" font-family=\"Times,serif\" font-size=\"14.00\" text-anchor=\"middle\" x=\"64.1812\" y=\"-18.3\">dense_6: Dense</text>\n",
       "<polyline fill=\"none\" points=\"116.3071,-.5 116.3071,-44.5 \" stroke=\"#000000\"/>\n",
       "<text fill=\"#000000\" font-family=\"Times,serif\" font-size=\"14.00\" text-anchor=\"middle\" x=\"144.1416\" y=\"-29.3\">input:</text>\n",
       "<polyline fill=\"none\" points=\"116.3071,-22.5 171.9761,-22.5 \" stroke=\"#000000\"/>\n",
       "<text fill=\"#000000\" font-family=\"Times,serif\" font-size=\"14.00\" text-anchor=\"middle\" x=\"144.1416\" y=\"-7.3\">output:</text>\n",
       "<polyline fill=\"none\" points=\"171.9761,-.5 171.9761,-44.5 \" stroke=\"#000000\"/>\n",
       "<text fill=\"#000000\" font-family=\"Times,serif\" font-size=\"14.00\" text-anchor=\"middle\" x=\"210.3003\" y=\"-29.3\">(None, 18)</text>\n",
       "<polyline fill=\"none\" points=\"171.9761,-22.5 248.6245,-22.5 \" stroke=\"#000000\"/>\n",
       "<text fill=\"#000000\" font-family=\"Times,serif\" font-size=\"14.00\" text-anchor=\"middle\" x=\"210.3003\" y=\"-7.3\">(None, 43)</text>\n",
       "</g>\n",
       "<!-- 4978746368&#45;&gt;4978864816 -->\n",
       "<g class=\"edge\" id=\"edge6\">\n",
       "<title>4978746368-&gt;4978864816</title>\n",
       "<path d=\"M130.3398,-81.3664C130.3398,-73.1516 130.3398,-63.6579 130.3398,-54.7252\" fill=\"none\" stroke=\"#000000\"/>\n",
       "<polygon fill=\"#000000\" points=\"133.8399,-54.6068 130.3398,-44.6068 126.8399,-54.6069 133.8399,-54.6068\" stroke=\"#000000\"/>\n",
       "</g>\n",
       "</g>\n",
       "</svg>"
      ],
      "text/plain": [
       "<IPython.core.display.SVG object>"
      ]
     },
     "execution_count": 9,
     "metadata": {},
     "output_type": "execute_result"
    }
   ],
   "source": [
    "from IPython.display import SVG\n",
    "from keras.utils.vis_utils import model_to_dot\n",
    "\n",
    "SVG(model_to_dot(autoencoder, show_shapes=True, show_layer_names=True).create(prog='dot', format='svg'))"
   ]
  },
  {
   "cell_type": "markdown",
   "metadata": {},
   "source": [
    "## Train the network"
   ]
  },
  {
   "cell_type": "code",
   "execution_count": 10,
   "metadata": {
    "ExecuteTime": {
     "end_time": "2019-05-27T22:04:45.768099Z",
     "start_time": "2019-05-27T22:04:28.675989Z"
    }
   },
   "outputs": [
    {
     "name": "stdout",
     "output_type": "stream",
     "text": [
      "WARNING:tensorflow:From /usr/local/lib/python3.7/site-packages/tensorflow/python/ops/math_ops.py:3066: to_int32 (from tensorflow.python.ops.math_ops) is deprecated and will be removed in a future version.\n",
      "Instructions for updating:\n",
      "Use tf.cast instead.\n"
     ]
    },
    {
     "name": "stderr",
     "output_type": "stream",
     "text": [
      "/usr/local/lib/python3.7/site-packages/keras/callbacks.py:1065: UserWarning: `epsilon` argument is deprecated and will be removed, use `min_delta` instead.\n",
      "  warnings.warn('`epsilon` argument is deprecated and '\n"
     ]
    },
    {
     "name": "stdout",
     "output_type": "stream",
     "text": [
      "Train on 8143 samples, validate on 2030 samples\n",
      "Epoch 1/500\n",
      "8143/8143 [==============================] - 1s 119us/step - loss: 1.8452 - acc: 0.0921 - val_loss: 0.8084 - val_acc: 0.2015\n",
      "Epoch 2/500\n",
      "8143/8143 [==============================] - 1s 78us/step - loss: 0.6840 - acc: 0.2332 - val_loss: 0.5424 - val_acc: 0.2320\n",
      "Epoch 3/500\n",
      "8143/8143 [==============================] - 1s 80us/step - loss: 0.5459 - acc: 0.2553 - val_loss: 0.4690 - val_acc: 0.2271\n",
      "Epoch 4/500\n",
      "8143/8143 [==============================] - 1s 81us/step - loss: 0.4879 - acc: 0.2746 - val_loss: 0.4210 - val_acc: 0.2232\n",
      "Epoch 5/500\n",
      "8143/8143 [==============================] - 1s 70us/step - loss: 0.4495 - acc: 0.2716 - val_loss: 0.4028 - val_acc: 0.2665\n",
      "Epoch 6/500\n",
      "8143/8143 [==============================] - 1s 70us/step - loss: 0.4250 - acc: 0.2584 - val_loss: 0.3740 - val_acc: 0.1936\n",
      "Epoch 7/500\n",
      "8143/8143 [==============================] - 1s 72us/step - loss: 0.4096 - acc: 0.2570 - val_loss: 0.3715 - val_acc: 0.2330\n",
      "Epoch 8/500\n",
      "8143/8143 [==============================] - 1s 71us/step - loss: 0.4004 - acc: 0.2506 - val_loss: 0.3668 - val_acc: 0.2163\n",
      "Epoch 9/500\n",
      "8143/8143 [==============================] - 1s 79us/step - loss: 0.3917 - acc: 0.2330 - val_loss: 0.3461 - val_acc: 0.2581\n",
      "Epoch 10/500\n",
      "8143/8143 [==============================] - 1s 75us/step - loss: 0.3886 - acc: 0.2190 - val_loss: 0.3531 - val_acc: 0.1241\n",
      "Epoch 11/500\n",
      "8143/8143 [==============================] - 1s 77us/step - loss: 0.3659 - acc: 0.2144 - val_loss: 0.3259 - val_acc: 0.1847\n",
      "Epoch 12/500\n",
      "8143/8143 [==============================] - 1s 80us/step - loss: 0.3652 - acc: 0.2090 - val_loss: 0.3268 - val_acc: 0.2207\n",
      "Epoch 13/500\n",
      "8143/8143 [==============================] - 1s 86us/step - loss: 0.3536 - acc: 0.2088 - val_loss: 0.3155 - val_acc: 0.2025\n",
      "Epoch 14/500\n",
      "8143/8143 [==============================] - 1s 77us/step - loss: 0.3520 - acc: 0.2067 - val_loss: 0.3129 - val_acc: 0.2074\n",
      "Epoch 15/500\n",
      "8143/8143 [==============================] - 1s 75us/step - loss: 0.3511 - acc: 0.2053 - val_loss: 0.3125 - val_acc: 0.2133\n",
      "Epoch 16/500\n",
      "8143/8143 [==============================] - 1s 78us/step - loss: 0.3493 - acc: 0.2016 - val_loss: 0.3117 - val_acc: 0.1808\n",
      "Epoch 17/500\n",
      "8143/8143 [==============================] - 1s 73us/step - loss: 0.3478 - acc: 0.2004 - val_loss: 0.3102 - val_acc: 0.1951\n",
      "Epoch 18/500\n",
      "8143/8143 [==============================] - 1s 72us/step - loss: 0.3469 - acc: 0.1994 - val_loss: 0.3084 - val_acc: 0.1808\n",
      "Epoch 19/500\n",
      "8143/8143 [==============================] - 1s 70us/step - loss: 0.3458 - acc: 0.2029 - val_loss: 0.3093 - val_acc: 0.1616\n",
      "Epoch 20/500\n",
      "8143/8143 [==============================] - 1s 93us/step - loss: 0.3404 - acc: 0.2043 - val_loss: 0.3024 - val_acc: 0.1990\n",
      "Epoch 21/500\n",
      "8143/8143 [==============================] - 1s 76us/step - loss: 0.3393 - acc: 0.2079 - val_loss: 0.3023 - val_acc: 0.1872\n",
      "Epoch 22/500\n",
      "8143/8143 [==============================] - 1s 80us/step - loss: 0.3372 - acc: 0.2112 - val_loss: 0.2998 - val_acc: 0.2059\n",
      "Epoch 23/500\n",
      "8143/8143 [==============================] - 1s 90us/step - loss: 0.3366 - acc: 0.2078 - val_loss: 0.2996 - val_acc: 0.1970\n",
      "Epoch 24/500\n",
      "8143/8143 [==============================] - 1s 78us/step - loss: 0.3362 - acc: 0.2091 - val_loss: 0.2990 - val_acc: 0.2044\n",
      "Epoch 25/500\n",
      "8143/8143 [==============================] - 1s 74us/step - loss: 0.3358 - acc: 0.2128 - val_loss: 0.2983 - val_acc: 0.2039\n",
      "Epoch 26/500\n",
      "8143/8143 [==============================] - 1s 75us/step - loss: 0.3354 - acc: 0.2126 - val_loss: 0.2978 - val_acc: 0.2128\n",
      "Epoch 27/500\n",
      "8143/8143 [==============================] - 1s 79us/step - loss: 0.3351 - acc: 0.2110 - val_loss: 0.2979 - val_acc: 0.1990\n",
      "Epoch 28/500\n",
      "8143/8143 [==============================] - 1s 82us/step - loss: 0.3339 - acc: 0.2091 - val_loss: 0.2970 - val_acc: 0.2000\n",
      "Epoch 29/500\n",
      "8143/8143 [==============================] - 1s 76us/step - loss: 0.3336 - acc: 0.2116 - val_loss: 0.2966 - val_acc: 0.2039\n",
      "Epoch 30/500\n",
      "8143/8143 [==============================] - 1s 74us/step - loss: 0.3334 - acc: 0.2139 - val_loss: 0.2961 - val_acc: 0.2030\n",
      "Epoch 31/500\n",
      "8143/8143 [==============================] - 1s 75us/step - loss: 0.3330 - acc: 0.2136 - val_loss: 0.2961 - val_acc: 0.2094\n",
      "Epoch 32/500\n",
      "8143/8143 [==============================] - 1s 84us/step - loss: 0.3324 - acc: 0.2134 - val_loss: 0.2957 - val_acc: 0.2030\n",
      "Epoch 33/500\n",
      "8143/8143 [==============================] - 1s 73us/step - loss: 0.3323 - acc: 0.2170 - val_loss: 0.2955 - val_acc: 0.2049\n",
      "Epoch 34/500\n",
      "8143/8143 [==============================] - 1s 64us/step - loss: 0.3322 - acc: 0.2144 - val_loss: 0.2952 - val_acc: 0.2108\n",
      "Epoch 35/500\n",
      "8143/8143 [==============================] - 1s 71us/step - loss: 0.3321 - acc: 0.2175 - val_loss: 0.2953 - val_acc: 0.2089\n",
      "Epoch 36/500\n",
      "8143/8143 [==============================] - 1s 70us/step - loss: 0.3318 - acc: 0.2165 - val_loss: 0.2949 - val_acc: 0.2069\n",
      "Epoch 37/500\n",
      "8143/8143 [==============================] - 1s 73us/step - loss: 0.3316 - acc: 0.2168 - val_loss: 0.2949 - val_acc: 0.2020\n",
      "Epoch 38/500\n",
      "8143/8143 [==============================] - 1s 75us/step - loss: 0.3316 - acc: 0.2140 - val_loss: 0.2948 - val_acc: 0.2084\n",
      "Epoch 39/500\n",
      "8143/8143 [==============================] - 1s 76us/step - loss: 0.3315 - acc: 0.2166 - val_loss: 0.2947 - val_acc: 0.2079\n",
      "Epoch 40/500\n",
      "8143/8143 [==============================] - 1s 71us/step - loss: 0.3315 - acc: 0.2165 - val_loss: 0.2946 - val_acc: 0.2084\n",
      "Epoch 41/500\n",
      "8143/8143 [==============================] - 1s 77us/step - loss: 0.3314 - acc: 0.2160 - val_loss: 0.2946 - val_acc: 0.2094\n",
      "Epoch 42/500\n",
      "8143/8143 [==============================] - 1s 72us/step - loss: 0.3312 - acc: 0.2170 - val_loss: 0.2946 - val_acc: 0.2089\n",
      "Epoch 43/500\n",
      "8143/8143 [==============================] - 1s 72us/step - loss: 0.3314 - acc: 0.2165 - val_loss: 0.2946 - val_acc: 0.2079\n"
     ]
    }
   ],
   "source": [
    "autoencoder.compile(metrics=['accuracy'],\n",
    "                    loss='mean_squared_error',\n",
    "                    optimizer='adam')\n",
    "\n",
    "cp = ModelCheckpoint(filepath=\"autoencoder_classifier.h5\",\n",
    "                               save_best_only=True,\n",
    "                               verbose=0)\n",
    "\n",
    "tb = TensorBoard(log_dir='./logs',\n",
    "                histogram_freq=0,\n",
    "                write_graph=True,\n",
    "                write_images=True)\n",
    "\n",
    "earlyStopping= EarlyStopping(monitor='val_loss', patience=3, verbose=0,  min_delta=1e-4, mode='auto')\n",
    "lr_reduced = ReduceLROnPlateau(monitor='val_loss', factor=0.5, patience=1, verbose=0, epsilon=1e-4, mode='min')\n",
    "\n",
    "history = autoencoder.fit(df_train_0_x_rescaled, df_train_0_x_rescaled,\n",
    "                    epochs=nb_epoch,\n",
    "                    batch_size=batch_size,\n",
    "                    shuffle=True,\n",
    "                    validation_data=(df_valid_0_x_rescaled, df_valid_0_x_rescaled),\n",
    "                    verbose=1,\n",
    "                    callbacks=[cp, tb, earlyStopping,lr_reduced]).history"
   ]
  },
  {
   "cell_type": "markdown",
   "metadata": {},
   "source": [
    "## Validate "
   ]
  },
  {
   "cell_type": "code",
   "execution_count": 11,
   "metadata": {
    "ExecuteTime": {
     "end_time": "2019-05-27T22:04:45.949468Z",
     "start_time": "2019-05-27T22:04:45.769509Z"
    }
   },
   "outputs": [
    {
     "data": {
      "image/png": "[encoded data removed]",
      "text/plain": [
       "<Figure size 432x288 with 1 Axes>"
      ]
     },
     "metadata": {
      "needs_background": "light"
     },
     "output_type": "display_data"
    }
   ],
   "source": [
    "valid_x_predictions = autoencoder.predict(df_valid_x_rescaled)\n",
    "mse = np.mean(np.power(df_valid_x_rescaled - valid_x_predictions, 2), axis=1)\n",
    "error_df = pd.DataFrame({'Reconstruction_error': mse,\n",
    "                        'True_class': df_valid['ATT_FLAG'] == 1})\n",
    "\n",
    "precision_rt, recall_rt, threshold_rt = precision_recall_curve(error_df.True_class, error_df.Reconstruction_error)\n",
    "plt.plot(threshold_rt, precision_rt[1:], label=\"Precision\",linewidth=5)\n",
    "plt.plot(threshold_rt, recall_rt[1:], label=\"Recall\",linewidth=5)\n",
    "plt.title('Precision and recall for different threshold values')\n",
    "plt.xlabel('Threshold / reconstruction error')\n",
    "plt.ylabel('Precision/Recall')\n",
    "plt.legend()\n",
    "plt.show()"
   ]
  },
  {
   "cell_type": "markdown",
   "metadata": {},
   "source": [
    "## Evaluate on testing\n",
    "\n",
    "based on the above plot, choose a fixed threshold when the reconstruction error is too large"
   ]
  },
  {
   "cell_type": "code",
   "execution_count": 12,
   "metadata": {
    "ExecuteTime": {
     "end_time": "2019-05-27T22:04:46.125354Z",
     "start_time": "2019-05-27T22:04:45.951432Z"
    }
   },
   "outputs": [
    {
     "name": "stdout",
     "output_type": "stream",
     "text": [
      "Threshold:  1.0\n"
     ]
    },
    {
     "data": {
      "image/png": "[encoded data removed]",
      "text/plain": [
       "<Figure size 432x288 with 1 Axes>"
      ]
     },
     "metadata": {
      "needs_background": "light"
     },
     "output_type": "display_data"
    },
    {
     "data": {
      "image/png": "[encoded data removed]",
      "text/plain": [
       "<Figure size 864x864 with 2 Axes>"
      ]
     },
     "metadata": {
      "needs_background": "light"
     },
     "output_type": "display_data"
    }
   ],
   "source": [
    "threshold_fixed = 1.0\n",
    "\n",
    "\n",
    "test_x_predictions = autoencoder.predict(df_test_x_rescaled)\n",
    "mse = np.mean(np.power(df_test_x_rescaled - test_x_predictions, 2), axis=1)\n",
    "error_df_test = pd.DataFrame({'Reconstruction_error': mse,\n",
    "                        'True_class': df_test['ATT_FLAG']})\n",
    "error_df_test = error_df_test.reset_index()\n",
    "\n",
    "groups = error_df_test.groupby('True_class')\n",
    "\n",
    "fig, ax = plt.subplots()\n",
    "\n",
    "for name, group in groups:\n",
    "    ax.plot(group.index, group.Reconstruction_error, marker='o', ms=3.5, linestyle='',\n",
    "            label= \"Attack\" if name == 1 else \"Normal\")\n",
    "ax.hlines(threshold_fixed, ax.get_xlim()[0], ax.get_xlim()[1], colors=\"r\", zorder=100, label='Threshold')\n",
    "ax.legend()\n",
    "print('Threshold: ', threshold_fixed)\n",
    "plt.title(\"Reconstruction error for different classes, threshold\")\n",
    "plt.ylabel(\"Reconstruction error\")\n",
    "plt.xlabel(\"Data point index\")\n",
    "plt.show();\n",
    "\n",
    "pred_y = [1 if e > threshold_fixed else 0 for e in error_df.Reconstruction_error.values]\n",
    "\n",
    "conf_matrix = confusion_matrix(error_df.True_class, pred_y)\n",
    "\n",
    "plt.figure(figsize=(12, 12))\n",
    "sns.heatmap(conf_matrix, xticklabels=LABELS, yticklabels=LABELS, annot=True, fmt=\"d\");\n",
    "plt.title(\"Confusion matrix\")\n",
    "plt.ylabel('True class')\n",
    "plt.xlabel('Predicted class')\n",
    "plt.show()"
   ]
  },
  {
   "cell_type": "markdown",
   "metadata": {},
   "source": [
    "### Use autoencoder to predict outliers\n",
    "\n",
    "Predict *attack* label if reconstruction error larger than the chosen threshold"
   ]
  },
  {
   "cell_type": "code",
   "execution_count": 13,
   "metadata": {
    "ExecuteTime": {
     "end_time": "2019-05-27T22:04:46.261639Z",
     "start_time": "2019-05-27T22:04:46.126878Z"
    }
   },
   "outputs": [
    {
     "data": {
      "image/png": "[encoded data removed]",
      "text/plain": [
       "<Figure size 864x864 with 2 Axes>"
      ]
     },
     "metadata": {
      "needs_background": "light"
     },
     "output_type": "display_data"
    }
   ],
   "source": [
    "pred_y = [1 if e > threshold_fixed else 0 for e in error_df.Reconstruction_error.values]\n",
    "\n",
    "conf_matrix = confusion_matrix(error_df.True_class, pred_y)\n",
    "\n",
    "plt.figure(figsize=(12, 12))\n",
    "sns.heatmap(conf_matrix, xticklabels=LABELS, yticklabels=LABELS, annot=True, fmt=\"d\");\n",
    "plt.title(\"Confusion matrix\")\n",
    "plt.ylabel('True class')\n",
    "plt.xlabel('Predicted class')\n",
    "plt.show()"
   ]
  },
  {
   "cell_type": "markdown",
   "metadata": {},
   "source": [
    "Plot the ROC curve for the chosen threshold"
   ]
  },
  {
   "cell_type": "code",
   "execution_count": 14,
   "metadata": {
    "ExecuteTime": {
     "end_time": "2019-05-27T22:04:46.390614Z",
     "start_time": "2019-05-27T22:04:46.265629Z"
    }
   },
   "outputs": [
    {
     "data": {
      "image/png": "[encoded data removed]",
      "text/plain": [
       "<Figure size 432x288 with 1 Axes>"
      ]
     },
     "metadata": {
      "needs_background": "light"
     },
     "output_type": "display_data"
    }
   ],
   "source": [
    "false_pos_rate, true_pos_rate, thresholds = roc_curve(error_df.True_class, error_df.Reconstruction_error)\n",
    "roc_auc = auc(false_pos_rate, true_pos_rate,)\n",
    "\n",
    "plt.plot(false_pos_rate, true_pos_rate, linewidth=5, label='AUC = %0.3f'% roc_auc)\n",
    "plt.plot([0,1],[0,1], linewidth=5)\n",
    "\n",
    "plt.xlim([-0.01, 1])\n",
    "plt.ylim([0, 1.01])\n",
    "plt.legend(loc='lower right')\n",
    "plt.title('Receiver operating characteristic curve (ROC)')\n",
    "plt.ylabel('True Positive Rate')\n",
    "plt.xlabel('False Positive Rate')\n",
    "plt.show()"
   ]
  },
  {
   "cell_type": "code",
   "execution_count": null,
   "metadata": {},
   "outputs": [],
   "source": []
  },
  {
   "cell_type": "code",
   "execution_count": null,
   "metadata": {},
   "outputs": [],
   "source": []
  }
 ],
 "metadata": {
  "kernelspec": {
   "display_name": "Python 2",
   "language": "python",
   "name": "python2"
  },
  "language_info": {
   "codemirror_mode": {
    "name": "ipython",
    "version": 2
   },
   "file_extension": ".py",
   "mimetype": "text/x-python",
   "name": "python",
   "nbconvert_exporter": "python",
   "pygments_lexer": "ipython2",
   "version": "2.7.15"
  }
 },
 "nbformat": 4,
 "nbformat_minor": 2
}
