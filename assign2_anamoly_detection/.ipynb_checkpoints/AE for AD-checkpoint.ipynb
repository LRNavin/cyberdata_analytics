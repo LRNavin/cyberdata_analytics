{
 "cells": [
  {
   "cell_type": "markdown",
   "metadata": {},
   "source": [
    "# Autoencoders for Anomaly Detection\n",
    "\n",
    "Based on the article at https://bit.ly/2VgNyl7, made for the bonus task of the cyber data analytics class. Download the data and adjust the paths in the next cells.\n",
    "\n",
    "Requires \n",
    "* seaborn\n",
    "* tensorflow\n",
    "* keras\n",
    "* sklearn\n",
    "* pyplot, pylab\n",
    "\n",
    "and for visualizing the network also th4e graphviz package. Install directly from the notebook with **!pip install package**"
   ]
  },
  {
   "cell_type": "code",
   "execution_count": 1,
   "metadata": {
    "ExecuteTime": {
     "end_time": "2019-05-27T22:04:28.416941Z",
     "start_time": "2019-05-27T22:04:28.406050Z"
    }
   },
   "outputs": [
    {
     "name": "stderr",
     "output_type": "stream",
     "text": [
      "Using TensorFlow backend.\n"
     ]
    }
   ],
   "source": [
    "%matplotlib inline\n",
    "import matplotlib.pyplot as plt\n",
    "import seaborn as sns\n",
    "\n",
    "import pandas as pd\n",
    "import numpy as np\n",
    "\n",
    "import tensorflow as tf\n",
    "from keras.models import Model, load_model\n",
    "from keras.layers import Input, Dense\n",
    "from keras.callbacks import ModelCheckpoint, TensorBoard, EarlyStopping, ReduceLROnPlateau\n",
    "from keras import regularizers\n",
    "\n",
    "from sklearn.preprocessing import StandardScaler\n",
    "from sklearn.model_selection import train_test_split\n",
    "from sklearn.metrics import confusion_matrix, precision_recall_curve\n",
    "from sklearn.metrics import recall_score, classification_report, auc, roc_curve\n",
    "from sklearn.metrics import precision_recall_fscore_support, f1_score\n",
    "\n",
    "from numpy.random import seed\n",
    "seed(1)\n",
    "from tensorflow import set_random_seed\n",
    "set_random_seed(2)\n",
    "\n",
    "SEED = 123 \n",
    "DATA_SPLIT_PCT = 0.2\n",
    "\n",
    "LABELS = [\"Normal\",\"Attack\"]\n",
    "\n",
    "# please adjust the dataset paths\n",
    "NORMAL = 'data/BATADAL_dataset03.csv'\n",
    "MIXED = 'data/BATADAL_dataset04.csv'"
   ]
  },
  {
   "cell_type": "code",
   "execution_count": 2,
   "metadata": {
    "ExecuteTime": {
     "end_time": "2019-05-27T22:04:28.490859Z",
     "start_time": "2019-05-27T22:04:28.418839Z"
    }
   },
   "outputs": [],
   "source": [
    "df_normal =  pd.read_csv(NORMAL, encoding=\"utf-8-sig\", skipinitialspace=True)\n",
    "df_mixed = pd.read_csv(MIXED, encoding=\"utf-8-sig\", skipinitialspace=True)"
   ]
  },
  {
   "cell_type": "markdown",
   "metadata": {},
   "source": [
    "Harmonize the labels across the datasets to 0 / 1\n",
    "\n",
    "**WARNING**: THIS TREATS *unlabeled* DATA AS NORMAL, see https://batadal.net/images/rules.pdf for the documentation of the -999 value.\n"
   ]
  },
  {
   "cell_type": "code",
   "execution_count": 3,
   "metadata": {
    "ExecuteTime": {
     "end_time": "2019-05-27T22:04:28.495346Z",
     "start_time": "2019-05-27T22:04:28.492085Z"
    }
   },
   "outputs": [],
   "source": [
    "df_mixed.ATT_FLAG.replace([-999, 1], [0, 1], inplace=True)"
   ]
  },
  {
   "cell_type": "markdown",
   "metadata": {},
   "source": [
    "Drop non-numeric columns, concatenate the dataframes.\n",
    "We train the autoencoder on the normal data from BATADAL_dataset03 and test on BATADAL_dataset04"
   ]
  },
  {
   "cell_type": "code",
   "execution_count": 4,
   "metadata": {
    "ExecuteTime": {
     "end_time": "2019-05-27T22:04:28.511711Z",
     "start_time": "2019-05-27T22:04:28.496963Z"
    }
   },
   "outputs": [],
   "source": [
    "df_normal = df_normal.drop(['DATETIME'], axis=1)\n",
    "df_mixed = df_mixed.drop(['DATETIME'], axis=1)\n",
    "\n",
    "df = pd.concat([df_normal, df_mixed], ignore_index=True)"
   ]
  },
  {
   "cell_type": "markdown",
   "metadata": {},
   "source": [
    "Splitting into training, validation, testing, group into classes"
   ]
  },
  {
   "cell_type": "code",
   "execution_count": 5,
   "metadata": {
    "ExecuteTime": {
     "end_time": "2019-05-27T22:04:28.527210Z",
     "start_time": "2019-05-27T22:04:28.513596Z"
    }
   },
   "outputs": [],
   "source": [
    "df_train, df_test = train_test_split(df, test_size=DATA_SPLIT_PCT, random_state=SEED)\n",
    "df_train, df_valid = train_test_split(df_train, test_size=DATA_SPLIT_PCT, random_state=SEED)"
   ]
  },
  {
   "cell_type": "code",
   "execution_count": 6,
   "metadata": {
    "ExecuteTime": {
     "end_time": "2019-05-27T22:04:28.545427Z",
     "start_time": "2019-05-27T22:04:28.528427Z"
    }
   },
   "outputs": [],
   "source": [
    "df_train_0 = df_train.loc[df['ATT_FLAG'] == 0]\n",
    "df_train_1 = df_train.loc[df['ATT_FLAG'] == 1]\n",
    "\n",
    "df_train_0_x = df_train_0.drop(['ATT_FLAG'], axis=1)\n",
    "df_train_1_x = df_train_1.drop(['ATT_FLAG'], axis=1)\n",
    "\n",
    "\n",
    "df_valid_0 = df_valid.loc[df['ATT_FLAG'] == 0]\n",
    "df_valid_1 = df_valid.loc[df['ATT_FLAG'] == 1]\n",
    "\n",
    "df_valid_0_x = df_valid_0.drop(['ATT_FLAG'], axis=1)\n",
    "df_valid_1_x = df_valid_1.drop(['ATT_FLAG'], axis=1)\n",
    "\n",
    "\n",
    "df_test_0 = df_test.loc[df['ATT_FLAG'] == 0]\n",
    "df_test_1 = df_test.loc[df['ATT_FLAG'] == 1]\n",
    "\n",
    "df_test_0_x = df_test_0.drop(['ATT_FLAG'], axis=1)\n",
    "df_test_1_x = df_test_1.drop(['ATT_FLAG'], axis=1)"
   ]
  },
  {
   "cell_type": "markdown",
   "metadata": {},
   "source": [
    "Scale the data to 0-1 range"
   ]
  },
  {
   "cell_type": "code",
   "execution_count": 7,
   "metadata": {
    "ExecuteTime": {
     "end_time": "2019-05-27T22:04:28.564577Z",
     "start_time": "2019-05-27T22:04:28.547025Z"
    }
   },
   "outputs": [],
   "source": [
    "scaler = StandardScaler().fit(df_train_0_x)\n",
    "df_train_0_x_rescaled = scaler.transform(df_train_0_x)\n",
    "df_valid_0_x_rescaled = scaler.transform(df_valid_0_x)\n",
    "df_valid_x_rescaled = scaler.transform(df_valid.drop(['ATT_FLAG'], axis = 1))\n",
    "\n",
    "df_test_0_x_rescaled = scaler.transform(df_test_0_x)\n",
    "df_test_x_rescaled = scaler.transform(df_test.drop(['ATT_FLAG'], axis = 1))"
   ]
  },
  {
   "cell_type": "markdown",
   "metadata": {},
   "source": [
    "## Set up a neural network with relu-encoder"
   ]
  },
  {
   "cell_type": "code",
   "execution_count": 8,
   "metadata": {
    "ExecuteTime": {
     "end_time": "2019-05-27T22:04:28.613962Z",
     "start_time": "2019-05-27T22:04:28.565802Z"
    }
   },
   "outputs": [
    {
     "name": "stdout",
     "output_type": "stream",
     "text": [
      "WARNING:tensorflow:From /usr/local/lib/python3.7/site-packages/tensorflow/python/framework/op_def_library.py:263: colocate_with (from tensorflow.python.framework.ops) is deprecated and will be removed in a future version.\n",
      "Instructions for updating:\n",
      "Colocations handled automatically by placer.\n"
     ]
    }
   ],
   "source": [
    "nb_epoch = 100\n",
    "batch_size = 128\n",
    "input_dim = df_train_0_x_rescaled.shape[1] #num of predictor variables, \n",
    "encoding_dim = 21\n",
    "hidden_dim = int(encoding_dim / 2)\n",
    "learning_rate = 1e-3\n",
    "\n",
    "input_layer = Input(shape=(input_dim, ))\n",
    "encoder = Dense(encoding_dim, activation=\"tanh\", activity_regularizer=regularizers.l1(learning_rate))(input_layer)\n",
    "encoder = Dense(hidden_dim, activation=\"relu\")(encoder)\n",
    "decoder = Dense(hidden_dim, activation='tanh')(encoder)\n",
    "decoder = Dense(input_dim, activation='relu')(decoder)\n",
    "autoencoder = Model(inputs=input_layer, outputs=decoder)"
   ]
  },
  {
   "cell_type": "markdown",
   "metadata": {},
   "source": [
    "This requires pydot and graphviz installed"
   ]
  },
  {
   "cell_type": "code",
   "execution_count": 9,
   "metadata": {
    "ExecuteTime": {
     "end_time": "2019-05-27T22:04:28.674419Z",
     "start_time": "2019-05-27T22:04:28.615158Z"
    }
   },
   "outputs": [
    {
     "data": {
      "image/svg+xml": [
       "<svg height=\"377pt\" viewBox=\"0.00 0.00 268.68 377.00\" width=\"269pt\" xmlns=\"http://www.w3.org/2000/svg\" xmlns:xlink=\"http://www.w3.org/1999/xlink\">\n",
       "<g class=\"graph\" id=\"graph0\" transform=\"scale(1 1) rotate(0) translate(4 373)\">\n",
       "<title>G</title>\n",
       "<polygon fill=\"#ffffff\" points=\"-4,4 -4,-373 264.6797,-373 264.6797,4 -4,4\" stroke=\"transparent\"/>\n",
       "<!-- 5178463232 -->\n",
       "<g class=\"node\" id=\"node1\">\n",
       "<title>5178463232</title>\n",
       "<polygon fill=\"none\" points=\"0,-324.5 0,-368.5 260.6797,-368.5 260.6797,-324.5 0,-324.5\" stroke=\"#000000\"/>\n",
       "<text fill=\"#000000\" font-family=\"Times,serif\" font-size=\"14.00\" text-anchor=\"middle\" x=\"64.1812\" y=\"-342.3\">input_1: InputLayer</text>\n",
       "<polyline fill=\"none\" points=\"128.3623,-324.5 128.3623,-368.5 \" stroke=\"#000000\"/>\n",
       "<text fill=\"#000000\" font-family=\"Times,serif\" font-size=\"14.00\" text-anchor=\"middle\" x=\"156.1968\" y=\"-353.3\">input:</text>\n",
       "<polyline fill=\"none\" points=\"128.3623,-346.5 184.0313,-346.5 \" stroke=\"#000000\"/>\n",
       "<text fill=\"#000000\" font-family=\"Times,serif\" font-size=\"14.00\" text-anchor=\"middle\" x=\"156.1968\" y=\"-331.3\">output:</text>\n",
       "<polyline fill=\"none\" points=\"184.0313,-324.5 184.0313,-368.5 \" stroke=\"#000000\"/>\n",
       "<text fill=\"#000000\" font-family=\"Times,serif\" font-size=\"14.00\" text-anchor=\"middle\" x=\"222.3555\" y=\"-353.3\">(None, 43)</text>\n",
       "<polyline fill=\"none\" points=\"184.0313,-346.5 260.6797,-346.5 \" stroke=\"#000000\"/>\n",
       "<text fill=\"#000000\" font-family=\"Times,serif\" font-size=\"14.00\" text-anchor=\"middle\" x=\"222.3555\" y=\"-331.3\">(None, 43)</text>\n",
       "</g>\n",
       "<!-- 5178463288 -->\n",
       "<g class=\"node\" id=\"node2\">\n",
       "<title>5178463288</title>\n",
       "<polygon fill=\"none\" points=\"12.0552,-243.5 12.0552,-287.5 248.6245,-287.5 248.6245,-243.5 12.0552,-243.5\" stroke=\"#000000\"/>\n",
       "<text fill=\"#000000\" font-family=\"Times,serif\" font-size=\"14.00\" text-anchor=\"middle\" x=\"64.1812\" y=\"-261.3\">dense_1: Dense</text>\n",
       "<polyline fill=\"none\" points=\"116.3071,-243.5 116.3071,-287.5 \" stroke=\"#000000\"/>\n",
       "<text fill=\"#000000\" font-family=\"Times,serif\" font-size=\"14.00\" text-anchor=\"middle\" x=\"144.1416\" y=\"-272.3\">input:</text>\n",
       "<polyline fill=\"none\" points=\"116.3071,-265.5 171.9761,-265.5 \" stroke=\"#000000\"/>\n",
       "<text fill=\"#000000\" font-family=\"Times,serif\" font-size=\"14.00\" text-anchor=\"middle\" x=\"144.1416\" y=\"-250.3\">output:</text>\n",
       "<polyline fill=\"none\" points=\"171.9761,-243.5 171.9761,-287.5 \" stroke=\"#000000\"/>\n",
       "<text fill=\"#000000\" font-family=\"Times,serif\" font-size=\"14.00\" text-anchor=\"middle\" x=\"210.3003\" y=\"-272.3\">(None, 43)</text>\n",
       "<polyline fill=\"none\" points=\"171.9761,-265.5 248.6245,-265.5 \" stroke=\"#000000\"/>\n",
       "<text fill=\"#000000\" font-family=\"Times,serif\" font-size=\"14.00\" text-anchor=\"middle\" x=\"210.3003\" y=\"-250.3\">(None, 21)</text>\n",
       "</g>\n",
       "<!-- 5178463232&#45;&gt;5178463288 -->\n",
       "<g class=\"edge\" id=\"edge1\">\n",
       "<title>5178463232-&gt;5178463288</title>\n",
       "<path d=\"M130.3398,-324.3664C130.3398,-316.1516 130.3398,-306.6579 130.3398,-297.7252\" fill=\"none\" stroke=\"#000000\"/>\n",
       "<polygon fill=\"#000000\" points=\"133.8399,-297.6068 130.3398,-287.6068 126.8399,-297.6069 133.8399,-297.6068\" stroke=\"#000000\"/>\n",
       "</g>\n",
       "<!-- 5178464128 -->\n",
       "<g class=\"node\" id=\"node3\">\n",
       "<title>5178464128</title>\n",
       "<polygon fill=\"none\" points=\"12.0552,-162.5 12.0552,-206.5 248.6245,-206.5 248.6245,-162.5 12.0552,-162.5\" stroke=\"#000000\"/>\n",
       "<text fill=\"#000000\" font-family=\"Times,serif\" font-size=\"14.00\" text-anchor=\"middle\" x=\"64.1812\" y=\"-180.3\">dense_2: Dense</text>\n",
       "<polyline fill=\"none\" points=\"116.3071,-162.5 116.3071,-206.5 \" stroke=\"#000000\"/>\n",
       "<text fill=\"#000000\" font-family=\"Times,serif\" font-size=\"14.00\" text-anchor=\"middle\" x=\"144.1416\" y=\"-191.3\">input:</text>\n",
       "<polyline fill=\"none\" points=\"116.3071,-184.5 171.9761,-184.5 \" stroke=\"#000000\"/>\n",
       "<text fill=\"#000000\" font-family=\"Times,serif\" font-size=\"14.00\" text-anchor=\"middle\" x=\"144.1416\" y=\"-169.3\">output:</text>\n",
       "<polyline fill=\"none\" points=\"171.9761,-162.5 171.9761,-206.5 \" stroke=\"#000000\"/>\n",
       "<text fill=\"#000000\" font-family=\"Times,serif\" font-size=\"14.00\" text-anchor=\"middle\" x=\"210.3003\" y=\"-191.3\">(None, 21)</text>\n",
       "<polyline fill=\"none\" points=\"171.9761,-184.5 248.6245,-184.5 \" stroke=\"#000000\"/>\n",
       "<text fill=\"#000000\" font-family=\"Times,serif\" font-size=\"14.00\" text-anchor=\"middle\" x=\"210.3003\" y=\"-169.3\">(None, 10)</text>\n",
       "</g>\n",
       "<!-- 5178463288&#45;&gt;5178464128 -->\n",
       "<g class=\"edge\" id=\"edge2\">\n",
       "<title>5178463288-&gt;5178464128</title>\n",
       "<path d=\"M130.3398,-243.3664C130.3398,-235.1516 130.3398,-225.6579 130.3398,-216.7252\" fill=\"none\" stroke=\"#000000\"/>\n",
       "<polygon fill=\"#000000\" points=\"133.8399,-216.6068 130.3398,-206.6068 126.8399,-216.6069 133.8399,-216.6068\" stroke=\"#000000\"/>\n",
       "</g>\n",
       "<!-- 5178464632 -->\n",
       "<g class=\"node\" id=\"node4\">\n",
       "<title>5178464632</title>\n",
       "<polygon fill=\"none\" points=\"12.0552,-81.5 12.0552,-125.5 248.6245,-125.5 248.6245,-81.5 12.0552,-81.5\" stroke=\"#000000\"/>\n",
       "<text fill=\"#000000\" font-family=\"Times,serif\" font-size=\"14.00\" text-anchor=\"middle\" x=\"64.1812\" y=\"-99.3\">dense_3: Dense</text>\n",
       "<polyline fill=\"none\" points=\"116.3071,-81.5 116.3071,-125.5 \" stroke=\"#000000\"/>\n",
       "<text fill=\"#000000\" font-family=\"Times,serif\" font-size=\"14.00\" text-anchor=\"middle\" x=\"144.1416\" y=\"-110.3\">input:</text>\n",
       "<polyline fill=\"none\" points=\"116.3071,-103.5 171.9761,-103.5 \" stroke=\"#000000\"/>\n",
       "<text fill=\"#000000\" font-family=\"Times,serif\" font-size=\"14.00\" text-anchor=\"middle\" x=\"144.1416\" y=\"-88.3\">output:</text>\n",
       "<polyline fill=\"none\" points=\"171.9761,-81.5 171.9761,-125.5 \" stroke=\"#000000\"/>\n",
       "<text fill=\"#000000\" font-family=\"Times,serif\" font-size=\"14.00\" text-anchor=\"middle\" x=\"210.3003\" y=\"-110.3\">(None, 10)</text>\n",
       "<polyline fill=\"none\" points=\"171.9761,-103.5 248.6245,-103.5 \" stroke=\"#000000\"/>\n",
       "<text fill=\"#000000\" font-family=\"Times,serif\" font-size=\"14.00\" text-anchor=\"middle\" x=\"210.3003\" y=\"-88.3\">(None, 10)</text>\n",
       "</g>\n",
       "<!-- 5178464128&#45;&gt;5178464632 -->\n",
       "<g class=\"edge\" id=\"edge3\">\n",
       "<title>5178464128-&gt;5178464632</title>\n",
       "<path d=\"M130.3398,-162.3664C130.3398,-154.1516 130.3398,-144.6579 130.3398,-135.7252\" fill=\"none\" stroke=\"#000000\"/>\n",
       "<polygon fill=\"#000000\" points=\"133.8399,-135.6068 130.3398,-125.6068 126.8399,-135.6069 133.8399,-135.6068\" stroke=\"#000000\"/>\n",
       "</g>\n",
       "<!-- 5194653368 -->\n",
       "<g class=\"node\" id=\"node5\">\n",
       "<title>5194653368</title>\n",
       "<polygon fill=\"none\" points=\"12.0552,-.5 12.0552,-44.5 248.6245,-44.5 248.6245,-.5 12.0552,-.5\" stroke=\"#000000\"/>\n",
       "<text fill=\"#000000\" font-family=\"Times,serif\" font-size=\"14.00\" text-anchor=\"middle\" x=\"64.1812\" y=\"-18.3\">dense_4: Dense</text>\n",
       "<polyline fill=\"none\" points=\"116.3071,-.5 116.3071,-44.5 \" stroke=\"#000000\"/>\n",
       "<text fill=\"#000000\" font-family=\"Times,serif\" font-size=\"14.00\" text-anchor=\"middle\" x=\"144.1416\" y=\"-29.3\">input:</text>\n",
       "<polyline fill=\"none\" points=\"116.3071,-22.5 171.9761,-22.5 \" stroke=\"#000000\"/>\n",
       "<text fill=\"#000000\" font-family=\"Times,serif\" font-size=\"14.00\" text-anchor=\"middle\" x=\"144.1416\" y=\"-7.3\">output:</text>\n",
       "<polyline fill=\"none\" points=\"171.9761,-.5 171.9761,-44.5 \" stroke=\"#000000\"/>\n",
       "<text fill=\"#000000\" font-family=\"Times,serif\" font-size=\"14.00\" text-anchor=\"middle\" x=\"210.3003\" y=\"-29.3\">(None, 10)</text>\n",
       "<polyline fill=\"none\" points=\"171.9761,-22.5 248.6245,-22.5 \" stroke=\"#000000\"/>\n",
       "<text fill=\"#000000\" font-family=\"Times,serif\" font-size=\"14.00\" text-anchor=\"middle\" x=\"210.3003\" y=\"-7.3\">(None, 43)</text>\n",
       "</g>\n",
       "<!-- 5178464632&#45;&gt;5194653368 -->\n",
       "<g class=\"edge\" id=\"edge4\">\n",
       "<title>5178464632-&gt;5194653368</title>\n",
       "<path d=\"M130.3398,-81.3664C130.3398,-73.1516 130.3398,-63.6579 130.3398,-54.7252\" fill=\"none\" stroke=\"#000000\"/>\n",
       "<polygon fill=\"#000000\" points=\"133.8399,-54.6068 130.3398,-44.6068 126.8399,-54.6069 133.8399,-54.6068\" stroke=\"#000000\"/>\n",
       "</g>\n",
       "</g>\n",
       "</svg>"
      ],
      "text/plain": [
       "<IPython.core.display.SVG object>"
      ]
     },
     "execution_count": 9,
     "metadata": {},
     "output_type": "execute_result"
    }
   ],
   "source": [
    "from IPython.display import SVG\n",
    "from keras.utils.vis_utils import model_to_dot\n",
    "\n",
    "SVG(model_to_dot(autoencoder, show_shapes=True, show_layer_names=True).create(prog='dot', format='svg'))"
   ]
  },
  {
   "cell_type": "markdown",
   "metadata": {},
   "source": [
    "## Train the network"
   ]
  },
  {
   "cell_type": "code",
   "execution_count": 10,
   "metadata": {
    "ExecuteTime": {
     "end_time": "2019-05-27T22:04:45.768099Z",
     "start_time": "2019-05-27T22:04:28.675989Z"
    }
   },
   "outputs": [
    {
     "ename": "NameError",
     "evalue": "name 'EarlyStopping' is not defined",
     "output_type": "error",
     "traceback": [
      "\u001b[0;31m---------------------------------------------------------------------------\u001b[0m",
      "\u001b[0;31mNameError\u001b[0m                                 Traceback (most recent call last)",
      "\u001b[0;32m<ipython-input-10-c6cc88a2e3d7>\u001b[0m in \u001b[0;36m<module>\u001b[0;34m\u001b[0m\n\u001b[1;32m     12\u001b[0m                 write_images=True)\n\u001b[1;32m     13\u001b[0m \u001b[0;34m\u001b[0m\u001b[0m\n\u001b[0;32m---> 14\u001b[0;31m \u001b[0mearlyStopping\u001b[0m\u001b[0;34m=\u001b[0m \u001b[0mEarlyStopping\u001b[0m\u001b[0;34m(\u001b[0m\u001b[0mmonitor\u001b[0m\u001b[0;34m=\u001b[0m\u001b[0;34m'val_loss'\u001b[0m\u001b[0;34m,\u001b[0m \u001b[0mpatience\u001b[0m\u001b[0;34m=\u001b[0m\u001b[0;36m3\u001b[0m\u001b[0;34m,\u001b[0m \u001b[0mverbose\u001b[0m\u001b[0;34m=\u001b[0m\u001b[0;36m0\u001b[0m\u001b[0;34m,\u001b[0m  \u001b[0mmin_delta\u001b[0m\u001b[0;34m=\u001b[0m\u001b[0;36m1e-4\u001b[0m\u001b[0;34m,\u001b[0m \u001b[0mmode\u001b[0m\u001b[0;34m=\u001b[0m\u001b[0;34m'auto'\u001b[0m\u001b[0;34m)\u001b[0m\u001b[0;34m\u001b[0m\u001b[0;34m\u001b[0m\u001b[0m\n\u001b[0m\u001b[1;32m     15\u001b[0m \u001b[0mlr_reduced\u001b[0m \u001b[0;34m=\u001b[0m \u001b[0mReduceLROnPlateau\u001b[0m\u001b[0;34m(\u001b[0m\u001b[0mmonitor\u001b[0m\u001b[0;34m=\u001b[0m\u001b[0;34m'val_loss'\u001b[0m\u001b[0;34m,\u001b[0m \u001b[0mfactor\u001b[0m\u001b[0;34m=\u001b[0m\u001b[0;36m0.5\u001b[0m\u001b[0;34m,\u001b[0m \u001b[0mpatience\u001b[0m\u001b[0;34m=\u001b[0m\u001b[0;36m1\u001b[0m\u001b[0;34m,\u001b[0m \u001b[0mverbose\u001b[0m\u001b[0;34m=\u001b[0m\u001b[0;36m0\u001b[0m\u001b[0;34m,\u001b[0m \u001b[0mepsilon\u001b[0m\u001b[0;34m=\u001b[0m\u001b[0;36m1e-4\u001b[0m\u001b[0;34m,\u001b[0m \u001b[0mmode\u001b[0m\u001b[0;34m=\u001b[0m\u001b[0;34m'min'\u001b[0m\u001b[0;34m)\u001b[0m\u001b[0;34m\u001b[0m\u001b[0;34m\u001b[0m\u001b[0m\n\u001b[1;32m     16\u001b[0m \u001b[0;34m\u001b[0m\u001b[0m\n",
      "\u001b[0;31mNameError\u001b[0m: name 'EarlyStopping' is not defined"
     ]
    }
   ],
   "source": [
    "autoencoder.compile(metrics=['accuracy'],\n",
    "                    loss='mean_squared_error',\n",
    "                    optimizer='adam')\n",
    "\n",
    "cp = ModelCheckpoint(filepath=\"autoencoder_classifier.h5\",\n",
    "                               save_best_only=True,\n",
    "                               verbose=0)\n",
    "\n",
    "tb = TensorBoard(log_dir='./logs',\n",
    "                histogram_freq=0,\n",
    "                write_graph=True,\n",
    "                write_images=True)\n",
    "\n",
    "earlyStopping= EarlyStopping(monitor='val_loss', patience=3, verbose=0,  min_delta=1e-4, mode='auto')\n",
    "lr_reduced = ReduceLROnPlateau(monitor='val_loss', factor=0.5, patience=1, verbose=0, epsilon=1e-4, mode='min')\n",
    "\n",
    "history = autoencoder.fit(df_train_0_x_rescaled, df_train_0_x_rescaled,\n",
    "                    epochs=nb_epoch,\n",
    "                    batch_size=batch_size,\n",
    "                    shuffle=True,\n",
    "                    validation_data=(df_valid_0_x_rescaled, df_valid_0_x_rescaled),\n",
    "                    verbose=1,\n",
    "                    callbacks=[cp, tb, earlyStopping,lr_reduced]).history"
   ]
  },
  {
   "cell_type": "markdown",
   "metadata": {},
   "source": [
    "## Validate "
   ]
  },
  {
   "cell_type": "code",
   "execution_count": null,
   "metadata": {
    "ExecuteTime": {
     "end_time": "2019-05-27T22:04:45.949468Z",
     "start_time": "2019-05-27T22:04:45.769509Z"
    }
   },
   "outputs": [],
   "source": [
    "valid_x_predictions = autoencoder.predict(df_valid_x_rescaled)\n",
    "mse = np.mean(np.power(df_valid_x_rescaled - valid_x_predictions, 2), axis=1)\n",
    "error_df = pd.DataFrame({'Reconstruction_error': mse,\n",
    "                        'True_class': df_valid['ATT_FLAG'] == 1})\n",
    "\n",
    "precision_rt, recall_rt, threshold_rt = precision_recall_curve(error_df.True_class, error_df.Reconstruction_error)\n",
    "plt.plot(threshold_rt, precision_rt[1:], label=\"Precision\",linewidth=5)\n",
    "plt.plot(threshold_rt, recall_rt[1:], label=\"Recall\",linewidth=5)\n",
    "plt.title('Precision and recall for different threshold values')\n",
    "plt.xlabel('Threshold / reconstruction error')\n",
    "plt.ylabel('Precision/Recall')\n",
    "plt.legend()\n",
    "plt.show()"
   ]
  },
  {
   "cell_type": "markdown",
   "metadata": {},
   "source": [
    "## Evaluate on testing\n",
    "\n",
    "based on the above plot, choose a fixed threshold when the reconstruction error is too large"
   ]
  },
  {
   "cell_type": "code",
   "execution_count": null,
   "metadata": {
    "ExecuteTime": {
     "end_time": "2019-05-27T22:04:46.125354Z",
     "start_time": "2019-05-27T22:04:45.951432Z"
    }
   },
   "outputs": [],
   "source": [
    "threshold_fixed = 1.0\n",
    "\n",
    "\n",
    "test_x_predictions = autoencoder.predict(df_test_x_rescaled)\n",
    "mse = np.mean(np.power(df_test_x_rescaled - test_x_predictions, 2), axis=1)\n",
    "error_df_test = pd.DataFrame({'Reconstruction_error': mse,\n",
    "                        'True_class': df_test['ATT_FLAG']})\n",
    "error_df_test = error_df_test.reset_index()\n",
    "\n",
    "groups = error_df_test.groupby('True_class')\n",
    "\n",
    "fig, ax = plt.subplots()\n",
    "\n",
    "for name, group in groups:\n",
    "    ax.plot(group.index, group.Reconstruction_error, marker='o', ms=3.5, linestyle='',\n",
    "            label= \"Attack\" if name == 1 else \"Normal\")\n",
    "ax.hlines(threshold_fixed, ax.get_xlim()[0], ax.get_xlim()[1], colors=\"r\", zorder=100, label='Threshold')\n",
    "ax.legend()\n",
    "plt.title(\"Reconstruction error for different classes\")\n",
    "plt.ylabel(\"Reconstruction error\")\n",
    "plt.xlabel(\"Data point index\")\n",
    "plt.show();"
   ]
  },
  {
   "cell_type": "markdown",
   "metadata": {},
   "source": [
    "### Use autoencoder to predict outliers\n",
    "\n",
    "Predict *attack* label if reconstruction error larger than the chosen threshold"
   ]
  },
  {
   "cell_type": "code",
   "execution_count": null,
   "metadata": {
    "ExecuteTime": {
     "end_time": "2019-05-27T22:04:46.261639Z",
     "start_time": "2019-05-27T22:04:46.126878Z"
    }
   },
   "outputs": [],
   "source": [
    "pred_y = [1 if e > threshold_fixed else 0 for e in error_df.Reconstruction_error.values]\n",
    "\n",
    "conf_matrix = confusion_matrix(error_df.True_class, pred_y)\n",
    "\n",
    "plt.figure(figsize=(12, 12))\n",
    "sns.heatmap(conf_matrix, xticklabels=LABELS, yticklabels=LABELS, annot=True, fmt=\"d\");\n",
    "plt.title(\"Confusion matrix\")\n",
    "plt.ylabel('True class')\n",
    "plt.xlabel('Predicted class')\n",
    "plt.show()"
   ]
  },
  {
   "cell_type": "markdown",
   "metadata": {},
   "source": [
    "Plot the ROC curve for the chosen threshold"
   ]
  },
  {
   "cell_type": "code",
   "execution_count": null,
   "metadata": {
    "ExecuteTime": {
     "end_time": "2019-05-27T22:04:46.390614Z",
     "start_time": "2019-05-27T22:04:46.265629Z"
    }
   },
   "outputs": [],
   "source": [
    "false_pos_rate, true_pos_rate, thresholds = roc_curve(error_df.True_class, error_df.Reconstruction_error)\n",
    "roc_auc = auc(false_pos_rate, true_pos_rate,)\n",
    "\n",
    "plt.plot(false_pos_rate, true_pos_rate, linewidth=5, label='AUC = %0.3f'% roc_auc)\n",
    "plt.plot([0,1],[0,1], linewidth=5)\n",
    "\n",
    "plt.xlim([-0.01, 1])\n",
    "plt.ylim([0, 1.01])\n",
    "plt.legend(loc='lower right')\n",
    "plt.title('Receiver operating characteristic curve (ROC)')\n",
    "plt.ylabel('True Positive Rate')\n",
    "plt.xlabel('False Positive Rate')\n",
    "plt.show()"
   ]
  },
  {
   "cell_type": "code",
   "execution_count": null,
   "metadata": {},
   "outputs": [],
   "source": []
  }
 ],
 "metadata": {
  "kernelspec": {
   "display_name": "Python 3",
   "language": "python",
   "name": "python3"
  },
  "language_info": {
   "codemirror_mode": {
    "name": "ipython",
    "version": 3
   },
   "file_extension": ".py",
   "mimetype": "text/x-python",
   "name": "python",
   "nbconvert_exporter": "python",
   "pygments_lexer": "ipython3",
   "version": "3.7.2"
  }
 },
 "nbformat": 4,
 "nbformat_minor": 2
}
