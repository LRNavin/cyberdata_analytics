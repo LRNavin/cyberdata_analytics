{
 "cells": [
  {
   "cell_type": "markdown",
   "metadata": {},
   "source": [
    "# Autoencoders for Anomaly Detection\n",
    "\n",
    "Based on the article at https://bit.ly/2VgNyl7, made for the bonus task of the cyber data analytics class. Download the data and adjust the paths in the next cells.\n",
    "\n",
    "Requires \n",
    "* seaborn\n",
    "* tensorflow\n",
    "* keras\n",
    "* sklearn\n",
    "* pyplot, pylab\n",
    "\n",
    "and for visualizing the network also th4e graphviz package. Install directly from the notebook with **!pip install package**"
   ]
  },
  {
   "cell_type": "code",
   "execution_count": 1,
   "metadata": {
    "ExecuteTime": {
     "end_time": "2019-05-27T22:04:28.416941Z",
     "start_time": "2019-05-27T22:04:28.406050Z"
    }
   },
   "outputs": [
    {
     "name": "stderr",
     "output_type": "stream",
     "text": [
      "Using TensorFlow backend.\n"
     ]
    }
   ],
   "source": [
    "%matplotlib inline\n",
    "import matplotlib.pyplot as plt\n",
    "import seaborn as sns\n",
    "\n",
    "import pandas as pd\n",
    "import numpy as np\n",
    "\n",
    "import tensorflow as tf\n",
    "from keras.models import Model, load_model\n",
    "from keras.layers import Input, Dense\n",
    "from keras.callbacks import ModelCheckpoint, TensorBoard\n",
    "from keras import regularizers\n",
    "\n",
    "from sklearn.preprocessing import StandardScaler\n",
    "from sklearn.model_selection import train_test_split\n",
    "from sklearn.metrics import confusion_matrix, precision_recall_curve\n",
    "from sklearn.metrics import recall_score, classification_report, auc, roc_curve\n",
    "from sklearn.metrics import precision_recall_fscore_support, f1_score\n",
    "\n",
    "from numpy.random import seed\n",
    "seed(1)\n",
    "from tensorflow import set_random_seed\n",
    "set_random_seed(2)\n",
    "\n",
    "SEED = 123 \n",
    "DATA_SPLIT_PCT = 0.2\n",
    "\n",
    "LABELS = [\"Normal\",\"Attack\"]\n",
    "\n",
    "# please adjust the dataset paths\n",
    "NORMAL = 'data/BATADAL_dataset03.csv'\n",
    "MIXED = 'data/BATADAL_dataset04.csv'"
   ]
  },
  {
   "cell_type": "code",
   "execution_count": 2,
   "metadata": {
    "ExecuteTime": {
     "end_time": "2019-05-27T22:04:28.490859Z",
     "start_time": "2019-05-27T22:04:28.418839Z"
    }
   },
   "outputs": [],
   "source": [
    "df_normal =  pd.read_csv(NORMAL, encoding=\"utf-8-sig\", skipinitialspace=True)\n",
    "df_mixed = pd.read_csv(MIXED, encoding=\"utf-8-sig\", skipinitialspace=True)"
   ]
  },
  {
   "cell_type": "markdown",
   "metadata": {},
   "source": [
    "Harmonize the labels across the datasets to 0 / 1\n",
    "\n",
    "**WARNING**: THIS TREATS *unlabeled* DATA AS NORMAL, see https://batadal.net/images/rules.pdf for the documentation of the -999 value.\n"
   ]
  },
  {
   "cell_type": "code",
   "execution_count": 3,
   "metadata": {
    "ExecuteTime": {
     "end_time": "2019-05-27T22:04:28.495346Z",
     "start_time": "2019-05-27T22:04:28.492085Z"
    }
   },
   "outputs": [],
   "source": [
    "df_mixed.ATT_FLAG.replace([-999, 1], [0, 1], inplace=True)"
   ]
  },
  {
   "cell_type": "markdown",
   "metadata": {},
   "source": [
    "Drop non-numeric columns, concatenate the dataframes.\n",
    "We train the autoencoder on the normal data from BATADAL_dataset03 and test on BATADAL_dataset04"
   ]
  },
  {
   "cell_type": "code",
   "execution_count": 4,
   "metadata": {
    "ExecuteTime": {
     "end_time": "2019-05-27T22:04:28.511711Z",
     "start_time": "2019-05-27T22:04:28.496963Z"
    }
   },
   "outputs": [],
   "source": [
    "df_normal = df_normal.drop(['DATETIME'], axis=1)\n",
    "df_mixed = df_mixed.drop(['DATETIME'], axis=1)\n",
    "\n",
    "df = pd.concat([df_normal, df_mixed], ignore_index=True)"
   ]
  },
  {
   "cell_type": "markdown",
   "metadata": {},
   "source": [
    "Splitting into training, validation, testing, group into classes"
   ]
  },
  {
   "cell_type": "code",
   "execution_count": 5,
   "metadata": {
    "ExecuteTime": {
     "end_time": "2019-05-27T22:04:28.527210Z",
     "start_time": "2019-05-27T22:04:28.513596Z"
    }
   },
   "outputs": [],
   "source": [
    "df_train, df_test = train_test_split(df, test_size=DATA_SPLIT_PCT, random_state=SEED)\n",
    "df_train, df_valid = train_test_split(df_train, test_size=DATA_SPLIT_PCT, random_state=SEED)"
   ]
  },
  {
   "cell_type": "code",
   "execution_count": 6,
   "metadata": {
    "ExecuteTime": {
     "end_time": "2019-05-27T22:04:28.545427Z",
     "start_time": "2019-05-27T22:04:28.528427Z"
    }
   },
   "outputs": [],
   "source": [
    "df_train_0 = df_train.loc[df['ATT_FLAG'] == 0]\n",
    "df_train_1 = df_train.loc[df['ATT_FLAG'] == 1]\n",
    "\n",
    "df_train_0_x = df_train_0.drop(['ATT_FLAG'], axis=1)\n",
    "df_train_1_x = df_train_1.drop(['ATT_FLAG'], axis=1)\n",
    "\n",
    "\n",
    "df_valid_0 = df_valid.loc[df['ATT_FLAG'] == 0]\n",
    "df_valid_1 = df_valid.loc[df['ATT_FLAG'] == 1]\n",
    "\n",
    "df_valid_0_x = df_valid_0.drop(['ATT_FLAG'], axis=1)\n",
    "df_valid_1_x = df_valid_1.drop(['ATT_FLAG'], axis=1)\n",
    "\n",
    "\n",
    "df_test_0 = df_test.loc[df['ATT_FLAG'] == 0]\n",
    "df_test_1 = df_test.loc[df['ATT_FLAG'] == 1]\n",
    "\n",
    "df_test_0_x = df_test_0.drop(['ATT_FLAG'], axis=1)\n",
    "df_test_1_x = df_test_1.drop(['ATT_FLAG'], axis=1)"
   ]
  },
  {
   "cell_type": "markdown",
   "metadata": {},
   "source": [
    "Scale the data to 0-1 range"
   ]
  },
  {
   "cell_type": "code",
   "execution_count": 7,
   "metadata": {
    "ExecuteTime": {
     "end_time": "2019-05-27T22:04:28.564577Z",
     "start_time": "2019-05-27T22:04:28.547025Z"
    }
   },
   "outputs": [],
   "source": [
    "scaler = StandardScaler().fit(df_train_0_x)\n",
    "df_train_0_x_rescaled = scaler.transform(df_train_0_x)\n",
    "df_valid_0_x_rescaled = scaler.transform(df_valid_0_x)\n",
    "df_valid_x_rescaled = scaler.transform(df_valid.drop(['ATT_FLAG'], axis = 1))\n",
    "\n",
    "df_test_0_x_rescaled = scaler.transform(df_test_0_x)\n",
    "df_test_x_rescaled = scaler.transform(df_test.drop(['ATT_FLAG'], axis = 1))"
   ]
  },
  {
   "cell_type": "markdown",
   "metadata": {},
   "source": [
    "## Set up a neural network with relu-encoder"
   ]
  },
  {
   "cell_type": "code",
   "execution_count": 8,
   "metadata": {
    "ExecuteTime": {
     "end_time": "2019-05-27T22:04:28.613962Z",
     "start_time": "2019-05-27T22:04:28.565802Z"
    }
   },
   "outputs": [
    {
     "name": "stdout",
     "output_type": "stream",
     "text": [
      "WARNING:tensorflow:From /usr/local/lib/python3.7/site-packages/tensorflow/python/framework/op_def_library.py:263: colocate_with (from tensorflow.python.framework.ops) is deprecated and will be removed in a future version.\n",
      "Instructions for updating:\n",
      "Colocations handled automatically by placer.\n"
     ]
    }
   ],
   "source": [
    "nb_epoch = 100\n",
    "batch_size = 128\n",
    "input_dim = df_train_0_x_rescaled.shape[1] #num of predictor variables, \n",
    "encoding_dim = 16\n",
    "hidden_dim = int(encoding_dim / 2)\n",
    "learning_rate = 1e-3\n",
    "\n",
    "input_layer = Input(shape=(input_dim, ))\n",
    "encoder = Dense(encoding_dim, activation=\"tanh\", activity_regularizer=regularizers.l1(learning_rate))(input_layer)\n",
    "encoder = Dense(hidden_dim, activation=\"relu\")(encoder)\n",
    "decoder = Dense(hidden_dim, activation='tanh')(encoder)\n",
    "decoder = Dense(input_dim, activation='relu')(decoder)\n",
    "autoencoder = Model(inputs=input_layer, outputs=decoder)"
   ]
  },
  {
   "cell_type": "markdown",
   "metadata": {},
   "source": [
    "This requires pydot and graphviz installed"
   ]
  },
  {
   "cell_type": "code",
   "execution_count": 9,
   "metadata": {
    "ExecuteTime": {
     "end_time": "2019-05-27T22:04:28.674419Z",
     "start_time": "2019-05-27T22:04:28.615158Z"
    }
   },
   "outputs": [
    {
     "data": {
      "image/svg+xml": [
       "<svg height=\"377pt\" viewBox=\"0.00 0.00 268.68 377.00\" width=\"269pt\" xmlns=\"http://www.w3.org/2000/svg\" xmlns:xlink=\"http://www.w3.org/1999/xlink\">\n",
       "<g class=\"graph\" id=\"graph0\" transform=\"scale(1 1) rotate(0) translate(4 373)\">\n",
       "<title>G</title>\n",
       "<polygon fill=\"#ffffff\" points=\"-4,4 -4,-373 264.6797,-373 264.6797,4 -4,4\" stroke=\"transparent\"/>\n",
       "<!-- 5143330888 -->\n",
       "<g class=\"node\" id=\"node1\">\n",
       "<title>5143330888</title>\n",
       "<polygon fill=\"none\" points=\"0,-324.5 0,-368.5 260.6797,-368.5 260.6797,-324.5 0,-324.5\" stroke=\"#000000\"/>\n",
       "<text fill=\"#000000\" font-family=\"Times,serif\" font-size=\"14.00\" text-anchor=\"middle\" x=\"64.1812\" y=\"-342.3\">input_1: InputLayer</text>\n",
       "<polyline fill=\"none\" points=\"128.3623,-324.5 128.3623,-368.5 \" stroke=\"#000000\"/>\n",
       "<text fill=\"#000000\" font-family=\"Times,serif\" font-size=\"14.00\" text-anchor=\"middle\" x=\"156.1968\" y=\"-353.3\">input:</text>\n",
       "<polyline fill=\"none\" points=\"128.3623,-346.5 184.0313,-346.5 \" stroke=\"#000000\"/>\n",
       "<text fill=\"#000000\" font-family=\"Times,serif\" font-size=\"14.00\" text-anchor=\"middle\" x=\"156.1968\" y=\"-331.3\">output:</text>\n",
       "<polyline fill=\"none\" points=\"184.0313,-324.5 184.0313,-368.5 \" stroke=\"#000000\"/>\n",
       "<text fill=\"#000000\" font-family=\"Times,serif\" font-size=\"14.00\" text-anchor=\"middle\" x=\"222.3555\" y=\"-353.3\">(None, 43)</text>\n",
       "<polyline fill=\"none\" points=\"184.0313,-346.5 260.6797,-346.5 \" stroke=\"#000000\"/>\n",
       "<text fill=\"#000000\" font-family=\"Times,serif\" font-size=\"14.00\" text-anchor=\"middle\" x=\"222.3555\" y=\"-331.3\">(None, 43)</text>\n",
       "</g>\n",
       "<!-- 5143330944 -->\n",
       "<g class=\"node\" id=\"node2\">\n",
       "<title>5143330944</title>\n",
       "<polygon fill=\"none\" points=\"12.0552,-243.5 12.0552,-287.5 248.6245,-287.5 248.6245,-243.5 12.0552,-243.5\" stroke=\"#000000\"/>\n",
       "<text fill=\"#000000\" font-family=\"Times,serif\" font-size=\"14.00\" text-anchor=\"middle\" x=\"64.1812\" y=\"-261.3\">dense_1: Dense</text>\n",
       "<polyline fill=\"none\" points=\"116.3071,-243.5 116.3071,-287.5 \" stroke=\"#000000\"/>\n",
       "<text fill=\"#000000\" font-family=\"Times,serif\" font-size=\"14.00\" text-anchor=\"middle\" x=\"144.1416\" y=\"-272.3\">input:</text>\n",
       "<polyline fill=\"none\" points=\"116.3071,-265.5 171.9761,-265.5 \" stroke=\"#000000\"/>\n",
       "<text fill=\"#000000\" font-family=\"Times,serif\" font-size=\"14.00\" text-anchor=\"middle\" x=\"144.1416\" y=\"-250.3\">output:</text>\n",
       "<polyline fill=\"none\" points=\"171.9761,-243.5 171.9761,-287.5 \" stroke=\"#000000\"/>\n",
       "<text fill=\"#000000\" font-family=\"Times,serif\" font-size=\"14.00\" text-anchor=\"middle\" x=\"210.3003\" y=\"-272.3\">(None, 43)</text>\n",
       "<polyline fill=\"none\" points=\"171.9761,-265.5 248.6245,-265.5 \" stroke=\"#000000\"/>\n",
       "<text fill=\"#000000\" font-family=\"Times,serif\" font-size=\"14.00\" text-anchor=\"middle\" x=\"210.3003\" y=\"-250.3\">(None, 16)</text>\n",
       "</g>\n",
       "<!-- 5143330888&#45;&gt;5143330944 -->\n",
       "<g class=\"edge\" id=\"edge1\">\n",
       "<title>5143330888-&gt;5143330944</title>\n",
       "<path d=\"M130.3398,-324.3664C130.3398,-316.1516 130.3398,-306.6579 130.3398,-297.7252\" fill=\"none\" stroke=\"#000000\"/>\n",
       "<polygon fill=\"#000000\" points=\"133.8399,-297.6068 130.3398,-287.6068 126.8399,-297.6069 133.8399,-297.6068\" stroke=\"#000000\"/>\n",
       "</g>\n",
       "<!-- 5143331784 -->\n",
       "<g class=\"node\" id=\"node3\">\n",
       "<title>5143331784</title>\n",
       "<polygon fill=\"none\" points=\"12.0552,-162.5 12.0552,-206.5 248.6245,-206.5 248.6245,-162.5 12.0552,-162.5\" stroke=\"#000000\"/>\n",
       "<text fill=\"#000000\" font-family=\"Times,serif\" font-size=\"14.00\" text-anchor=\"middle\" x=\"64.1812\" y=\"-180.3\">dense_2: Dense</text>\n",
       "<polyline fill=\"none\" points=\"116.3071,-162.5 116.3071,-206.5 \" stroke=\"#000000\"/>\n",
       "<text fill=\"#000000\" font-family=\"Times,serif\" font-size=\"14.00\" text-anchor=\"middle\" x=\"144.1416\" y=\"-191.3\">input:</text>\n",
       "<polyline fill=\"none\" points=\"116.3071,-184.5 171.9761,-184.5 \" stroke=\"#000000\"/>\n",
       "<text fill=\"#000000\" font-family=\"Times,serif\" font-size=\"14.00\" text-anchor=\"middle\" x=\"144.1416\" y=\"-169.3\">output:</text>\n",
       "<polyline fill=\"none\" points=\"171.9761,-162.5 171.9761,-206.5 \" stroke=\"#000000\"/>\n",
       "<text fill=\"#000000\" font-family=\"Times,serif\" font-size=\"14.00\" text-anchor=\"middle\" x=\"210.3003\" y=\"-191.3\">(None, 16)</text>\n",
       "<polyline fill=\"none\" points=\"171.9761,-184.5 248.6245,-184.5 \" stroke=\"#000000\"/>\n",
       "<text fill=\"#000000\" font-family=\"Times,serif\" font-size=\"14.00\" text-anchor=\"middle\" x=\"210.3003\" y=\"-169.3\">(None, 8)</text>\n",
       "</g>\n",
       "<!-- 5143330944&#45;&gt;5143331784 -->\n",
       "<g class=\"edge\" id=\"edge2\">\n",
       "<title>5143330944-&gt;5143331784</title>\n",
       "<path d=\"M130.3398,-243.3664C130.3398,-235.1516 130.3398,-225.6579 130.3398,-216.7252\" fill=\"none\" stroke=\"#000000\"/>\n",
       "<polygon fill=\"#000000\" points=\"133.8399,-216.6068 130.3398,-206.6068 126.8399,-216.6069 133.8399,-216.6068\" stroke=\"#000000\"/>\n",
       "</g>\n",
       "<!-- 5143332232 -->\n",
       "<g class=\"node\" id=\"node4\">\n",
       "<title>5143332232</title>\n",
       "<polygon fill=\"none\" points=\"15.5552,-81.5 15.5552,-125.5 245.1245,-125.5 245.1245,-81.5 15.5552,-81.5\" stroke=\"#000000\"/>\n",
       "<text fill=\"#000000\" font-family=\"Times,serif\" font-size=\"14.00\" text-anchor=\"middle\" x=\"67.6812\" y=\"-99.3\">dense_3: Dense</text>\n",
       "<polyline fill=\"none\" points=\"119.8071,-81.5 119.8071,-125.5 \" stroke=\"#000000\"/>\n",
       "<text fill=\"#000000\" font-family=\"Times,serif\" font-size=\"14.00\" text-anchor=\"middle\" x=\"147.6416\" y=\"-110.3\">input:</text>\n",
       "<polyline fill=\"none\" points=\"119.8071,-103.5 175.4761,-103.5 \" stroke=\"#000000\"/>\n",
       "<text fill=\"#000000\" font-family=\"Times,serif\" font-size=\"14.00\" text-anchor=\"middle\" x=\"147.6416\" y=\"-88.3\">output:</text>\n",
       "<polyline fill=\"none\" points=\"175.4761,-81.5 175.4761,-125.5 \" stroke=\"#000000\"/>\n",
       "<text fill=\"#000000\" font-family=\"Times,serif\" font-size=\"14.00\" text-anchor=\"middle\" x=\"210.3003\" y=\"-110.3\">(None, 8)</text>\n",
       "<polyline fill=\"none\" points=\"175.4761,-103.5 245.1245,-103.5 \" stroke=\"#000000\"/>\n",
       "<text fill=\"#000000\" font-family=\"Times,serif\" font-size=\"14.00\" text-anchor=\"middle\" x=\"210.3003\" y=\"-88.3\">(None, 8)</text>\n",
       "</g>\n",
       "<!-- 5143331784&#45;&gt;5143332232 -->\n",
       "<g class=\"edge\" id=\"edge3\">\n",
       "<title>5143331784-&gt;5143332232</title>\n",
       "<path d=\"M130.3398,-162.3664C130.3398,-154.1516 130.3398,-144.6579 130.3398,-135.7252\" fill=\"none\" stroke=\"#000000\"/>\n",
       "<polygon fill=\"#000000\" points=\"133.8399,-135.6068 130.3398,-125.6068 126.8399,-135.6069 133.8399,-135.6068\" stroke=\"#000000\"/>\n",
       "</g>\n",
       "<!-- 5143334136 -->\n",
       "<g class=\"node\" id=\"node5\">\n",
       "<title>5143334136</title>\n",
       "<polygon fill=\"none\" points=\"12.0552,-.5 12.0552,-44.5 248.6245,-44.5 248.6245,-.5 12.0552,-.5\" stroke=\"#000000\"/>\n",
       "<text fill=\"#000000\" font-family=\"Times,serif\" font-size=\"14.00\" text-anchor=\"middle\" x=\"64.1812\" y=\"-18.3\">dense_4: Dense</text>\n",
       "<polyline fill=\"none\" points=\"116.3071,-.5 116.3071,-44.5 \" stroke=\"#000000\"/>\n",
       "<text fill=\"#000000\" font-family=\"Times,serif\" font-size=\"14.00\" text-anchor=\"middle\" x=\"144.1416\" y=\"-29.3\">input:</text>\n",
       "<polyline fill=\"none\" points=\"116.3071,-22.5 171.9761,-22.5 \" stroke=\"#000000\"/>\n",
       "<text fill=\"#000000\" font-family=\"Times,serif\" font-size=\"14.00\" text-anchor=\"middle\" x=\"144.1416\" y=\"-7.3\">output:</text>\n",
       "<polyline fill=\"none\" points=\"171.9761,-.5 171.9761,-44.5 \" stroke=\"#000000\"/>\n",
       "<text fill=\"#000000\" font-family=\"Times,serif\" font-size=\"14.00\" text-anchor=\"middle\" x=\"210.3003\" y=\"-29.3\">(None, 8)</text>\n",
       "<polyline fill=\"none\" points=\"171.9761,-22.5 248.6245,-22.5 \" stroke=\"#000000\"/>\n",
       "<text fill=\"#000000\" font-family=\"Times,serif\" font-size=\"14.00\" text-anchor=\"middle\" x=\"210.3003\" y=\"-7.3\">(None, 43)</text>\n",
       "</g>\n",
       "<!-- 5143332232&#45;&gt;5143334136 -->\n",
       "<g class=\"edge\" id=\"edge4\">\n",
       "<title>5143332232-&gt;5143334136</title>\n",
       "<path d=\"M130.3398,-81.3664C130.3398,-73.1516 130.3398,-63.6579 130.3398,-54.7252\" fill=\"none\" stroke=\"#000000\"/>\n",
       "<polygon fill=\"#000000\" points=\"133.8399,-54.6068 130.3398,-44.6068 126.8399,-54.6069 133.8399,-54.6068\" stroke=\"#000000\"/>\n",
       "</g>\n",
       "</g>\n",
       "</svg>"
      ],
      "text/plain": [
       "<IPython.core.display.SVG object>"
      ]
     },
     "execution_count": 9,
     "metadata": {},
     "output_type": "execute_result"
    }
   ],
   "source": [
    "from IPython.display import SVG\n",
    "from keras.utils.vis_utils import model_to_dot\n",
    "\n",
    "SVG(model_to_dot(autoencoder, show_shapes=True, show_layer_names=True).create(prog='dot', format='svg'))"
   ]
  },
  {
   "cell_type": "markdown",
   "metadata": {},
   "source": [
    "## Train the network"
   ]
  },
  {
   "cell_type": "code",
   "execution_count": 10,
   "metadata": {
    "ExecuteTime": {
     "end_time": "2019-05-27T22:04:45.768099Z",
     "start_time": "2019-05-27T22:04:28.675989Z"
    }
   },
   "outputs": [
    {
     "name": "stdout",
     "output_type": "stream",
     "text": [
      "WARNING:tensorflow:From /usr/local/lib/python3.7/site-packages/tensorflow/python/ops/math_ops.py:3066: to_int32 (from tensorflow.python.ops.math_ops) is deprecated and will be removed in a future version.\n",
      "Instructions for updating:\n",
      "Use tf.cast instead.\n",
      "Train on 8143 samples, validate on 2030 samples\n",
      "Epoch 1/100\n",
      "8143/8143 [==============================] - 0s 44us/step - loss: 1.8356 - acc: 0.0456 - val_loss: 1.5945 - val_acc: 0.0754\n",
      "Epoch 2/100\n",
      "8143/8143 [==============================] - 0s 22us/step - loss: 1.4447 - acc: 0.0689 - val_loss: 1.2346 - val_acc: 0.0783\n",
      "Epoch 3/100\n",
      "8143/8143 [==============================] - 0s 19us/step - loss: 1.1292 - acc: 0.0727 - val_loss: 0.9777 - val_acc: 0.0823\n",
      "Epoch 4/100\n",
      "8143/8143 [==============================] - 0s 32us/step - loss: 0.9429 - acc: 0.0580 - val_loss: 0.8607 - val_acc: 0.0670\n",
      "Epoch 5/100\n",
      "8143/8143 [==============================] - 0s 27us/step - loss: 0.8636 - acc: 0.0551 - val_loss: 0.8078 - val_acc: 0.0956\n",
      "Epoch 6/100\n",
      "8143/8143 [==============================] - 0s 19us/step - loss: 0.8206 - acc: 0.1294 - val_loss: 0.7749 - val_acc: 0.1493\n",
      "Epoch 7/100\n",
      "8143/8143 [==============================] - 0s 17us/step - loss: 0.7904 - acc: 0.1729 - val_loss: 0.7499 - val_acc: 0.1773\n",
      "Epoch 8/100\n",
      "8143/8143 [==============================] - 0s 20us/step - loss: 0.7677 - acc: 0.2047 - val_loss: 0.7318 - val_acc: 0.2034\n",
      "Epoch 9/100\n",
      "8143/8143 [==============================] - 0s 21us/step - loss: 0.7511 - acc: 0.2262 - val_loss: 0.7178 - val_acc: 0.2148\n",
      "Epoch 10/100\n",
      "8143/8143 [==============================] - 0s 30us/step - loss: 0.7383 - acc: 0.2346 - val_loss: 0.7089 - val_acc: 0.2212\n",
      "Epoch 11/100\n",
      "8143/8143 [==============================] - 0s 19us/step - loss: 0.7285 - acc: 0.2310 - val_loss: 0.6997 - val_acc: 0.2217\n",
      "Epoch 12/100\n",
      "8143/8143 [==============================] - 0s 21us/step - loss: 0.7202 - acc: 0.2321 - val_loss: 0.6962 - val_acc: 0.2167\n",
      "Epoch 13/100\n",
      "8143/8143 [==============================] - 0s 22us/step - loss: 0.7141 - acc: 0.2319 - val_loss: 0.6887 - val_acc: 0.2177\n",
      "Epoch 14/100\n",
      "8143/8143 [==============================] - 0s 18us/step - loss: 0.7076 - acc: 0.2305 - val_loss: 0.6855 - val_acc: 0.2335\n",
      "Epoch 15/100\n",
      "8143/8143 [==============================] - 0s 18us/step - loss: 0.7041 - acc: 0.2335 - val_loss: 0.6824 - val_acc: 0.2099\n",
      "Epoch 16/100\n",
      "8143/8143 [==============================] - 0s 19us/step - loss: 0.6991 - acc: 0.2352 - val_loss: 0.6791 - val_acc: 0.2049\n",
      "Epoch 17/100\n",
      "8143/8143 [==============================] - 0s 18us/step - loss: 0.6945 - acc: 0.2314 - val_loss: 0.6746 - val_acc: 0.2069\n",
      "Epoch 18/100\n",
      "8143/8143 [==============================] - 0s 19us/step - loss: 0.6907 - acc: 0.2344 - val_loss: 0.6720 - val_acc: 0.2108\n",
      "Epoch 19/100\n",
      "8143/8143 [==============================] - 0s 19us/step - loss: 0.6868 - acc: 0.2360 - val_loss: 0.6693 - val_acc: 0.2429\n",
      "Epoch 20/100\n",
      "8143/8143 [==============================] - 0s 18us/step - loss: 0.6839 - acc: 0.2429 - val_loss: 0.6670 - val_acc: 0.2167\n",
      "Epoch 21/100\n",
      "8143/8143 [==============================] - 0s 19us/step - loss: 0.6803 - acc: 0.2434 - val_loss: 0.6655 - val_acc: 0.2222\n",
      "Epoch 22/100\n",
      "8143/8143 [==============================] - 0s 19us/step - loss: 0.6774 - acc: 0.2502 - val_loss: 0.6639 - val_acc: 0.2222\n",
      "Epoch 23/100\n",
      "8143/8143 [==============================] - 0s 19us/step - loss: 0.6751 - acc: 0.2490 - val_loss: 0.6605 - val_acc: 0.2507\n",
      "Epoch 24/100\n",
      "8143/8143 [==============================] - 0s 18us/step - loss: 0.6715 - acc: 0.2540 - val_loss: 0.6575 - val_acc: 0.2488\n",
      "Epoch 25/100\n",
      "8143/8143 [==============================] - 0s 18us/step - loss: 0.6689 - acc: 0.2584 - val_loss: 0.6561 - val_acc: 0.2305\n",
      "Epoch 26/100\n",
      "8143/8143 [==============================] - 0s 18us/step - loss: 0.6658 - acc: 0.2611 - val_loss: 0.6524 - val_acc: 0.2463\n",
      "Epoch 27/100\n",
      "8143/8143 [==============================] - 0s 18us/step - loss: 0.6630 - acc: 0.2672 - val_loss: 0.6501 - val_acc: 0.2626\n",
      "Epoch 28/100\n",
      "8143/8143 [==============================] - 0s 19us/step - loss: 0.6584 - acc: 0.2761 - val_loss: 0.6467 - val_acc: 0.2980\n",
      "Epoch 29/100\n",
      "8143/8143 [==============================] - 0s 18us/step - loss: 0.6550 - acc: 0.2909 - val_loss: 0.6452 - val_acc: 0.2581\n",
      "Epoch 30/100\n",
      "8143/8143 [==============================] - 0s 19us/step - loss: 0.6497 - acc: 0.2940 - val_loss: 0.6383 - val_acc: 0.2990\n",
      "Epoch 31/100\n",
      "8143/8143 [==============================] - 0s 19us/step - loss: 0.6466 - acc: 0.3026 - val_loss: 0.6379 - val_acc: 0.2522\n",
      "Epoch 32/100\n",
      "8143/8143 [==============================] - 0s 19us/step - loss: 0.6441 - acc: 0.3139 - val_loss: 0.6344 - val_acc: 0.3133\n",
      "Epoch 33/100\n",
      "8143/8143 [==============================] - 0s 19us/step - loss: 0.6405 - acc: 0.3365 - val_loss: 0.6317 - val_acc: 0.3192\n",
      "Epoch 34/100\n",
      "8143/8143 [==============================] - 0s 21us/step - loss: 0.6383 - acc: 0.3489 - val_loss: 0.6311 - val_acc: 0.3458\n",
      "Epoch 35/100\n",
      "8143/8143 [==============================] - 0s 16us/step - loss: 0.6367 - acc: 0.3660 - val_loss: 0.6276 - val_acc: 0.3833\n",
      "Epoch 36/100\n",
      "8143/8143 [==============================] - 0s 16us/step - loss: 0.6342 - acc: 0.3774 - val_loss: 0.6269 - val_acc: 0.3241\n",
      "Epoch 37/100\n",
      "8143/8143 [==============================] - 0s 17us/step - loss: 0.6324 - acc: 0.3865 - val_loss: 0.6262 - val_acc: 0.4113\n",
      "Epoch 38/100\n",
      "8143/8143 [==============================] - 0s 17us/step - loss: 0.6309 - acc: 0.4001 - val_loss: 0.6234 - val_acc: 0.4005\n",
      "Epoch 39/100\n",
      "8143/8143 [==============================] - 0s 17us/step - loss: 0.6296 - acc: 0.4022 - val_loss: 0.6226 - val_acc: 0.3995\n",
      "Epoch 40/100\n",
      "8143/8143 [==============================] - 0s 16us/step - loss: 0.6275 - acc: 0.4142 - val_loss: 0.6232 - val_acc: 0.4305\n",
      "Epoch 41/100\n",
      "8143/8143 [==============================] - 0s 18us/step - loss: 0.6272 - acc: 0.4154 - val_loss: 0.6196 - val_acc: 0.4044\n",
      "Epoch 42/100\n",
      "8143/8143 [==============================] - 0s 16us/step - loss: 0.6248 - acc: 0.4182 - val_loss: 0.6195 - val_acc: 0.3926\n",
      "Epoch 43/100\n",
      "8143/8143 [==============================] - 0s 17us/step - loss: 0.6249 - acc: 0.4197 - val_loss: 0.6197 - val_acc: 0.4458\n",
      "Epoch 44/100\n",
      "8143/8143 [==============================] - 0s 18us/step - loss: 0.6230 - acc: 0.4191 - val_loss: 0.6211 - val_acc: 0.4207\n",
      "Epoch 45/100\n",
      "8143/8143 [==============================] - 0s 18us/step - loss: 0.6227 - acc: 0.4200 - val_loss: 0.6180 - val_acc: 0.3680\n",
      "Epoch 46/100\n",
      "8143/8143 [==============================] - 0s 17us/step - loss: 0.6204 - acc: 0.4276 - val_loss: 0.6148 - val_acc: 0.4251\n",
      "Epoch 47/100\n",
      "8143/8143 [==============================] - 0s 16us/step - loss: 0.6184 - acc: 0.4310 - val_loss: 0.6139 - val_acc: 0.4483\n",
      "Epoch 48/100\n",
      "8143/8143 [==============================] - 0s 16us/step - loss: 0.6181 - acc: 0.4328 - val_loss: 0.6148 - val_acc: 0.4108\n",
      "Epoch 49/100\n",
      "8143/8143 [==============================] - 0s 17us/step - loss: 0.6165 - acc: 0.4345 - val_loss: 0.6134 - val_acc: 0.4266\n",
      "Epoch 50/100\n",
      "8143/8143 [==============================] - 0s 17us/step - loss: 0.6158 - acc: 0.4279 - val_loss: 0.6119 - val_acc: 0.4389\n",
      "Epoch 51/100\n",
      "8143/8143 [==============================] - 0s 17us/step - loss: 0.6137 - acc: 0.4358 - val_loss: 0.6122 - val_acc: 0.4138\n",
      "Epoch 52/100\n",
      "8143/8143 [==============================] - 0s 17us/step - loss: 0.6127 - acc: 0.4325 - val_loss: 0.6082 - val_acc: 0.4498\n",
      "Epoch 53/100\n",
      "8143/8143 [==============================] - 0s 16us/step - loss: 0.6117 - acc: 0.4377 - val_loss: 0.6089 - val_acc: 0.4182\n",
      "Epoch 54/100\n",
      "8143/8143 [==============================] - 0s 17us/step - loss: 0.6115 - acc: 0.4355 - val_loss: 0.6088 - val_acc: 0.4404\n",
      "Epoch 55/100\n",
      "8143/8143 [==============================] - 0s 18us/step - loss: 0.6098 - acc: 0.4366 - val_loss: 0.6087 - val_acc: 0.4079\n",
      "Epoch 56/100\n",
      "8143/8143 [==============================] - 0s 18us/step - loss: 0.6084 - acc: 0.4382 - val_loss: 0.6048 - val_acc: 0.4448\n",
      "Epoch 57/100\n",
      "8143/8143 [==============================] - 0s 16us/step - loss: 0.6072 - acc: 0.4394 - val_loss: 0.6054 - val_acc: 0.3901\n",
      "Epoch 58/100\n"
     ]
    },
    {
     "name": "stdout",
     "output_type": "stream",
     "text": [
      "8143/8143 [==============================] - 0s 20us/step - loss: 0.6067 - acc: 0.4417 - val_loss: 0.6061 - val_acc: 0.4320\n",
      "Epoch 59/100\n",
      "8143/8143 [==============================] - 0s 18us/step - loss: 0.6054 - acc: 0.4423 - val_loss: 0.6018 - val_acc: 0.4399\n",
      "Epoch 60/100\n",
      "8143/8143 [==============================] - 0s 17us/step - loss: 0.6033 - acc: 0.4495 - val_loss: 0.6018 - val_acc: 0.4404\n",
      "Epoch 61/100\n",
      "8143/8143 [==============================] - 0s 17us/step - loss: 0.6024 - acc: 0.4466 - val_loss: 0.5994 - val_acc: 0.4202\n",
      "Epoch 62/100\n",
      "8143/8143 [==============================] - 0s 17us/step - loss: 0.6008 - acc: 0.4491 - val_loss: 0.5967 - val_acc: 0.4286\n",
      "Epoch 63/100\n",
      "8143/8143 [==============================] - 0s 17us/step - loss: 0.5997 - acc: 0.4523 - val_loss: 0.5990 - val_acc: 0.4197\n",
      "Epoch 64/100\n",
      "8143/8143 [==============================] - 0s 18us/step - loss: 0.5993 - acc: 0.4525 - val_loss: 0.5988 - val_acc: 0.4453\n",
      "Epoch 65/100\n",
      "8143/8143 [==============================] - 0s 17us/step - loss: 0.5988 - acc: 0.4531 - val_loss: 0.5976 - val_acc: 0.4325\n",
      "Epoch 66/100\n",
      "8143/8143 [==============================] - 0s 17us/step - loss: 0.5974 - acc: 0.4517 - val_loss: 0.5952 - val_acc: 0.4379\n",
      "Epoch 67/100\n",
      "8143/8143 [==============================] - 0s 16us/step - loss: 0.5972 - acc: 0.4512 - val_loss: 0.5946 - val_acc: 0.4690\n",
      "Epoch 68/100\n",
      "8143/8143 [==============================] - 0s 16us/step - loss: 0.5970 - acc: 0.4493 - val_loss: 0.5955 - val_acc: 0.4227\n",
      "Epoch 69/100\n",
      "8143/8143 [==============================] - 0s 18us/step - loss: 0.5956 - acc: 0.4525 - val_loss: 0.5947 - val_acc: 0.4025\n",
      "Epoch 70/100\n",
      "8143/8143 [==============================] - 0s 17us/step - loss: 0.5941 - acc: 0.4593 - val_loss: 0.5944 - val_acc: 0.4409\n",
      "Epoch 71/100\n",
      "8143/8143 [==============================] - 0s 16us/step - loss: 0.5944 - acc: 0.4559 - val_loss: 0.5934 - val_acc: 0.4345\n",
      "Epoch 72/100\n",
      "8143/8143 [==============================] - 0s 23us/step - loss: 0.5933 - acc: 0.4565 - val_loss: 0.5924 - val_acc: 0.4571\n",
      "Epoch 73/100\n",
      "8143/8143 [==============================] - 0s 16us/step - loss: 0.5931 - acc: 0.4572 - val_loss: 0.5899 - val_acc: 0.4833\n",
      "Epoch 74/100\n",
      "8143/8143 [==============================] - 0s 17us/step - loss: 0.5918 - acc: 0.4614 - val_loss: 0.5906 - val_acc: 0.4409\n",
      "Epoch 75/100\n",
      "8143/8143 [==============================] - 0s 18us/step - loss: 0.5922 - acc: 0.4551 - val_loss: 0.5889 - val_acc: 0.4320\n",
      "Epoch 76/100\n",
      "8143/8143 [==============================] - 0s 17us/step - loss: 0.5905 - acc: 0.4560 - val_loss: 0.5899 - val_acc: 0.4611\n",
      "Epoch 77/100\n",
      "8143/8143 [==============================] - 0s 17us/step - loss: 0.5907 - acc: 0.4578 - val_loss: 0.5896 - val_acc: 0.4429\n",
      "Epoch 78/100\n",
      "8143/8143 [==============================] - 0s 18us/step - loss: 0.5911 - acc: 0.4587 - val_loss: 0.5885 - val_acc: 0.4517\n",
      "Epoch 79/100\n",
      "8143/8143 [==============================] - 0s 17us/step - loss: 0.5899 - acc: 0.4576 - val_loss: 0.5876 - val_acc: 0.4621\n",
      "Epoch 80/100\n",
      "8143/8143 [==============================] - 0s 16us/step - loss: 0.5887 - acc: 0.4622 - val_loss: 0.5886 - val_acc: 0.4581\n",
      "Epoch 81/100\n",
      "8143/8143 [==============================] - 0s 18us/step - loss: 0.5886 - acc: 0.4586 - val_loss: 0.5893 - val_acc: 0.4537\n",
      "Epoch 82/100\n",
      "8143/8143 [==============================] - 0s 18us/step - loss: 0.5897 - acc: 0.4453 - val_loss: 0.5878 - val_acc: 0.4596\n",
      "Epoch 83/100\n",
      "8143/8143 [==============================] - 0s 17us/step - loss: 0.5868 - acc: 0.4643 - val_loss: 0.5863 - val_acc: 0.4808\n",
      "Epoch 84/100\n",
      "8143/8143 [==============================] - 0s 21us/step - loss: 0.5860 - acc: 0.4678 - val_loss: 0.5865 - val_acc: 0.4379\n",
      "Epoch 85/100\n",
      "8143/8143 [==============================] - 0s 17us/step - loss: 0.5855 - acc: 0.4656 - val_loss: 0.5877 - val_acc: 0.4517\n",
      "Epoch 86/100\n",
      "8143/8143 [==============================] - 0s 18us/step - loss: 0.5865 - acc: 0.4621 - val_loss: 0.5844 - val_acc: 0.4438\n",
      "Epoch 87/100\n",
      "8143/8143 [==============================] - 0s 17us/step - loss: 0.5861 - acc: 0.4621 - val_loss: 0.5867 - val_acc: 0.4704\n",
      "Epoch 88/100\n",
      "8143/8143 [==============================] - 0s 17us/step - loss: 0.5841 - acc: 0.4737 - val_loss: 0.5847 - val_acc: 0.4695\n",
      "Epoch 89/100\n",
      "8143/8143 [==============================] - 0s 18us/step - loss: 0.5850 - acc: 0.4619 - val_loss: 0.5867 - val_acc: 0.4803\n",
      "Epoch 90/100\n",
      "8143/8143 [==============================] - 0s 17us/step - loss: 0.5846 - acc: 0.4689 - val_loss: 0.5840 - val_acc: 0.4773\n",
      "Epoch 91/100\n",
      "8143/8143 [==============================] - 0s 17us/step - loss: 0.5842 - acc: 0.4651 - val_loss: 0.5828 - val_acc: 0.4616\n",
      "Epoch 92/100\n",
      "8143/8143 [==============================] - 0s 16us/step - loss: 0.5835 - acc: 0.4678 - val_loss: 0.5832 - val_acc: 0.4650\n",
      "Epoch 93/100\n",
      "8143/8143 [==============================] - 0s 17us/step - loss: 0.5823 - acc: 0.4723 - val_loss: 0.5820 - val_acc: 0.4660\n",
      "Epoch 94/100\n",
      "8143/8143 [==============================] - 0s 17us/step - loss: 0.5816 - acc: 0.4751 - val_loss: 0.5817 - val_acc: 0.4527\n",
      "Epoch 95/100\n",
      "8143/8143 [==============================] - 0s 17us/step - loss: 0.5800 - acc: 0.4772 - val_loss: 0.5802 - val_acc: 0.4660\n",
      "Epoch 96/100\n",
      "8143/8143 [==============================] - 0s 17us/step - loss: 0.5809 - acc: 0.4664 - val_loss: 0.5826 - val_acc: 0.4675\n",
      "Epoch 97/100\n",
      "8143/8143 [==============================] - 0s 17us/step - loss: 0.5804 - acc: 0.4726 - val_loss: 0.5779 - val_acc: 0.4685\n",
      "Epoch 98/100\n",
      "8143/8143 [==============================] - 0s 16us/step - loss: 0.5786 - acc: 0.4805 - val_loss: 0.5800 - val_acc: 0.4961\n",
      "Epoch 99/100\n",
      "8143/8143 [==============================] - 0s 18us/step - loss: 0.5794 - acc: 0.4791 - val_loss: 0.5787 - val_acc: 0.4493\n",
      "Epoch 100/100\n",
      "8143/8143 [==============================] - 0s 18us/step - loss: 0.5780 - acc: 0.4778 - val_loss: 0.5779 - val_acc: 0.4704\n"
     ]
    }
   ],
   "source": [
    "autoencoder.compile(metrics=['accuracy'],\n",
    "                    loss='mean_squared_error',\n",
    "                    optimizer='adam')\n",
    "\n",
    "cp = ModelCheckpoint(filepath=\"autoencoder_classifier.h5\",\n",
    "                               save_best_only=True,\n",
    "                               verbose=0)\n",
    "\n",
    "tb = TensorBoard(log_dir='./logs',\n",
    "                histogram_freq=0,\n",
    "                write_graph=True,\n",
    "                write_images=True)\n",
    "\n",
    "history = autoencoder.fit(df_train_0_x_rescaled, df_train_0_x_rescaled,\n",
    "                    epochs=nb_epoch,\n",
    "                    batch_size=batch_size,\n",
    "                    shuffle=True,\n",
    "                    validation_data=(df_valid_0_x_rescaled, df_valid_0_x_rescaled),\n",
    "                    verbose=1,\n",
    "                    callbacks=[cp, tb]).history"
   ]
  },
  {
   "cell_type": "markdown",
   "metadata": {},
   "source": [
    "## Validate "
   ]
  },
  {
   "cell_type": "code",
   "execution_count": 11,
   "metadata": {
    "ExecuteTime": {
     "end_time": "2019-05-27T22:04:45.949468Z",
     "start_time": "2019-05-27T22:04:45.769509Z"
    }
   },
   "outputs": [
    {
     "data": {
      "image/png": "[encoded data removed]",
      "text/plain": [
       "<Figure size 432x288 with 1 Axes>"
      ]
     },
     "metadata": {
      "needs_background": "light"
     },
     "output_type": "display_data"
    }
   ],
   "source": [
    "valid_x_predictions = autoencoder.predict(df_valid_x_rescaled)\n",
    "mse = np.mean(np.power(df_valid_x_rescaled - valid_x_predictions, 2), axis=1)\n",
    "error_df = pd.DataFrame({'Reconstruction_error': mse,\n",
    "                        'True_class': df_valid['ATT_FLAG'] == 1})\n",
    "\n",
    "precision_rt, recall_rt, threshold_rt = precision_recall_curve(error_df.True_class, error_df.Reconstruction_error)\n",
    "plt.plot(threshold_rt, precision_rt[1:], label=\"Precision\",linewidth=5)\n",
    "plt.plot(threshold_rt, recall_rt[1:], label=\"Recall\",linewidth=5)\n",
    "plt.title('Precision and recall for different threshold values')\n",
    "plt.xlabel('Threshold / reconstruction error')\n",
    "plt.ylabel('Precision/Recall')\n",
    "plt.legend()\n",
    "plt.show()"
   ]
  },
  {
   "cell_type": "markdown",
   "metadata": {},
   "source": [
    "## Evaluate on testing\n",
    "\n",
    "based on the above plot, choose a fixed threshold when the reconstruction error is too large"
   ]
  },
  {
   "cell_type": "code",
   "execution_count": 12,
   "metadata": {
    "ExecuteTime": {
     "end_time": "2019-05-27T22:04:46.125354Z",
     "start_time": "2019-05-27T22:04:45.951432Z"
    }
   },
   "outputs": [
    {
     "data": {
      "image/png": "[encoded data removed]",
      "text/plain": [
       "<Figure size 432x288 with 1 Axes>"
      ]
     },
     "metadata": {
      "needs_background": "light"
     },
     "output_type": "display_data"
    }
   ],
   "source": [
    "threshold_fixed = 1.5\n",
    "\n",
    "\n",
    "test_x_predictions = autoencoder.predict(df_test_x_rescaled)\n",
    "mse = np.mean(np.power(df_test_x_rescaled - test_x_predictions, 2), axis=1)\n",
    "error_df_test = pd.DataFrame({'Reconstruction_error': mse,\n",
    "                        'True_class': df_test['ATT_FLAG']})\n",
    "error_df_test = error_df_test.reset_index()\n",
    "\n",
    "groups = error_df_test.groupby('True_class')\n",
    "\n",
    "fig, ax = plt.subplots()\n",
    "\n",
    "for name, group in groups:\n",
    "    ax.plot(group.index, group.Reconstruction_error, marker='o', ms=3.5, linestyle='',\n",
    "            label= \"Attack\" if name == 1 else \"Normal\")\n",
    "ax.hlines(threshold_fixed, ax.get_xlim()[0], ax.get_xlim()[1], colors=\"r\", zorder=100, label='Threshold')\n",
    "ax.legend()\n",
    "plt.title(\"Reconstruction error for different classes\")\n",
    "plt.ylabel(\"Reconstruction error\")\n",
    "plt.xlabel(\"Data point index\")\n",
    "plt.show();"
   ]
  },
  {
   "cell_type": "markdown",
   "metadata": {},
   "source": [
    "### Use autoencoder to predict outliers\n",
    "\n",
    "Predict *attack* label if reconstruction error larger than the chosen threshold"
   ]
  },
  {
   "cell_type": "code",
   "execution_count": 13,
   "metadata": {
    "ExecuteTime": {
     "end_time": "2019-05-27T22:04:46.261639Z",
     "start_time": "2019-05-27T22:04:46.126878Z"
    }
   },
   "outputs": [
    {
     "data": {
      "image/png": "[encoded data removed]",
      "text/plain": [
       "<Figure size 864x864 with 2 Axes>"
      ]
     },
     "metadata": {
      "needs_background": "light"
     },
     "output_type": "display_data"
    }
   ],
   "source": [
    "pred_y = [1 if e > threshold_fixed else 0 for e in error_df.Reconstruction_error.values]\n",
    "\n",
    "conf_matrix = confusion_matrix(error_df.True_class, pred_y)\n",
    "\n",
    "plt.figure(figsize=(12, 12))\n",
    "sns.heatmap(conf_matrix, xticklabels=LABELS, yticklabels=LABELS, annot=True, fmt=\"d\");\n",
    "plt.title(\"Confusion matrix\")\n",
    "plt.ylabel('True class')\n",
    "plt.xlabel('Predicted class')\n",
    "plt.show()"
   ]
  },
  {
   "cell_type": "markdown",
   "metadata": {},
   "source": [
    "Plot the ROC curve for the chosen threshold"
   ]
  },
  {
   "cell_type": "code",
   "execution_count": 14,
   "metadata": {
    "ExecuteTime": {
     "end_time": "2019-05-27T22:04:46.390614Z",
     "start_time": "2019-05-27T22:04:46.265629Z"
    }
   },
   "outputs": [
    {
     "data": {
      "image/png": "[encoded data removed]",
      "text/plain": [
       "<Figure size 432x288 with 1 Axes>"
      ]
     },
     "metadata": {
      "needs_background": "light"
     },
     "output_type": "display_data"
    }
   ],
   "source": [
    "false_pos_rate, true_pos_rate, thresholds = roc_curve(error_df.True_class, error_df.Reconstruction_error)\n",
    "roc_auc = auc(false_pos_rate, true_pos_rate,)\n",
    "\n",
    "plt.plot(false_pos_rate, true_pos_rate, linewidth=5, label='AUC = %0.3f'% roc_auc)\n",
    "plt.plot([0,1],[0,1], linewidth=5)\n",
    "\n",
    "plt.xlim([-0.01, 1])\n",
    "plt.ylim([0, 1.01])\n",
    "plt.legend(loc='lower right')\n",
    "plt.title('Receiver operating characteristic curve (ROC)')\n",
    "plt.ylabel('True Positive Rate')\n",
    "plt.xlabel('False Positive Rate')\n",
    "plt.show()"
   ]
  },
  {
   "cell_type": "code",
   "execution_count": null,
   "metadata": {},
   "outputs": [],
   "source": []
  }
 ],
 "metadata": {
  "kernelspec": {
   "display_name": "Python 3",
   "language": "python",
   "name": "python3"
  },
  "language_info": {
   "codemirror_mode": {
    "name": "ipython",
    "version": 3
   },
   "file_extension": ".py",
   "mimetype": "text/x-python",
   "name": "python",
   "nbconvert_exporter": "python",
   "pygments_lexer": "ipython3",
   "version": "3.7.2"
  }
 },
 "nbformat": 4,
 "nbformat_minor": 2
}
