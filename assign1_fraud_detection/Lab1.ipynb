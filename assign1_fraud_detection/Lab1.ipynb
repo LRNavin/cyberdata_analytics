{
 "cells": [
  {
   "cell_type": "code",
   "execution_count": 1,
   "metadata": {
    "colab": {},
    "colab_type": "code",
    "id": "QP3qn2YT8W9o"
   },
   "outputs": [],
   "source": [
    "# import packages\n",
    "import pandas as pd\n",
    "import numpy as np\n",
    "import matplotlib.pyplot as plt"
   ]
  },
  {
   "cell_type": "code",
   "execution_count": 8,
   "metadata": {},
   "outputs": [
    {
     "name": "stdout",
     "output_type": "stream",
     "text": [
      "(290383, 17)\n",
      "     0                    1                  2              3       4   \\\n",
      "0  txid          bookingdate  issuercountrycode  txvariantcode     bin   \n",
      "1     1  2015-11-09 14:26:51                 MX       mccredit  530056   \n",
      "2     2  2015-11-09 14:27:38                 MX       mccredit  547046   \n",
      "3     3  2015-11-23 16:34:16                 MX       mccredit  528843   \n",
      "4     4  2015-11-23 16:34:51                 MX       mccredit  547146   \n",
      "\n",
      "       5             6                   7                   8   \\\n",
      "0  amount  currencycode  shoppercountrycode  shopperinteraction   \n",
      "1   64800           MXN                  MX           Ecommerce   \n",
      "2   44900           MXN                  MX           Ecommerce   \n",
      "3  149900           MXN                  MX           Ecommerce   \n",
      "4  109900           MXN                  MX           Ecommerce   \n",
      "\n",
      "               9                             10               11  \\\n",
      "0  simple_journal  cardverificationcodesupplied  cvcresponsecode   \n",
      "1      Chargeback                          TRUE                0   \n",
      "2      Chargeback                          TRUE                0   \n",
      "3      Chargeback                          TRUE                0   \n",
      "4      Chargeback                          TRUE                0   \n",
      "\n",
      "                    12             13           14        15          16  \n",
      "0         creationdate    accountcode      mail_id     ip_id     card_id  \n",
      "1  2015-07-01 23:03:11  MexicoAccount   email68370  ip111778  card184798  \n",
      "2  2015-07-02 04:50:55  MexicoAccount  email101299   ip78749  card151595  \n",
      "3  2015-07-02 14:30:28  MexicoAccount  email278604   ip70594  card242142  \n",
      "4  2015-07-03 07:53:37  MexicoAccount   email47409  ip113648  card181744  \n"
     ]
    }
   ],
   "source": [
    "#Data Explore\n",
    "fraud_data = pd.read_csv('adyen_data.csv', header=None)\n",
    "\n",
    "print(fraud_data.shape)\n",
    "print(fraud_data[:5:])"
   ]
  },
  {
   "cell_type": "code",
   "execution_count": null,
   "metadata": {
    "colab_type": "text",
    "id": "jdnRprdL-GsY"
   },
   "outputs": [],
   "source": [
    "#Fix Class imbalance"
   ]
  },
  {
   "cell_type": "code",
   "execution_count": null,
   "metadata": {},
   "outputs": [],
   "source": [
    "#Classify - Benign & Fraud"
   ]
  }
 ],
 "metadata": {
  "colab": {
   "collapsed_sections": [],
   "name": "Lab1.ipynb",
   "provenance": [],
   "version": "0.3.2"
  },
  "kernelspec": {
   "display_name": "Python 2",
   "language": "python",
   "name": "python2"
  },
  "language_info": {
   "codemirror_mode": {
    "name": "ipython",
    "version": 2
   },
   "file_extension": ".py",
   "mimetype": "text/x-python",
   "name": "python",
   "nbconvert_exporter": "python",
   "pygments_lexer": "ipython2",
   "version": "2.7.15"
  }
 },
 "nbformat": 4,
 "nbformat_minor": 1
}
