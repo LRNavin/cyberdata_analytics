{
 "cells": [
  {
   "cell_type": "code",
   "execution_count": 27,
   "metadata": {},
   "outputs": [],
   "source": [
    "#Import Libraries\n",
    "import os\n",
    "import pandas as pd\n",
    "import requests\n",
    "import json\n",
    "from sklearn import tree\n",
    "from sklearn.model_selection import train_test_split\n",
    "from sklearn.neighbors import KNeighborsClassifier\n",
    "from sklearn.linear_model import LogisticRegression\n",
    "from imblearn.over_sampling import SMOTE\n",
    "import matplotlib.pyplot as plt\n",
    "import seaborn as sns\n",
    "from sklearn.metrics import roc_curve\n",
    "from sklearn.metrics import roc_auc_score\n",
    "from sklearn.metrics import precision_recall_curve\n",
    "from sklearn.ensemble import RandomForestClassifier\n",
    "import numpy as np\n",
    "from sklearn.model_selection import KFold\n",
    "from sklearn.metrics import confusion_matrix\n",
    "from sklearn.model_selection import StratifiedKFold\n",
    "from sklearn.metrics import accuracy_score, f1_score, precision_score, recall_score\n",
    "from sklearn.preprocessing import StandardScaler\n"
   ]
  },
  {
   "cell_type": "code",
   "execution_count": 28,
   "metadata": {},
   "outputs": [
    {
     "name": "stdout",
     "output_type": "stream",
     "text": [
      "<class 'pandas.core.frame.DataFrame'>\n",
      "Int64Index: 237036 entries, 0 to 290381\n",
      "Data columns (total 17 columns):\n",
      "txid                            237036 non-null int64\n",
      "bookingdate                     237036 non-null object\n",
      "issuercountrycode               237032 non-null object\n",
      "txvariantcode                   237036 non-null object\n",
      "bin                             237036 non-null float64\n",
      "amount                          237036 non-null float64\n",
      "currencycode                    237036 non-null object\n",
      "shoppercountrycode              236694 non-null object\n",
      "shopperinteraction              237036 non-null object\n",
      "simple_journal                  237036 non-null object\n",
      "cardverificationcodesupplied    223842 non-null object\n",
      "cvcresponsecode                 237036 non-null int64\n",
      "creationdate                    237036 non-null object\n",
      "accountcode                     237036 non-null object\n",
      "mail_id                         237036 non-null object\n",
      "ip_id                           237036 non-null object\n",
      "card_id                         237036 non-null object\n",
      "dtypes: float64(2), int64(2), object(13)\n",
      "memory usage: 32.6+ MB\n"
     ]
    }
   ],
   "source": [
    "\n",
    "##Prepocessing stage\n",
    "#Remove refused transactions from dataset\n",
    "cwd = os.getcwd()\n",
    "dataFrame = pd.read_csv(cwd+\"/adyen_data.csv\")\n",
    "dataFrame = dataFrame.loc[dataFrame['simple_journal'] != 'Refused']\n",
    "dataFrame.info()\n",
    "#convert booking date and creation date to DataTime\n",
    "dates=['bookingdate', 'creationdate']\n",
    "for col in dates:\n",
    "    dataFrame[col] = pd.to_datetime(dataFrame.bookingdate, format='%Y-%m-%d %H:%M:%S', errors='coerce')\n",
    "#Handle the following attributes as categorical\n",
    "categoricalAtrr=['issuercountrycode', 'txvariantcode', 'currencycode', 'shoppercountrycode', 'shopperinteraction',\n",
    "               'cardverificationcodesupplied', 'cvcresponsecode', 'accountcode']\n",
    "for col in categoricalAtrr:\n",
    "    dataFrame[col] = dataFrame[col].astype('category')\n",
    "url = 'https://api.exchangerate-api.com/v4/latest/EUR'\n",
    "response = requests.get(url)\n",
    "data = json.loads(response.text)\n",
    "rates = data['rates']\n",
    "\n",
    "coversion_dict = {key: float(rates[key]) for key in dataFrame.currencycode.unique()}\n",
    "# Calculate converted amount of money\n",
    "def convert_currency(row):\n",
    "  currency = row['currencycode']\n",
    "  amount = row['amount']\n",
    "  return round(amount * coversion_dict[currency] / 100)\n",
    "\n",
    "# Clean - amount\n",
    "dataFrame['convertedAmount'] = dataFrame.apply(lambda x: convert_currency(x),axis=1)\n",
    "dataFrame['convertedAmount'] = StandardScaler().fit_transform(dataFrame['amount'].values.reshape(-1,1))\n",
    "\n",
    "##Preprocessing stage finished"
   ]
  },
  {
   "cell_type": "code",
   "execution_count": 29,
   "metadata": {},
   "outputs": [
    {
     "name": "stderr",
     "output_type": "stream",
     "text": [
      "/usr/local/lib/python3.7/site-packages/pandas/core/indexing.py:543: SettingWithCopyWarning: \n",
      "A value is trying to be set on a copy of a slice from a DataFrame.\n",
      "Try using .loc[row_indexer,col_indexer] = value instead\n",
      "\n",
      "See the caveats in the documentation: http://pandas.pydata.org/pandas-docs/stable/indexing.html#indexing-view-versus-copy\n",
      "  self.obj[item] = s\n",
      "/usr/local/lib/python3.7/site-packages/ipykernel_launcher.py:8: SettingWithCopyWarning: \n",
      "A value is trying to be set on a copy of a slice from a DataFrame.\n",
      "Try using .loc[row_indexer,col_indexer] = value instead\n",
      "\n",
      "See the caveats in the documentation: http://pandas.pydata.org/pandas-docs/stable/indexing.html#indexing-view-versus-copy\n",
      "  \n"
     ]
    },
    {
     "name": "stdout",
     "output_type": "stream",
     "text": [
      "<class 'pandas.core.frame.DataFrame'>\n",
      "Int64Index: 237036 entries, 0 to 290381\n",
      "Columns: 292 entries, convertedAmount to accountcode_UKAccount\n",
      "dtypes: float64(1), uint8(291)\n",
      "memory usage: 69.4 MB\n"
     ]
    }
   ],
   "source": [
    "dataFrameSubset = dataFrame[['issuercountrycode', 'txvariantcode', 'convertedAmount', 'currencycode', 'shoppercountrycode',\n",
    "                  'shopperinteraction', 'cardverificationcodesupplied', 'cvcresponsecode', 'accountcode',\n",
    "                   'simple_journal']]\n",
    "\n",
    "#ad-hoc endoding of features\n",
    "dataFrameSubset.loc[dataFrameSubset.simple_journal == 'Chargeback', 'simple_journal'] = 1\n",
    "dataFrameSubset.loc[dataFrameSubset.simple_journal == 'Settled', 'simple_journal'] = 0\n",
    "dataFrameSubset['simple_journal'] = dataFrameSubset['simple_journal'].astype('int')\n",
    "labels = dataFrameSubset.simple_journal\n",
    "features = dataFrameSubset.drop('simple_journal', axis=1)\n",
    "features = pd.get_dummies(features)\n",
    "features.info()"
   ]
  },
  {
   "cell_type": "code",
   "execution_count": 30,
   "metadata": {},
   "outputs": [],
   "source": [
    "# Hyperparameter tuning(Probability threshold) \n",
    "def threshold(classifier):\n",
    "# Set some parameters for tuning\n",
    "    probability_threshold = [0.1,0.2,0.3,0.4,0.5,0.6,0.7,0.8,0.9]\n",
    "    smote_r = [0.01, 0.02, 0.05, 0.1, 0.15, 0.2, 0.3, 0.5, 0.75, 1.0]\n",
    "    best_f05 = 0\n",
    "    best_prob_threshold=0\n",
    "    best_smote = 0\n",
    "    for smote_t in smote_r:\n",
    "        smote = SMOTE(ratio= smote_t,random_state = 42)\n",
    "        # Splitting of the dataset (train=80%, test=20%)\n",
    "        X_train, X_test, y_train, y_test = train_test_split(features,labels,test_size = 0.2, random_state = 42)\n",
    "        X_train, y_train = smote.fit_sample(X_train, y_train)\n",
    "        classifier.fit(X_train, y_train)\n",
    "        y_scores = classifier.predict_proba(X_test)[:,1]\n",
    "        # Find best threshold\n",
    "        for prob in probability_threshold:\n",
    "            y_pred = y_scores > prob\n",
    "            tn, fp, fn, tp = confusion_matrix(y_pred=y_pred,y_true=y_test).ravel()\n",
    "            precision = 1.0 * tp / (tp + fp)\n",
    "            recall = 1.0 * tp /(tp + fn)\n",
    "            # Using F_0.5 score as a metric to choose best threshold\n",
    "            f05 = (1 + 0.25)*(precision * recall)/(0.25 *precision + recall)\n",
    "            if f05 > best_f05:\n",
    "                best_smote = smote_t\n",
    "                best_prob_threshold = prob\n",
    "                best_f05 = f05\n",
    "                best_confusion = (tn, fp, fn, tp)\n",
    "                best_classifier = classifier\n",
    "    return best_confusion,best_classifier,best_prob_threshold, best_smote"
   ]
  },
  {
   "cell_type": "code",
   "execution_count": null,
   "metadata": {},
   "outputs": [],
   "source": []
  },
  {
   "cell_type": "code",
   "execution_count": 31,
   "metadata": {},
   "outputs": [
    {
     "name": "stderr",
     "output_type": "stream",
     "text": [
      "/usr/local/lib/python3.7/site-packages/sklearn/linear_model/logistic.py:433: FutureWarning: Default solver will be changed to 'lbfgs' in 0.22. Specify a solver to silence this warning.\n",
      "  FutureWarning)\n",
      "/usr/local/lib/python3.7/site-packages/sklearn/linear_model/logistic.py:433: FutureWarning: Default solver will be changed to 'lbfgs' in 0.22. Specify a solver to silence this warning.\n",
      "  FutureWarning)\n",
      "/usr/local/lib/python3.7/site-packages/sklearn/linear_model/logistic.py:433: FutureWarning: Default solver will be changed to 'lbfgs' in 0.22. Specify a solver to silence this warning.\n",
      "  FutureWarning)\n",
      "/usr/local/lib/python3.7/site-packages/sklearn/linear_model/logistic.py:433: FutureWarning: Default solver will be changed to 'lbfgs' in 0.22. Specify a solver to silence this warning.\n",
      "  FutureWarning)\n",
      "/usr/local/lib/python3.7/site-packages/sklearn/linear_model/logistic.py:433: FutureWarning: Default solver will be changed to 'lbfgs' in 0.22. Specify a solver to silence this warning.\n",
      "  FutureWarning)\n",
      "/usr/local/lib/python3.7/site-packages/sklearn/linear_model/logistic.py:433: FutureWarning: Default solver will be changed to 'lbfgs' in 0.22. Specify a solver to silence this warning.\n",
      "  FutureWarning)\n",
      "/usr/local/lib/python3.7/site-packages/sklearn/linear_model/logistic.py:433: FutureWarning: Default solver will be changed to 'lbfgs' in 0.22. Specify a solver to silence this warning.\n",
      "  FutureWarning)\n",
      "/usr/local/lib/python3.7/site-packages/sklearn/linear_model/logistic.py:433: FutureWarning: Default solver will be changed to 'lbfgs' in 0.22. Specify a solver to silence this warning.\n",
      "  FutureWarning)\n",
      "/usr/local/lib/python3.7/site-packages/sklearn/linear_model/logistic.py:433: FutureWarning: Default solver will be changed to 'lbfgs' in 0.22. Specify a solver to silence this warning.\n",
      "  FutureWarning)\n",
      "/usr/local/lib/python3.7/site-packages/sklearn/linear_model/logistic.py:433: FutureWarning: Default solver will be changed to 'lbfgs' in 0.22. Specify a solver to silence this warning.\n",
      "  FutureWarning)\n"
     ]
    },
    {
     "name": "stdout",
     "output_type": "stream",
     "text": [
      "best threshold: 0.5\n",
      "best smote: 0.01\n"
     ]
    }
   ],
   "source": [
    "\n",
    "# Build a Logistic Regression Classifier with inverted regularization strengh equals 500 and l1 norm in penalty\n",
    "lr = LogisticRegression(C=500, penalty='l1')\n",
    "(tn, fp, fn, tp),best_classifier,BestThreshold, best_smote = threshold(lr)\n",
    "print(\"best threshold: \" + str(BestThreshold))\n",
    "print(\"best smote: \" + str(best_smote))"
   ]
  },
  {
   "cell_type": "code",
   "execution_count": 13,
   "metadata": {},
   "outputs": [
    {
     "data": {
      "image/png": "[encoded data removed]",
      "text/plain": [
       "<Figure size 792x792 with 1 Axes>"
      ]
     },
     "metadata": {
      "needs_background": "light"
     },
     "output_type": "display_data"
    }
   ],
   "source": [
    "\n",
    "# Plot the first 50 features to provide showing a sample of the feature coefficients\n",
    "features_top50 = best_classifier.coef_[:,230:260]\n",
    "features_top50 = [c for c in features_top50[0]]\n",
    "plt.figure(figsize=(11,11))\n",
    "plt.barh(range(30),features_top50)\n",
    "plt.yticks(range(30),features.columns[0:30])\n",
    "plt.show()"
   ]
  },
  {
   "cell_type": "code",
   "execution_count": 32,
   "metadata": {},
   "outputs": [],
   "source": [
    "#Perform 10-fold cross validation and calculate evaluation metrics for both SMOTED and UNSMOTED case\n",
    "def cross_validation_10_fold(classifier, features, labels):\n",
    "\n",
    "    \n",
    "    k_fold = KFold(n_splits=10, shuffle=True, random_state=42)\n",
    "\n",
    "    \n",
    "    TP_all = []\n",
    "    FP_all = []\n",
    "    TN_all = []\n",
    "    FN_all = []\n",
    "    AUC_all = []\n",
    "    accuracy=[]\n",
    "    f1_measure=[]\n",
    "    Recall=[]\n",
    "    precision=[]\n",
    "\n",
    "    for train_index, test_index in k_fold.split(features):\n",
    "        \n",
    "\n",
    "        \n",
    "        features_train, features_test = features.iloc[train_index], features.iloc[test_index]\n",
    "        labels_train, labels_test = labels.iloc[train_index], labels.iloc[test_index]\n",
    "\n",
    "        \n",
    "        oversampling = SMOTE(ratio=best_smote, random_state=42)\n",
    "        features_oversampling, labels_oversampling = oversampling.fit_sample(features_train, labels_train)\n",
    "\n",
    "        \n",
    "        #classifier.fit(features_train, labels_train) , Comment out to evaluare for UNSMOTED case\n",
    "        classifier.fit(features_oversampling, labels_oversampling) \n",
    "        y_scores = classifier.predict_proba(features_test)[:,1]\n",
    "        labels_predicted=y_scores>BestThreshold\n",
    "        \n",
    "        \n",
    "\n",
    "        \n",
    "        labels_predicted = classifier.predict(features_test)\n",
    "        table_of_confusion = confusion_matrix(labels_test, labels_predicted, labels=[1, 0])\n",
    "        \n",
    "        acc= accuracy_score(labels_predicted,labels_test)*100\n",
    "        f1= f1_score(labels_predicted,labels_test)*100\n",
    "        rec= recall_score(labels_predicted,labels_test)*100\n",
    "        prec=precision_score(labels_predicted,labels_test)*100\n",
    "        \n",
    "\n",
    "        TP = table_of_confusion[0][0]\n",
    "        FP = table_of_confusion[1][0]\n",
    "        TN = table_of_confusion[1][1]\n",
    "        FN = table_of_confusion[0][1]\n",
    "\n",
    "        labels_predicted_probability = classifier.predict_proba(features_test)[:, 1]\n",
    "        AUC = roc_auc_score(labels_test, labels_predicted_probability)\n",
    "\n",
    "        \n",
    "        TP_all.append(TP)\n",
    "        FP_all.append(FP)\n",
    "        TN_all.append(TN)\n",
    "        FN_all.append(FN)\n",
    "        AUC_all.append(AUC)\n",
    "        accuracy.append(acc)\n",
    "        f1_measure.append(f1)\n",
    "        Recall.append(rec)\n",
    "        precision.append(prec)\n",
    "\n",
    "    \n",
    "    TP_all = np.array(TP_all)\n",
    "    FP_all = np.array(FP_all)\n",
    "    TN_all = np.array(TN_all)\n",
    "    FN_all = np.array(FN_all)\n",
    "    AUC_all = np.array(AUC_all)\n",
    "    accuracy=np.array(accuracy)\n",
    "    f1_measure=np.array(f1_measure)\n",
    "    Recall=np.array(Recall)\n",
    "    precision=np.array(precision)\n",
    "    print(\"Accuracy: {}\".format(np.mean(accuracy)))\n",
    "    print(\"Recall: {}\".format(np.mean(Recall)))\n",
    "    print(\"Precision: {}\".format(np.mean(precision)))\n",
    "    print(\"F-measure: {}\".format(np.sum(f1_measure)))\n",
    "    print(\"AUC: {}\".format(np.sum(AUC)))\n",
    "    print(\"True positives: {}\".format(np.sum(TP_all)))\n",
    "    print(\"False positives: {}\".format(np.sum(FP_all)))\n",
    "    print(\"True negatives: {}\".format(np.sum(TN_all)))\n",
    "    print(\"False negatives: {}\".format(np.sum(FN_all)))"
   ]
  },
  {
   "cell_type": "code",
   "execution_count": 33,
   "metadata": {},
   "outputs": [
    {
     "name": "stderr",
     "output_type": "stream",
     "text": [
      "/usr/local/lib/python3.7/site-packages/sklearn/linear_model/logistic.py:433: FutureWarning: Default solver will be changed to 'lbfgs' in 0.22. Specify a solver to silence this warning.\n",
      "  FutureWarning)\n",
      "/usr/local/lib/python3.7/site-packages/sklearn/linear_model/logistic.py:433: FutureWarning: Default solver will be changed to 'lbfgs' in 0.22. Specify a solver to silence this warning.\n",
      "  FutureWarning)\n",
      "/usr/local/lib/python3.7/site-packages/sklearn/linear_model/logistic.py:433: FutureWarning: Default solver will be changed to 'lbfgs' in 0.22. Specify a solver to silence this warning.\n",
      "  FutureWarning)\n",
      "/usr/local/lib/python3.7/site-packages/sklearn/linear_model/logistic.py:433: FutureWarning: Default solver will be changed to 'lbfgs' in 0.22. Specify a solver to silence this warning.\n",
      "  FutureWarning)\n",
      "/usr/local/lib/python3.7/site-packages/sklearn/linear_model/logistic.py:433: FutureWarning: Default solver will be changed to 'lbfgs' in 0.22. Specify a solver to silence this warning.\n",
      "  FutureWarning)\n",
      "/usr/local/lib/python3.7/site-packages/sklearn/linear_model/logistic.py:433: FutureWarning: Default solver will be changed to 'lbfgs' in 0.22. Specify a solver to silence this warning.\n",
      "  FutureWarning)\n",
      "/usr/local/lib/python3.7/site-packages/sklearn/linear_model/logistic.py:433: FutureWarning: Default solver will be changed to 'lbfgs' in 0.22. Specify a solver to silence this warning.\n",
      "  FutureWarning)\n",
      "/usr/local/lib/python3.7/site-packages/sklearn/linear_model/logistic.py:433: FutureWarning: Default solver will be changed to 'lbfgs' in 0.22. Specify a solver to silence this warning.\n",
      "  FutureWarning)\n",
      "/usr/local/lib/python3.7/site-packages/sklearn/linear_model/logistic.py:433: FutureWarning: Default solver will be changed to 'lbfgs' in 0.22. Specify a solver to silence this warning.\n",
      "  FutureWarning)\n",
      "/usr/local/lib/python3.7/site-packages/sklearn/linear_model/logistic.py:433: FutureWarning: Default solver will be changed to 'lbfgs' in 0.22. Specify a solver to silence this warning.\n",
      "  FutureWarning)\n"
     ]
    },
    {
     "name": "stdout",
     "output_type": "stream",
     "text": [
      "Accuracy: 99.82618684272207\n",
      "Recall: 11.635281385281385\n",
      "Precision: 2.612443847008236\n",
      "F-measure: 41.31585805498849\n",
      "AUC: 0.9039173543525778\n",
      "True positives: 9\n",
      "False positives: 76\n",
      "True negatives: 236615\n",
      "False negatives: 336\n"
     ]
    }
   ],
   "source": [
    "\n",
    "classifier=LogisticRegression(C=500, penalty='l1')\n",
    "cross_validation_10_fold(classifier, features, labels)"
   ]
  },
  {
   "cell_type": "code",
   "execution_count": null,
   "metadata": {},
   "outputs": [],
   "source": []
  }
 ],
 "metadata": {
  "kernelspec": {
   "display_name": "Python 2",
   "language": "python",
   "name": "python2"
  },
  "language_info": {
   "codemirror_mode": {
    "name": "ipython",
    "version": 3
   },
   "file_extension": ".py",
   "mimetype": "text/x-python",
   "name": "python",
   "nbconvert_exporter": "python",
   "pygments_lexer": "ipython3",
   "version": "3.7.2"
  }
 },
 "nbformat": 4,
 "nbformat_minor": 2
}
